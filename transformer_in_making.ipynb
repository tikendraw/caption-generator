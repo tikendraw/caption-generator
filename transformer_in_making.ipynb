{
  "cells": [
    {
      "attachments": {},
      "cell_type": "markdown",
      "metadata": {
        "colab_type": "text",
        "id": "view-in-github"
      },
      "source": [
        "<a href=\"https://colab.research.google.com/github/tikendraw/caption-generator/blob/main/transformer_in_making.ipynb\" target=\"_parent\"><img src=\"https://colab.research.google.com/assets/colab-badge.svg\" alt=\"Open In Colab\"/></a>"
      ]
    },
    {
      "cell_type": "code",
      "execution_count": 1,
      "metadata": {
        "id": "3kB8X0Q-W5q4",
        "outputId": "f038711a-8f95-4034-9a6e-5f742ef17f86"
      },
      "outputs": [
        {
          "data": {
            "application/javascript": "\n            setTimeout(function() {\n                var nbb_cell_id = 1;\n                var nbb_unformatted_code = \"%load_ext nb_black\";\n                var nbb_formatted_code = \"%load_ext nb_black\";\n                var nbb_cells = Jupyter.notebook.get_cells();\n                for (var i = 0; i < nbb_cells.length; ++i) {\n                    if (nbb_cells[i].input_prompt_number == nbb_cell_id) {\n                        if (nbb_cells[i].get_text() == nbb_unformatted_code) {\n                             nbb_cells[i].set_text(nbb_formatted_code);\n                        }\n                        break;\n                    }\n                }\n            }, 500);\n            ",
            "text/plain": [
              "<IPython.core.display.Javascript object>"
            ]
          },
          "metadata": {},
          "output_type": "display_data"
        }
      ],
      "source": [
        "%load_ext nb_black\n"
      ]
    },
    {
      "cell_type": "code",
      "execution_count": 2,
      "metadata": {
        "colab": {
          "base_uri": "https://localhost:8080/"
        },
        "id": "TjWLXbyrXDaD",
        "outputId": "b109958b-624a-4fbb-efa4-83a5879d38f4"
      },
      "outputs": [
        {
          "data": {
            "application/javascript": "\n            setTimeout(function() {\n                var nbb_cell_id = 2;\n                var nbb_unformatted_code = \"import os, sys\\n\\nif 'google.colab' in sys.modules:\\n    !git clone https://github.com/tikendraw/caption-generator.git\\n    !git clone https://github.com/tikendraw/funcyou.git\\n    !pip install funcyou/.\\n    os.chdir('caption-generator')\\n    print(os.getcwd())\";\n                var nbb_formatted_code = \"import os, sys\\n\\nif \\\"google.colab\\\" in sys.modules:\\n    !git clone https://github.com/tikendraw/caption-generator.git\\n    !git clone https://github.com/tikendraw/funcyou.git\\n    !pip install funcyou/.\\n    os.chdir(\\\"caption-generator\\\")\\n    print(os.getcwd())\";\n                var nbb_cells = Jupyter.notebook.get_cells();\n                for (var i = 0; i < nbb_cells.length; ++i) {\n                    if (nbb_cells[i].input_prompt_number == nbb_cell_id) {\n                        if (nbb_cells[i].get_text() == nbb_unformatted_code) {\n                             nbb_cells[i].set_text(nbb_formatted_code);\n                        }\n                        break;\n                    }\n                }\n            }, 500);\n            ",
            "text/plain": [
              "<IPython.core.display.Javascript object>"
            ]
          },
          "metadata": {},
          "output_type": "display_data"
        }
      ],
      "source": [
        "import os, sys\n",
        "\n",
        "if 'google.colab' in sys.modules:\n",
        "    !git clone https://github.com/tikendraw/caption-generator.git\n",
        "    !git clone https://github.com/tikendraw/funcyou.git\n",
        "    !pip install funcyou/.\n",
        "    os.chdir('caption-generator')\n",
        "    print(os.getcwd())"
      ]
    },
    {
      "cell_type": "code",
      "execution_count": null,
      "metadata": {
        "colab": {
          "base_uri": "https://localhost:8080/",
          "height": 35
        },
        "id": "IoD4NVtkXeIS",
        "outputId": "aef0f508-74c9-4866-b9c8-0e3661e47953"
      },
      "outputs": [],
      "source": []
    },
    {
      "cell_type": "code",
      "execution_count": 3,
      "metadata": {
        "colab": {
          "base_uri": "https://localhost:8080/"
        },
        "id": "akNmPSQCW5q7",
        "outputId": "6952a7b5-089f-4604-ae36-19afcc80fb15"
      },
      "outputs": [
        {
          "name": "stderr",
          "output_type": "stream",
          "text": [
            "2023-05-24 19:58:44.890541: I tensorflow/core/platform/cpu_feature_guard.cc:182] This TensorFlow binary is optimized to use available CPU instructions in performance-critical operations.\n",
            "To enable the following instructions: AVX2 FMA, in other operations, rebuild TensorFlow with the appropriate compiler flags.\n",
            "2023-05-24 19:58:45.678501: W tensorflow/compiler/tf2tensorrt/utils/py_utils.cc:38] TF-TRT Warning: Could not find TensorRT\n",
            "2023-05-24 19:58:47.053413: I tensorflow/compiler/xla/stream_executor/cuda/cuda_gpu_executor.cc:996] successful NUMA node read from SysFS had negative value (-1), but there must be at least one NUMA node, so returning NUMA node zero. See more at https://github.com/torvalds/linux/blob/v6.0/Documentation/ABI/testing/sysfs-bus-pci#L344-L355\n",
            "2023-05-24 19:58:47.078386: I tensorflow/compiler/xla/stream_executor/cuda/cuda_gpu_executor.cc:996] successful NUMA node read from SysFS had negative value (-1), but there must be at least one NUMA node, so returning NUMA node zero. See more at https://github.com/torvalds/linux/blob/v6.0/Documentation/ABI/testing/sysfs-bus-pci#L344-L355\n",
            "2023-05-24 19:58:47.078612: I tensorflow/compiler/xla/stream_executor/cuda/cuda_gpu_executor.cc:996] successful NUMA node read from SysFS had negative value (-1), but there must be at least one NUMA node, so returning NUMA node zero. See more at https://github.com/torvalds/linux/blob/v6.0/Documentation/ABI/testing/sysfs-bus-pci#L344-L355\n",
            "2023-05-24 19:58:47.079807: I tensorflow/compiler/xla/stream_executor/cuda/cuda_gpu_executor.cc:996] successful NUMA node read from SysFS had negative value (-1), but there must be at least one NUMA node, so returning NUMA node zero. See more at https://github.com/torvalds/linux/blob/v6.0/Documentation/ABI/testing/sysfs-bus-pci#L344-L355\n",
            "2023-05-24 19:58:47.079976: I tensorflow/compiler/xla/stream_executor/cuda/cuda_gpu_executor.cc:996] successful NUMA node read from SysFS had negative value (-1), but there must be at least one NUMA node, so returning NUMA node zero. See more at https://github.com/torvalds/linux/blob/v6.0/Documentation/ABI/testing/sysfs-bus-pci#L344-L355\n",
            "2023-05-24 19:58:47.080117: I tensorflow/compiler/xla/stream_executor/cuda/cuda_gpu_executor.cc:996] successful NUMA node read from SysFS had negative value (-1), but there must be at least one NUMA node, so returning NUMA node zero. See more at https://github.com/torvalds/linux/blob/v6.0/Documentation/ABI/testing/sysfs-bus-pci#L344-L355\n",
            "2023-05-24 19:58:47.698808: I tensorflow/compiler/xla/stream_executor/cuda/cuda_gpu_executor.cc:996] successful NUMA node read from SysFS had negative value (-1), but there must be at least one NUMA node, so returning NUMA node zero. See more at https://github.com/torvalds/linux/blob/v6.0/Documentation/ABI/testing/sysfs-bus-pci#L344-L355\n",
            "2023-05-24 19:58:47.699043: I tensorflow/compiler/xla/stream_executor/cuda/cuda_gpu_executor.cc:996] successful NUMA node read from SysFS had negative value (-1), but there must be at least one NUMA node, so returning NUMA node zero. See more at https://github.com/torvalds/linux/blob/v6.0/Documentation/ABI/testing/sysfs-bus-pci#L344-L355\n",
            "2023-05-24 19:58:47.699189: I tensorflow/compiler/xla/stream_executor/cuda/cuda_gpu_executor.cc:996] successful NUMA node read from SysFS had negative value (-1), but there must be at least one NUMA node, so returning NUMA node zero. See more at https://github.com/torvalds/linux/blob/v6.0/Documentation/ABI/testing/sysfs-bus-pci#L344-L355\n",
            "2023-05-24 19:58:47.699298: I tensorflow/core/common_runtime/gpu/gpu_device.cc:1635] Created device /job:localhost/replica:0/task:0/device:GPU:0 with 2050 MB memory:  -> device: 0, name: NVIDIA GeForce GTX 1650, pci bus id: 0000:01:00.0, compute capability: 7.5\n"
          ]
        },
        {
          "data": {
            "application/javascript": "\n            setTimeout(function() {\n                var nbb_cell_id = 3;\n                var nbb_unformatted_code = \"import os, sys\\nimport numpy as np\\nimport pandas as pd\\nimport random, math\\nimport tensorflow as tf\\nimport glob\\nimport shutil\\nfrom zipfile import ZipFile\\nimport datetime\\nimport sys\\nfrom functools import cache\\nfrom pathlib import Path\\nfrom tqdm import tqdm\\nimport regex as re\\n\\nos.environ['TF_CPP_MIN_LOG_LEVEL'] = '2' \\n\\nfrom sklearn.model_selection import train_test_split\\n\\n\\nfrom tensorflow.keras.applications.resnet50 import preprocess_input as resnet_preprocessing\\nfrom tensorflow.keras.layers import (\\n    TextVectorization, Embedding, LSTM, GRU, Bidirectional, TimeDistributed, Dense, Attention, MultiHeadAttention, Flatten, Dropout,\\n    Concatenate, Activation, GlobalAveragePooling2D\\n    )\\nfrom tensorflow.keras.layers import LSTM, Embedding, Input, Dense, Dropout, Concatenate\\nfrom tensorflow.keras.models import Model\\nfrom tensorflow.keras import backend as K\\nfrom tensorflow.keras.layers import Layer\\nfrom tensorflow import keras\\nfrom tensorflow.keras.utils import array_to_img, img_to_array\\nimport string\\nfrom preprocessing import preprocess_text, mapper, clean_words\\nfrom utils import create_model_checkpoint\\n\\nfrom config import config\\n\\nfrom get_data import download_dataset\\nfrom funcyou.dataset import download_kaggle_dataset\";\n                var nbb_formatted_code = \"import os, sys\\nimport numpy as np\\nimport pandas as pd\\nimport random, math\\nimport tensorflow as tf\\nimport glob\\nimport shutil\\nfrom zipfile import ZipFile\\nimport datetime\\nimport sys\\nfrom functools import cache\\nfrom pathlib import Path\\nfrom tqdm import tqdm\\nimport regex as re\\n\\nos.environ[\\\"TF_CPP_MIN_LOG_LEVEL\\\"] = \\\"2\\\"\\n\\nfrom sklearn.model_selection import train_test_split\\n\\n\\nfrom tensorflow.keras.applications.resnet50 import (\\n    preprocess_input as resnet_preprocessing,\\n)\\nfrom tensorflow.keras.layers import (\\n    TextVectorization,\\n    Embedding,\\n    LSTM,\\n    GRU,\\n    Bidirectional,\\n    TimeDistributed,\\n    Dense,\\n    Attention,\\n    MultiHeadAttention,\\n    Flatten,\\n    Dropout,\\n    Concatenate,\\n    Activation,\\n    GlobalAveragePooling2D,\\n)\\nfrom tensorflow.keras.layers import LSTM, Embedding, Input, Dense, Dropout, Concatenate\\nfrom tensorflow.keras.models import Model\\nfrom tensorflow.keras import backend as K\\nfrom tensorflow.keras.layers import Layer\\nfrom tensorflow import keras\\nfrom tensorflow.keras.utils import array_to_img, img_to_array\\nimport string\\nfrom preprocessing import preprocess_text, mapper, clean_words\\nfrom utils import create_model_checkpoint\\n\\nfrom config import config\\n\\nfrom get_data import download_dataset\\nfrom funcyou.dataset import download_kaggle_dataset\";\n                var nbb_cells = Jupyter.notebook.get_cells();\n                for (var i = 0; i < nbb_cells.length; ++i) {\n                    if (nbb_cells[i].input_prompt_number == nbb_cell_id) {\n                        if (nbb_cells[i].get_text() == nbb_unformatted_code) {\n                             nbb_cells[i].set_text(nbb_formatted_code);\n                        }\n                        break;\n                    }\n                }\n            }, 500);\n            ",
            "text/plain": [
              "<IPython.core.display.Javascript object>"
            ]
          },
          "metadata": {},
          "output_type": "display_data"
        }
      ],
      "source": [
        "import os, sys\n",
        "import numpy as np\n",
        "import pandas as pd\n",
        "import random, math\n",
        "import tensorflow as tf\n",
        "import glob\n",
        "import shutil\n",
        "from zipfile import ZipFile\n",
        "import datetime\n",
        "import sys\n",
        "from functools import cache\n",
        "from pathlib import Path\n",
        "from tqdm import tqdm\n",
        "import regex as re\n",
        "\n",
        "os.environ['TF_CPP_MIN_LOG_LEVEL'] = '2' \n",
        "\n",
        "from sklearn.model_selection import train_test_split\n",
        "\n",
        "\n",
        "from tensorflow.keras.applications.resnet50 import preprocess_input as resnet_preprocessing\n",
        "from tensorflow.keras.layers import (\n",
        "    TextVectorization, Embedding, LSTM, GRU, Bidirectional, TimeDistributed, Dense, Attention, MultiHeadAttention, Flatten, Dropout,\n",
        "    Concatenate, Activation, GlobalAveragePooling2D\n",
        "    )\n",
        "from tensorflow.keras.layers import LSTM, Embedding, Input, Dense, Dropout, Concatenate\n",
        "from tensorflow.keras.models import Model\n",
        "from tensorflow.keras import backend as K\n",
        "from tensorflow.keras.layers import Layer\n",
        "from tensorflow import keras\n",
        "from tensorflow.keras.utils import array_to_img, img_to_array\n",
        "import string\n",
        "from preprocessing import preprocess_text, mapper, clean_words\n",
        "from utils import create_model_checkpoint\n",
        "\n",
        "from config import config\n",
        "\n",
        "from get_data import download_dataset\n",
        "from funcyou.dataset import download_kaggle_dataset"
      ]
    },
    {
      "cell_type": "code",
      "execution_count": 4,
      "metadata": {
        "id": "NIg6PfJWW5q8"
      },
      "outputs": [
        {
          "data": {
            "application/javascript": "\n            setTimeout(function() {\n                var nbb_cell_id = 4;\n                var nbb_unformatted_code = \"BATCH_SIZE =    config.BATCH_SIZE\\nIMG_SIZE =      config.IMG_SIZE\\nCHANNELS =      config.CHANNELS\\nIMG_SHAPE =     config.IMG_SHAPE\\nMAX_LEN =       config.MAX_LEN\\nEPOCHS =        config.EPOCHS\\nLEARNING_RATE = config.LEARNING_RATE\\nUNITS =         config.UNITS\\nraw_caption_file =  config.raw_caption_file\\ncaption_file =  config.caption_file\\nimage_dir =     config.image_dir\\nglove_path =    config.glove_path\\nTEST_SIZE =     config.TEST_SIZE\\nVAL_SIZE=       config.VAL_SIZE\\nEMBEDDING_DIMENSION =   config.EMBEDDING_DIMENSION \";\n                var nbb_formatted_code = \"BATCH_SIZE = config.BATCH_SIZE\\nIMG_SIZE = config.IMG_SIZE\\nCHANNELS = config.CHANNELS\\nIMG_SHAPE = config.IMG_SHAPE\\nMAX_LEN = config.MAX_LEN\\nEPOCHS = config.EPOCHS\\nLEARNING_RATE = config.LEARNING_RATE\\nUNITS = config.UNITS\\nraw_caption_file = config.raw_caption_file\\ncaption_file = config.caption_file\\nimage_dir = config.image_dir\\nglove_path = config.glove_path\\nTEST_SIZE = config.TEST_SIZE\\nVAL_SIZE = config.VAL_SIZE\\nEMBEDDING_DIMENSION = config.EMBEDDING_DIMENSION\";\n                var nbb_cells = Jupyter.notebook.get_cells();\n                for (var i = 0; i < nbb_cells.length; ++i) {\n                    if (nbb_cells[i].input_prompt_number == nbb_cell_id) {\n                        if (nbb_cells[i].get_text() == nbb_unformatted_code) {\n                             nbb_cells[i].set_text(nbb_formatted_code);\n                        }\n                        break;\n                    }\n                }\n            }, 500);\n            ",
            "text/plain": [
              "<IPython.core.display.Javascript object>"
            ]
          },
          "metadata": {},
          "output_type": "display_data"
        }
      ],
      "source": [
        "BATCH_SIZE =    config.BATCH_SIZE\n",
        "IMG_SIZE =      config.IMG_SIZE\n",
        "CHANNELS =      config.CHANNELS\n",
        "IMG_SHAPE =     config.IMG_SHAPE\n",
        "MAX_LEN =       config.MAX_LEN\n",
        "EPOCHS =        config.EPOCHS\n",
        "LEARNING_RATE = config.LEARNING_RATE\n",
        "UNITS =         config.UNITS\n",
        "raw_caption_file =  config.raw_caption_file\n",
        "caption_file =  config.caption_file\n",
        "image_dir =     config.image_dir\n",
        "glove_path =    config.glove_path\n",
        "TEST_SIZE =     config.TEST_SIZE\n",
        "VAL_SIZE=       config.VAL_SIZE\n",
        "EMBEDDING_DIMENSION =   config.EMBEDDING_DIMENSION "
      ]
    },
    {
      "cell_type": "code",
      "execution_count": 5,
      "metadata": {
        "colab": {
          "base_uri": "https://localhost:8080/"
        },
        "id": "vZLtINdIW5q8",
        "outputId": "814ebd1e-db96-4254-efae-ee859322a667"
      },
      "outputs": [
        {
          "name": "stdout",
          "output_type": "stream",
          "text": [
            "BATCH_SIZE=8\n",
            "IMG_SIZE=256\n",
            "CHANNELS=3\n",
            "IMG_SHAPE=(256, 256, 3)\n",
            "MAX_LEN=50\n",
            "EPOCHS=10\n",
            "LEARNING_RATE=0.01\n",
            "UNITS=16\n",
            "raw_caption_file=PosixPath('input/flickr30k/results.csv')\n",
            "caption_file=PosixPath('input/flickr30k/results_cleaned.csv')\n",
            "image_dir=PosixPath('input/flickr30k/images')\n",
            "\n",
            "glove_path=PosixPath('embedding/glove.6B.50d.zip')\n",
            "TEST_SIZE=0.05\n",
            "VAL_SIZE=0.05\n",
            "EMBEDDING_DIMENSION=50\n"
          ]
        },
        {
          "data": {
            "application/javascript": "\n            setTimeout(function() {\n                var nbb_cell_id = 5;\n                var nbb_unformatted_code = \"print(f'''{BATCH_SIZE=}\\n{IMG_SIZE=}\\n{CHANNELS=}\\n{IMG_SHAPE=}\\n{MAX_LEN=}\\n{EPOCHS=}\\n{LEARNING_RATE=}\\n{UNITS=}\\n{raw_caption_file=}\\n{caption_file=}\\n{image_dir=}\\n\\n{glove_path=}\\n{TEST_SIZE=}\\n{VAL_SIZE=}\\n{EMBEDDING_DIMENSION=}''')\";\n                var nbb_formatted_code = \"print(\\n    f\\\"\\\"\\\"{BATCH_SIZE=}\\n{IMG_SIZE=}\\n{CHANNELS=}\\n{IMG_SHAPE=}\\n{MAX_LEN=}\\n{EPOCHS=}\\n{LEARNING_RATE=}\\n{UNITS=}\\n{raw_caption_file=}\\n{caption_file=}\\n{image_dir=}\\n\\n{glove_path=}\\n{TEST_SIZE=}\\n{VAL_SIZE=}\\n{EMBEDDING_DIMENSION=}\\\"\\\"\\\"\\n)\";\n                var nbb_cells = Jupyter.notebook.get_cells();\n                for (var i = 0; i < nbb_cells.length; ++i) {\n                    if (nbb_cells[i].input_prompt_number == nbb_cell_id) {\n                        if (nbb_cells[i].get_text() == nbb_unformatted_code) {\n                             nbb_cells[i].set_text(nbb_formatted_code);\n                        }\n                        break;\n                    }\n                }\n            }, 500);\n            ",
            "text/plain": [
              "<IPython.core.display.Javascript object>"
            ]
          },
          "metadata": {},
          "output_type": "display_data"
        }
      ],
      "source": [
        "print(f'''{BATCH_SIZE=}\n",
        "{IMG_SIZE=}\n",
        "{CHANNELS=}\n",
        "{IMG_SHAPE=}\n",
        "{MAX_LEN=}\n",
        "{EPOCHS=}\n",
        "{LEARNING_RATE=}\n",
        "{UNITS=}\n",
        "{raw_caption_file=}\n",
        "{caption_file=}\n",
        "{image_dir=}\n",
        "\n",
        "{glove_path=}\n",
        "{TEST_SIZE=}\n",
        "{VAL_SIZE=}\n",
        "{EMBEDDING_DIMENSION=}''')"
      ]
    },
    {
      "cell_type": "code",
      "execution_count": 6,
      "metadata": {
        "id": "m0RdhZBOW5q9"
      },
      "outputs": [
        {
          "data": {
            "application/javascript": "\n            setTimeout(function() {\n                var nbb_cell_id = 6;\n                var nbb_unformatted_code = \"batch_size = 8\\nimage_size = 256  # We'll resize input images to this size\\npatch_size = 42  # Size of the patches to be extract from the input images\\nnum_patches = (image_size // patch_size) ** 2 # trich here is to match max_len to num_patches for matching the shapes for concatination\\nmax_len = 36\\n\\nassert max_len == num_patches\\n\\nd_model = 128\\n\\n\\nnum_heads = 4\\ntransformer_units = [\\n    d_model * 2,\\n    d_model,\\n]  # Size of the transformer layers\\ntransformer_layers = 8\\nmlp_head_units = [2048, 1024]\";\n                var nbb_formatted_code = \"batch_size = 8\\nimage_size = 256  # We'll resize input images to this size\\npatch_size = 42  # Size of the patches to be extract from the input images\\nnum_patches = (\\n    image_size // patch_size\\n) ** 2  # trich here is to match max_len to num_patches for matching the shapes for concatination\\nmax_len = 36\\n\\nassert max_len == num_patches\\n\\nd_model = 128\\n\\n\\nnum_heads = 4\\ntransformer_units = [\\n    d_model * 2,\\n    d_model,\\n]  # Size of the transformer layers\\ntransformer_layers = 8\\nmlp_head_units = [2048, 1024]\";\n                var nbb_cells = Jupyter.notebook.get_cells();\n                for (var i = 0; i < nbb_cells.length; ++i) {\n                    if (nbb_cells[i].input_prompt_number == nbb_cell_id) {\n                        if (nbb_cells[i].get_text() == nbb_unformatted_code) {\n                             nbb_cells[i].set_text(nbb_formatted_code);\n                        }\n                        break;\n                    }\n                }\n            }, 500);\n            ",
            "text/plain": [
              "<IPython.core.display.Javascript object>"
            ]
          },
          "metadata": {},
          "output_type": "display_data"
        }
      ],
      "source": [
        "batch_size = 8\n",
        "image_size = 256  # We'll resize input images to this size\n",
        "patch_size = 42  # Size of the patches to be extract from the input images\n",
        "num_patches = (image_size // patch_size) ** 2 # trich here is to match max_len to num_patches for matching the shapes for concatination\n",
        "max_len = 36\n",
        "\n",
        "assert max_len == num_patches\n",
        "\n",
        "d_model = 128\n",
        "\n",
        "\n",
        "num_heads = 4\n",
        "transformer_units = [\n",
        "    d_model * 2,\n",
        "    d_model,\n",
        "]  # Size of the transformer layers\n",
        "transformer_layers = 8\n",
        "mlp_head_units = [2048, 1024]"
      ]
    },
    {
      "attachments": {},
      "cell_type": "markdown",
      "metadata": {
        "id": "VnfEMhNGW5q9"
      },
      "source": [
        "![image](https://github.com/tikendraw/caption-generator/blob/main/'./transformer.png'?raw=1)"
      ]
    },
    {
      "attachments": {},
      "cell_type": "markdown",
      "metadata": {
        "id": "9KbnDfOLW5q-"
      },
      "source": [
        "# Positional Encoding for text"
      ]
    },
    {
      "cell_type": "code",
      "execution_count": 7,
      "metadata": {
        "id": "S2yMtJYwW5q_"
      },
      "outputs": [
        {
          "data": {
            "application/javascript": "\n            setTimeout(function() {\n                var nbb_cell_id = 7;\n                var nbb_unformatted_code = \"def positional_encoding(length, depth):\\n  depth = depth/2\\n\\n  positions = np.arange(length)[:, np.newaxis]     # (seq, 1)\\n  depths = np.arange(depth)[np.newaxis, :]/depth   # (1, depth)\\n\\n  angle_rates = 1 / (10000**depths)         # (1, depth)\\n  angle_rads = positions * angle_rates      # (pos, depth)\\n\\n  pos_encoding = np.concatenate(\\n      [np.sin(angle_rads), np.cos(angle_rads)],\\n      axis=-1) \\n\\n  return tf.cast(pos_encoding, dtype=tf.float32)\";\n                var nbb_formatted_code = \"def positional_encoding(length, depth):\\n    depth = depth / 2\\n\\n    positions = np.arange(length)[:, np.newaxis]  # (seq, 1)\\n    depths = np.arange(depth)[np.newaxis, :] / depth  # (1, depth)\\n\\n    angle_rates = 1 / (10000**depths)  # (1, depth)\\n    angle_rads = positions * angle_rates  # (pos, depth)\\n\\n    pos_encoding = np.concatenate([np.sin(angle_rads), np.cos(angle_rads)], axis=-1)\\n\\n    return tf.cast(pos_encoding, dtype=tf.float32)\";\n                var nbb_cells = Jupyter.notebook.get_cells();\n                for (var i = 0; i < nbb_cells.length; ++i) {\n                    if (nbb_cells[i].input_prompt_number == nbb_cell_id) {\n                        if (nbb_cells[i].get_text() == nbb_unformatted_code) {\n                             nbb_cells[i].set_text(nbb_formatted_code);\n                        }\n                        break;\n                    }\n                }\n            }, 500);\n            ",
            "text/plain": [
              "<IPython.core.display.Javascript object>"
            ]
          },
          "metadata": {},
          "output_type": "display_data"
        }
      ],
      "source": [
        "def positional_encoding(length, depth):\n",
        "  depth = depth/2\n",
        "\n",
        "  positions = np.arange(length)[:, np.newaxis]     # (seq, 1)\n",
        "  depths = np.arange(depth)[np.newaxis, :]/depth   # (1, depth)\n",
        "\n",
        "  angle_rates = 1 / (10000**depths)         # (1, depth)\n",
        "  angle_rads = positions * angle_rates      # (pos, depth)\n",
        "\n",
        "  pos_encoding = np.concatenate(\n",
        "      [np.sin(angle_rads), np.cos(angle_rads)],\n",
        "      axis=-1) \n",
        "\n",
        "  return tf.cast(pos_encoding, dtype=tf.float32)"
      ]
    },
    {
      "cell_type": "code",
      "execution_count": 8,
      "metadata": {
        "colab": {
          "base_uri": "https://localhost:8080/"
        },
        "id": "hNz2ITlNW5q_",
        "outputId": "25e59390-457c-4bba-9e81-60b11bb674d1"
      },
      "outputs": [
        {
          "data": {
            "text/plain": [
              "(TensorShape([10, 4]),\n",
              " <tf.Tensor: shape=(10, 4), dtype=float32, numpy=\n",
              " array([[ 0.        ,  0.        ,  1.        ,  1.        ],\n",
              "        [ 0.84147096,  0.00999983,  0.5403023 ,  0.99995   ],\n",
              "        [ 0.9092974 ,  0.01999867, -0.41614684,  0.9998    ],\n",
              "        [ 0.14112   ,  0.0299955 , -0.9899925 ,  0.99955004],\n",
              "        [-0.7568025 ,  0.03998933, -0.6536436 ,  0.9992001 ],\n",
              "        [-0.9589243 ,  0.04997917,  0.2836622 ,  0.99875027],\n",
              "        [-0.2794155 ,  0.059964  ,  0.96017027,  0.99820054],\n",
              "        [ 0.6569866 ,  0.06994285,  0.75390226,  0.997551  ],\n",
              "        [ 0.98935825,  0.0799147 , -0.14550003,  0.99680173],\n",
              "        [ 0.4121185 ,  0.08987855, -0.91113025,  0.9959527 ]],\n",
              "       dtype=float32)>)"
            ]
          },
          "execution_count": 8,
          "metadata": {},
          "output_type": "execute_result"
        },
        {
          "data": {
            "application/javascript": "\n            setTimeout(function() {\n                var nbb_cell_id = 8;\n                var nbb_unformatted_code = \"a = positional_encoding(10, 4)\\na.shape, a\";\n                var nbb_formatted_code = \"a = positional_encoding(10, 4)\\na.shape, a\";\n                var nbb_cells = Jupyter.notebook.get_cells();\n                for (var i = 0; i < nbb_cells.length; ++i) {\n                    if (nbb_cells[i].input_prompt_number == nbb_cell_id) {\n                        if (nbb_cells[i].get_text() == nbb_unformatted_code) {\n                             nbb_cells[i].set_text(nbb_formatted_code);\n                        }\n                        break;\n                    }\n                }\n            }, 500);\n            ",
            "text/plain": [
              "<IPython.core.display.Javascript object>"
            ]
          },
          "metadata": {},
          "output_type": "display_data"
        }
      ],
      "source": [
        "a = positional_encoding(10, 4)\n",
        "a.shape, a"
      ]
    },
    {
      "cell_type": "code",
      "execution_count": 9,
      "metadata": {
        "id": "0JWq1Of-W5q_"
      },
      "outputs": [
        {
          "data": {
            "application/javascript": "\n            setTimeout(function() {\n                var nbb_cell_id = 9;\n                var nbb_unformatted_code = \"class PositionalEmbedding(tf.keras.layers.Layer):\\n  def __init__(self, vocab_size, d_model):\\n    super().__init__()\\n    self.d_model = d_model\\n    self.embedding = tf.keras.layers.Embedding(vocab_size, d_model, mask_zero=True) \\n    self.pos_encoding = positional_encoding(length=2048, depth=d_model)\\n\\n  def compute_mask(self, *args, **kwargs):\\n    return self.embedding.compute_mask(*args, **kwargs)\\n\\n  def call(self, x):\\n    length = tf.shape(x)[1]\\n    x = self.embedding(x)\\n    # This factor sets the relative scale of the embedding and positonal_encoding.\\n    x *= tf.math.sqrt(tf.cast(self.d_model, tf.float32))\\n    x = x + self.pos_encoding[tf.newaxis, :length, :]\\n    return x\";\n                var nbb_formatted_code = \"class PositionalEmbedding(tf.keras.layers.Layer):\\n    def __init__(self, vocab_size, d_model):\\n        super().__init__()\\n        self.d_model = d_model\\n        self.embedding = tf.keras.layers.Embedding(vocab_size, d_model, mask_zero=True)\\n        self.pos_encoding = positional_encoding(length=2048, depth=d_model)\\n\\n    def compute_mask(self, *args, **kwargs):\\n        return self.embedding.compute_mask(*args, **kwargs)\\n\\n    def call(self, x):\\n        length = tf.shape(x)[1]\\n        x = self.embedding(x)\\n        # This factor sets the relative scale of the embedding and positonal_encoding.\\n        x *= tf.math.sqrt(tf.cast(self.d_model, tf.float32))\\n        x = x + self.pos_encoding[tf.newaxis, :length, :]\\n        return x\";\n                var nbb_cells = Jupyter.notebook.get_cells();\n                for (var i = 0; i < nbb_cells.length; ++i) {\n                    if (nbb_cells[i].input_prompt_number == nbb_cell_id) {\n                        if (nbb_cells[i].get_text() == nbb_unformatted_code) {\n                             nbb_cells[i].set_text(nbb_formatted_code);\n                        }\n                        break;\n                    }\n                }\n            }, 500);\n            ",
            "text/plain": [
              "<IPython.core.display.Javascript object>"
            ]
          },
          "metadata": {},
          "output_type": "display_data"
        }
      ],
      "source": [
        "class PositionalEmbedding(tf.keras.layers.Layer):\n",
        "  def __init__(self, vocab_size, d_model):\n",
        "    super().__init__()\n",
        "    self.d_model = d_model\n",
        "    self.embedding = tf.keras.layers.Embedding(vocab_size, d_model, mask_zero=True) \n",
        "    self.pos_encoding = positional_encoding(length=2048, depth=d_model)\n",
        "\n",
        "  def compute_mask(self, *args, **kwargs):\n",
        "    return self.embedding.compute_mask(*args, **kwargs)\n",
        "\n",
        "  def call(self, x):\n",
        "    length = tf.shape(x)[1]\n",
        "    x = self.embedding(x)\n",
        "    # This factor sets the relative scale of the embedding and positonal_encoding.\n",
        "    x *= tf.math.sqrt(tf.cast(self.d_model, tf.float32))\n",
        "    x = x + self.pos_encoding[tf.newaxis, :length, :]\n",
        "    return x"
      ]
    },
    {
      "cell_type": "code",
      "execution_count": 10,
      "metadata": {
        "colab": {
          "base_uri": "https://localhost:8080/"
        },
        "id": "6e0lS8VkW5rA",
        "outputId": "60bbd149-a01c-4d23-e04a-a1ed8e122d1f"
      },
      "outputs": [
        {
          "data": {
            "text/plain": [
              "<tf.Tensor: shape=(1, 50), dtype=int32, numpy=\n",
              "array([[ 3, 18, 28, 11,  9, 27,  2,  6, 28,  5, 10, 23, 29,  5, 10, 12,\n",
              "        23, 13, 10, 10, 18,  2,  9, 19, 10, 26,  2, 23, 18, 18, 28,  0,\n",
              "         4, 27, 11, 25, 24, 12, 19,  9, 25,  8,  2, 15, 28,  4,  8, 22,\n",
              "        24, 26]], dtype=int32)>"
            ]
          },
          "execution_count": 10,
          "metadata": {},
          "output_type": "execute_result"
        },
        {
          "data": {
            "application/javascript": "\n            setTimeout(function() {\n                var nbb_cell_id = 10;\n                var nbb_unformatted_code = \"sent = tf.random.uniform((1,MAX_LEN), maxval=30, dtype=tf.int32)\\nsent\";\n                var nbb_formatted_code = \"sent = tf.random.uniform((1, MAX_LEN), maxval=30, dtype=tf.int32)\\nsent\";\n                var nbb_cells = Jupyter.notebook.get_cells();\n                for (var i = 0; i < nbb_cells.length; ++i) {\n                    if (nbb_cells[i].input_prompt_number == nbb_cell_id) {\n                        if (nbb_cells[i].get_text() == nbb_unformatted_code) {\n                             nbb_cells[i].set_text(nbb_formatted_code);\n                        }\n                        break;\n                    }\n                }\n            }, 500);\n            ",
            "text/plain": [
              "<IPython.core.display.Javascript object>"
            ]
          },
          "metadata": {},
          "output_type": "display_data"
        }
      ],
      "source": [
        "sent = tf.random.uniform((1,MAX_LEN), maxval=30, dtype=tf.int32)\n",
        "sent"
      ]
    },
    {
      "cell_type": "code",
      "execution_count": 11,
      "metadata": {
        "id": "wNJTcoT5W5rA"
      },
      "outputs": [
        {
          "name": "stdout",
          "output_type": "stream",
          "text": [
            "(1, 50, 128)\n"
          ]
        },
        {
          "data": {
            "application/javascript": "\n            setTimeout(function() {\n                var nbb_cell_id = 11;\n                var nbb_unformatted_code = \"pos = PositionalEmbedding(100, d_model)\\n\\na = pos(sent)\\nprint(a.shape)\";\n                var nbb_formatted_code = \"pos = PositionalEmbedding(100, d_model)\\n\\na = pos(sent)\\nprint(a.shape)\";\n                var nbb_cells = Jupyter.notebook.get_cells();\n                for (var i = 0; i < nbb_cells.length; ++i) {\n                    if (nbb_cells[i].input_prompt_number == nbb_cell_id) {\n                        if (nbb_cells[i].get_text() == nbb_unformatted_code) {\n                             nbb_cells[i].set_text(nbb_formatted_code);\n                        }\n                        break;\n                    }\n                }\n            }, 500);\n            ",
            "text/plain": [
              "<IPython.core.display.Javascript object>"
            ]
          },
          "metadata": {},
          "output_type": "display_data"
        }
      ],
      "source": [
        "pos = PositionalEmbedding(100, d_model)\n",
        "\n",
        "a = pos(sent)\n",
        "print(a.shape)"
      ]
    },
    {
      "attachments": {},
      "cell_type": "markdown",
      "metadata": {},
      "source": [
        "now even two same words don't match because they are in different position\n",
        "e.g. 23 at 0th position have different overall_embedding than 23 at 14th index\n",
        "\n",
        "why? \n",
        "although they have been embedded by same embedding layer . the added positonal_embedding is quite different .\n",
        "one is at 0th place while other is 14th. embedding of this place is going to be different, so overall embedding will be different"
      ]
    },
    {
      "cell_type": "code",
      "execution_count": 12,
      "metadata": {
        "id": "gFDOVMilW5rB"
      },
      "outputs": [
        {
          "data": {
            "application/javascript": "\n            setTimeout(function() {\n                var nbb_cell_id = 12;\n                var nbb_unformatted_code = \"# positional embedding = [batch, max_len, d_model]\";\n                var nbb_formatted_code = \"# positional embedding = [batch, max_len, d_model]\";\n                var nbb_cells = Jupyter.notebook.get_cells();\n                for (var i = 0; i < nbb_cells.length; ++i) {\n                    if (nbb_cells[i].input_prompt_number == nbb_cell_id) {\n                        if (nbb_cells[i].get_text() == nbb_unformatted_code) {\n                             nbb_cells[i].set_text(nbb_formatted_code);\n                        }\n                        break;\n                    }\n                }\n            }, 500);\n            ",
            "text/plain": [
              "<IPython.core.display.Javascript object>"
            ]
          },
          "metadata": {},
          "output_type": "display_data"
        }
      ],
      "source": [
        "# positional embedding = [batch, max_len, d_model]"
      ]
    },
    {
      "cell_type": "code",
      "execution_count": 13,
      "metadata": {
        "colab": {
          "base_uri": "https://localhost:8080/"
        },
        "id": "ZtQzK3NNW5rB",
        "outputId": "3a6db408-5f6c-41ad-ef42-ccde67f80ef1"
      },
      "outputs": [
        {
          "data": {
            "text/plain": [
              "42"
            ]
          },
          "execution_count": 13,
          "metadata": {},
          "output_type": "execute_result"
        },
        {
          "data": {
            "application/javascript": "\n            setTimeout(function() {\n                var nbb_cell_id = 13;\n                var nbb_unformatted_code = \"256//6\";\n                var nbb_formatted_code = \"256 // 6\";\n                var nbb_cells = Jupyter.notebook.get_cells();\n                for (var i = 0; i < nbb_cells.length; ++i) {\n                    if (nbb_cells[i].input_prompt_number == nbb_cell_id) {\n                        if (nbb_cells[i].get_text() == nbb_unformatted_code) {\n                             nbb_cells[i].set_text(nbb_formatted_code);\n                        }\n                        break;\n                    }\n                }\n            }, 500);\n            ",
            "text/plain": [
              "<IPython.core.display.Javascript object>"
            ]
          },
          "metadata": {},
          "output_type": "display_data"
        }
      ],
      "source": [
        "256//6\n"
      ]
    },
    {
      "attachments": {},
      "cell_type": "markdown",
      "metadata": {
        "id": "3bHCAC-GW5rB"
      },
      "source": [
        "# Positional embedding For Image"
      ]
    },
    {
      "attachments": {},
      "cell_type": "markdown",
      "metadata": {
        "id": "SwXW8DfuW5rC"
      },
      "source": []
    },
    {
      "cell_type": "code",
      "execution_count": 14,
      "metadata": {
        "id": "rC9xjcU4W5rC"
      },
      "outputs": [
        {
          "data": {
            "application/javascript": "\n            setTimeout(function() {\n                var nbb_cell_id = 14;\n                var nbb_unformatted_code = \"\\nbatch_size = 8\\nimage_size = 256  # We'll resize input images to this size\\npatch_size = 42  # Size of the patches to be extract from the input images\\nnum_patches = (image_size // patch_size) ** 2 # trich here is to match max_len to num_patches for matching the shapes for concatination\\nmax_len = 36\\n\\nassert max_len == num_patches\\n\\nd_model = d_model = 128\\n\\n\\nnum_heads = 4\\ntransformer_units = [\\n    d_model * 2,\\n    d_model,\\n]  # Size of the transformer layers\\ntransformer_layers = 8\\nmlp_head_units = [2048, 1024]\";\n                var nbb_formatted_code = \"batch_size = 8\\nimage_size = 256  # We'll resize input images to this size\\npatch_size = 42  # Size of the patches to be extract from the input images\\nnum_patches = (\\n    image_size // patch_size\\n) ** 2  # trich here is to match max_len to num_patches for matching the shapes for concatination\\nmax_len = 36\\n\\nassert max_len == num_patches\\n\\nd_model = d_model = 128\\n\\n\\nnum_heads = 4\\ntransformer_units = [\\n    d_model * 2,\\n    d_model,\\n]  # Size of the transformer layers\\ntransformer_layers = 8\\nmlp_head_units = [2048, 1024]\";\n                var nbb_cells = Jupyter.notebook.get_cells();\n                for (var i = 0; i < nbb_cells.length; ++i) {\n                    if (nbb_cells[i].input_prompt_number == nbb_cell_id) {\n                        if (nbb_cells[i].get_text() == nbb_unformatted_code) {\n                             nbb_cells[i].set_text(nbb_formatted_code);\n                        }\n                        break;\n                    }\n                }\n            }, 500);\n            ",
            "text/plain": [
              "<IPython.core.display.Javascript object>"
            ]
          },
          "metadata": {},
          "output_type": "display_data"
        }
      ],
      "source": [
        "\n",
        "batch_size = 8\n",
        "image_size = 256  # We'll resize input images to this size\n",
        "patch_size = 42  # Size of the patches to be extract from the input images\n",
        "num_patches = (image_size // patch_size) ** 2 # trich here is to match max_len to num_patches for matching the shapes for concatination\n",
        "max_len = 36\n",
        "\n",
        "assert max_len == num_patches\n",
        "\n",
        "d_model = d_model = 128\n",
        "\n",
        "\n",
        "num_heads = 4\n",
        "transformer_units = [\n",
        "    d_model * 2,\n",
        "    d_model,\n",
        "]  # Size of the transformer layers\n",
        "transformer_layers = 8\n",
        "mlp_head_units = [2048, 1024]"
      ]
    },
    {
      "cell_type": "code",
      "execution_count": 15,
      "metadata": {
        "id": "fqJEqeHQW5rC"
      },
      "outputs": [
        {
          "data": {
            "application/javascript": "\n            setTimeout(function() {\n                var nbb_cell_id = 15;\n                var nbb_unformatted_code = \"from tensorflow.keras.applications.resnet50 import preprocess_input\\n\\n# load image model\\n\\ndef get_resnet(IMG_SHAPE):\\n    resnet = tf.keras.applications.ResNet50V2(\\n        include_top=False,\\n        weights=\\\"imagenet\\\",\\n        input_tensor=tf.keras.layers.Input(shape=IMG_SHAPE))\\n\\n    resnet.trainable=False\\n\\n    resnet.compile()\\n    return resnet\\n\\nresnet = get_resnet(IMG_SHAPE)\";\n                var nbb_formatted_code = \"from tensorflow.keras.applications.resnet50 import preprocess_input\\n\\n# load image model\\n\\n\\ndef get_resnet(IMG_SHAPE):\\n    resnet = tf.keras.applications.ResNet50V2(\\n        include_top=False,\\n        weights=\\\"imagenet\\\",\\n        input_tensor=tf.keras.layers.Input(shape=IMG_SHAPE),\\n    )\\n\\n    resnet.trainable = False\\n\\n    resnet.compile()\\n    return resnet\\n\\n\\nresnet = get_resnet(IMG_SHAPE)\";\n                var nbb_cells = Jupyter.notebook.get_cells();\n                for (var i = 0; i < nbb_cells.length; ++i) {\n                    if (nbb_cells[i].input_prompt_number == nbb_cell_id) {\n                        if (nbb_cells[i].get_text() == nbb_unformatted_code) {\n                             nbb_cells[i].set_text(nbb_formatted_code);\n                        }\n                        break;\n                    }\n                }\n            }, 500);\n            ",
            "text/plain": [
              "<IPython.core.display.Javascript object>"
            ]
          },
          "metadata": {},
          "output_type": "display_data"
        }
      ],
      "source": [
        "from tensorflow.keras.applications.resnet50 import preprocess_input\n",
        "\n",
        "# load image model\n",
        "\n",
        "def get_resnet(IMG_SHAPE):\n",
        "    resnet = tf.keras.applications.ResNet50V2(\n",
        "        include_top=False,\n",
        "        weights=\"imagenet\",\n",
        "        input_tensor=tf.keras.layers.Input(shape=IMG_SHAPE))\n",
        "\n",
        "    resnet.trainable=False\n",
        "\n",
        "    resnet.compile()\n",
        "    return resnet\n",
        "\n",
        "resnet = get_resnet(IMG_SHAPE)"
      ]
    },
    {
      "cell_type": "code",
      "execution_count": 16,
      "metadata": {
        "id": "HHyF66B4W5rC"
      },
      "outputs": [
        {
          "data": {
            "application/javascript": "\n            setTimeout(function() {\n                var nbb_cell_id = 16;\n                var nbb_unformatted_code = \"\\nclass Patches(tf.keras.layers.Layer):\\n    def __init__(self):\\n        super().__init__()\\n\\n\\n    def call(self, images):\\n        batch_size = tf.shape(images)[0]\\n        \\n        image_features = tf.keras.applications.resnet.preprocess_input(images)\\n        image_features = resnet(image_features, training=False)\\n        \\n        # image_features = GlobalAveragePooling2D()(image_features)\\n        image_features = tf.squeeze(image_features)\\n        image_features = tf.reshape(image_features, -1, 8*8)\\n\\n        return image_features\";\n                var nbb_formatted_code = \"class Patches(tf.keras.layers.Layer):\\n    def __init__(self):\\n        super().__init__()\\n\\n    def call(self, images):\\n        batch_size = tf.shape(images)[0]\\n\\n        image_features = tf.keras.applications.resnet.preprocess_input(images)\\n        image_features = resnet(image_features, training=False)\\n\\n        # image_features = GlobalAveragePooling2D()(image_features)\\n        image_features = tf.squeeze(image_features)\\n        image_features = tf.reshape(image_features, -1, 8 * 8)\\n\\n        return image_features\";\n                var nbb_cells = Jupyter.notebook.get_cells();\n                for (var i = 0; i < nbb_cells.length; ++i) {\n                    if (nbb_cells[i].input_prompt_number == nbb_cell_id) {\n                        if (nbb_cells[i].get_text() == nbb_unformatted_code) {\n                             nbb_cells[i].set_text(nbb_formatted_code);\n                        }\n                        break;\n                    }\n                }\n            }, 500);\n            ",
            "text/plain": [
              "<IPython.core.display.Javascript object>"
            ]
          },
          "metadata": {},
          "output_type": "display_data"
        }
      ],
      "source": [
        "\n",
        "class Patches(tf.keras.layers.Layer):\n",
        "    def __init__(self):\n",
        "        super().__init__()\n",
        "\n",
        "\n",
        "    def call(self, images):\n",
        "        batch_size = tf.shape(images)[0]\n",
        "        \n",
        "        image_features = tf.keras.applications.resnet.preprocess_input(images)\n",
        "        image_features = resnet(image_features, training=False)\n",
        "        \n",
        "        # image_features = GlobalAveragePooling2D()(image_features)\n",
        "        image_features = tf.squeeze(image_features)\n",
        "        image_features = tf.reshape(image_features, -1, 8*8)\n",
        "\n",
        "        return image_features"
      ]
    },
    {
      "cell_type": "code",
      "execution_count": 17,
      "metadata": {
        "id": "0hQ87TdrW5rD"
      },
      "outputs": [
        {
          "data": {
            "application/javascript": "\n            setTimeout(function() {\n                var nbb_cell_id = 17;\n                var nbb_unformatted_code = \"class PatchEncoder(tf.keras.layers.Layer):\\n    def __init__(self, d_model, num_patches=64):\\n        super().__init__()\\n        self.num_patches = num_patches\\n        self.projection = Dense(units=d_model)\\n        self.position_embedding = Embedding(\\n            input_dim=num_patches, output_dim=d_model\\n        )\\n\\n    def call(self, patch):\\n        \\n        positions = tf.range(start=0, limit=self.num_patches, delta=1)\\n        tf.print(positions.shape)\\n        return self.projection(patch) + self.position_embedding(positions)\";\n                var nbb_formatted_code = \"class PatchEncoder(tf.keras.layers.Layer):\\n    def __init__(self, d_model, num_patches=64):\\n        super().__init__()\\n        self.num_patches = num_patches\\n        self.projection = Dense(units=d_model)\\n        self.position_embedding = Embedding(input_dim=num_patches, output_dim=d_model)\\n\\n    def call(self, patch):\\n\\n        positions = tf.range(start=0, limit=self.num_patches, delta=1)\\n        tf.print(positions.shape)\\n        return self.projection(patch) + self.position_embedding(positions)\";\n                var nbb_cells = Jupyter.notebook.get_cells();\n                for (var i = 0; i < nbb_cells.length; ++i) {\n                    if (nbb_cells[i].input_prompt_number == nbb_cell_id) {\n                        if (nbb_cells[i].get_text() == nbb_unformatted_code) {\n                             nbb_cells[i].set_text(nbb_formatted_code);\n                        }\n                        break;\n                    }\n                }\n            }, 500);\n            ",
            "text/plain": [
              "<IPython.core.display.Javascript object>"
            ]
          },
          "metadata": {},
          "output_type": "display_data"
        }
      ],
      "source": [
        "class PatchEncoder(tf.keras.layers.Layer):\n",
        "    def __init__(self, d_model, num_patches=64):\n",
        "        super().__init__()\n",
        "        self.num_patches = num_patches\n",
        "        self.projection = Dense(units=d_model)\n",
        "        self.position_embedding = Embedding(\n",
        "            input_dim=num_patches, output_dim=d_model\n",
        "        )\n",
        "\n",
        "    def call(self, patch):\n",
        "        \n",
        "        positions = tf.range(start=0, limit=self.num_patches, delta=1)\n",
        "        tf.print(positions.shape)\n",
        "        return self.projection(patch) + self.position_embedding(positions)"
      ]
    },
    {
      "cell_type": "code",
      "execution_count": 18,
      "metadata": {
        "colab": {
          "base_uri": "https://localhost:8080/"
        },
        "id": "2PbQHvM0W5rD",
        "outputId": "9dd3a8c8-1f6a-4984-db57-8e74d04d24d3"
      },
      "outputs": [
        {
          "name": "stdout",
          "output_type": "stream",
          "text": [
            "(2, 256, 256, 3)\n"
          ]
        },
        {
          "data": {
            "application/javascript": "\n            setTimeout(function() {\n                var nbb_cell_id = 18;\n                var nbb_unformatted_code = \"image = tf.io.read_file('./transformer.png')\\nimage = tf.image.decode_jpeg(image, channels=CHANNELS)\\nimage = tf.image.resize(image, (IMG_SIZE,IMG_SIZE))\\n\\nimage_b = tf.reshape(image, (1, 256,256, 3))\\n\\nimage_b = tf.concat([image_b, image_b], axis = 0)\\nprint(image_b.shape)\\n# array_to_img(image)\";\n                var nbb_formatted_code = \"image = tf.io.read_file(\\\"./transformer.png\\\")\\nimage = tf.image.decode_jpeg(image, channels=CHANNELS)\\nimage = tf.image.resize(image, (IMG_SIZE, IMG_SIZE))\\n\\nimage_b = tf.reshape(image, (1, 256, 256, 3))\\n\\nimage_b = tf.concat([image_b, image_b], axis=0)\\nprint(image_b.shape)\\n# array_to_img(image)\";\n                var nbb_cells = Jupyter.notebook.get_cells();\n                for (var i = 0; i < nbb_cells.length; ++i) {\n                    if (nbb_cells[i].input_prompt_number == nbb_cell_id) {\n                        if (nbb_cells[i].get_text() == nbb_unformatted_code) {\n                             nbb_cells[i].set_text(nbb_formatted_code);\n                        }\n                        break;\n                    }\n                }\n            }, 500);\n            ",
            "text/plain": [
              "<IPython.core.display.Javascript object>"
            ]
          },
          "metadata": {},
          "output_type": "display_data"
        }
      ],
      "source": [
        "image = tf.io.read_file('./transformer.png')\n",
        "image = tf.image.decode_jpeg(image, channels=CHANNELS)\n",
        "image = tf.image.resize(image, (IMG_SIZE,IMG_SIZE))\n",
        "\n",
        "image_b = tf.reshape(image, (1, 256,256, 3))\n",
        "\n",
        "image_b = tf.concat([image_b, image_b], axis = 0)\n",
        "print(image_b.shape)\n",
        "# array_to_img(image)"
      ]
    },
    {
      "cell_type": "code",
      "execution_count": 19,
      "metadata": {},
      "outputs": [
        {
          "data": {
            "application/javascript": "\n            setTimeout(function() {\n                var nbb_cell_id = 19;\n                var nbb_unformatted_code = \"from transformer3 import imager\";\n                var nbb_formatted_code = \"from transformer3 import imager\";\n                var nbb_cells = Jupyter.notebook.get_cells();\n                for (var i = 0; i < nbb_cells.length; ++i) {\n                    if (nbb_cells[i].input_prompt_number == nbb_cell_id) {\n                        if (nbb_cells[i].get_text() == nbb_unformatted_code) {\n                             nbb_cells[i].set_text(nbb_formatted_code);\n                        }\n                        break;\n                    }\n                }\n            }, 500);\n            ",
            "text/plain": [
              "<IPython.core.display.Javascript object>"
            ]
          },
          "metadata": {},
          "output_type": "display_data"
        }
      ],
      "source": [
        "from transformer3 import imager"
      ]
    },
    {
      "cell_type": "code",
      "execution_count": 20,
      "metadata": {},
      "outputs": [
        {
          "data": {
            "application/javascript": "\n            setTimeout(function() {\n                var nbb_cell_id = 20;\n                var nbb_unformatted_code = \"img_shape = (256,256,3)\\nd_model = 64\";\n                var nbb_formatted_code = \"img_shape = (256, 256, 3)\\nd_model = 64\";\n                var nbb_cells = Jupyter.notebook.get_cells();\n                for (var i = 0; i < nbb_cells.length; ++i) {\n                    if (nbb_cells[i].input_prompt_number == nbb_cell_id) {\n                        if (nbb_cells[i].get_text() == nbb_unformatted_code) {\n                             nbb_cells[i].set_text(nbb_formatted_code);\n                        }\n                        break;\n                    }\n                }\n            }, 500);\n            ",
            "text/plain": [
              "<IPython.core.display.Javascript object>"
            ]
          },
          "metadata": {},
          "output_type": "display_data"
        }
      ],
      "source": [
        "img_shape = (256,256,3)\n",
        "d_model = 64"
      ]
    },
    {
      "cell_type": "code",
      "execution_count": 21,
      "metadata": {},
      "outputs": [
        {
          "data": {
            "application/javascript": "\n            setTimeout(function() {\n                var nbb_cell_id = 21;\n                var nbb_unformatted_code = \"ii = imager(img_shape, d_model)\";\n                var nbb_formatted_code = \"ii = imager(img_shape, d_model)\";\n                var nbb_cells = Jupyter.notebook.get_cells();\n                for (var i = 0; i < nbb_cells.length; ++i) {\n                    if (nbb_cells[i].input_prompt_number == nbb_cell_id) {\n                        if (nbb_cells[i].get_text() == nbb_unformatted_code) {\n                             nbb_cells[i].set_text(nbb_formatted_code);\n                        }\n                        break;\n                    }\n                }\n            }, 500);\n            ",
            "text/plain": [
              "<IPython.core.display.Javascript object>"
            ]
          },
          "metadata": {},
          "output_type": "display_data"
        }
      ],
      "source": [
        "ii = imager(img_shape, d_model)"
      ]
    },
    {
      "cell_type": "code",
      "execution_count": 22,
      "metadata": {},
      "outputs": [
        {
          "name": "stderr",
          "output_type": "stream",
          "text": [
            "2023-05-24 19:59:15.294146: E tensorflow/compiler/xla/stream_executor/cuda/cuda_dnn.cc:417] Loaded runtime CuDNN library: 8.1.0 but source was compiled with: 8.6.0.  CuDNN library needs to have matching major version and equal or higher minor version. If using a binary install, upgrade your CuDNN library.  If building from sources, make sure the library loaded at runtime is compatible with the version specified during compile configuration.\n",
            "2023-05-24 19:59:15.306734: W tensorflow/core/framework/op_kernel.cc:1830] OP_REQUIRES failed at conv_ops.cc:1068 : UNIMPLEMENTED: DNN library is not found.\n"
          ]
        },
        {
          "ename": "UnimplementedError",
          "evalue": "Exception encountered when calling layer 'conv1_conv' (type Conv2D).\n\n{{function_node __wrapped__Conv2D_device_/job:localhost/replica:0/task:0/device:GPU:0}} DNN library is not found. [Op:Conv2D]\n\nCall arguments received by layer 'conv1_conv' (type Conv2D):\n  • inputs=tf.Tensor(shape=(2, 262, 262, 3), dtype=float32)",
          "output_type": "error",
          "traceback": [
            "\u001b[0;31m---------------------------------------------------------------------------\u001b[0m",
            "\u001b[0;31mUnimplementedError\u001b[0m                        Traceback (most recent call last)",
            "Cell \u001b[0;32mIn[22], line 1\u001b[0m\n\u001b[0;32m----> 1\u001b[0m aa \u001b[39m=\u001b[39m ii(image_b)\n",
            "File \u001b[0;32m~/miniconda3/envs/tf_new/lib/python3.9/site-packages/keras/utils/traceback_utils.py:70\u001b[0m, in \u001b[0;36mfilter_traceback.<locals>.error_handler\u001b[0;34m(*args, **kwargs)\u001b[0m\n\u001b[1;32m     67\u001b[0m     filtered_tb \u001b[39m=\u001b[39m _process_traceback_frames(e\u001b[39m.\u001b[39m__traceback__)\n\u001b[1;32m     68\u001b[0m     \u001b[39m# To get the full stack trace, call:\u001b[39;00m\n\u001b[1;32m     69\u001b[0m     \u001b[39m# `tf.debugging.disable_traceback_filtering()`\u001b[39;00m\n\u001b[0;32m---> 70\u001b[0m     \u001b[39mraise\u001b[39;00m e\u001b[39m.\u001b[39mwith_traceback(filtered_tb) \u001b[39mfrom\u001b[39;00m \u001b[39mNone\u001b[39m\n\u001b[1;32m     71\u001b[0m \u001b[39mfinally\u001b[39;00m:\n\u001b[1;32m     72\u001b[0m     \u001b[39mdel\u001b[39;00m filtered_tb\n",
            "File \u001b[0;32m~/cproject/caption-generator/transformer3.py:149\u001b[0m, in \u001b[0;36mimager.call\u001b[0;34m(self, images)\u001b[0m\n\u001b[1;32m    145\u001b[0m batch_size \u001b[39m=\u001b[39m tf\u001b[39m.\u001b[39mshape(images)[\u001b[39m0\u001b[39m]\n\u001b[1;32m    147\u001b[0m image_features \u001b[39m=\u001b[39m tf\u001b[39m.\u001b[39mkeras\u001b[39m.\u001b[39mapplications\u001b[39m.\u001b[39mresnet\u001b[39m.\u001b[39mpreprocess_input(images)\n\u001b[0;32m--> 149\u001b[0m image_features \u001b[39m=\u001b[39m \u001b[39mself\u001b[39;49m\u001b[39m.\u001b[39;49mimg_model(image_features, training\u001b[39m=\u001b[39;49m\u001b[39mFalse\u001b[39;49;00m) \u001b[39m# output shape (batch, 8*8* 2048)\u001b[39;00m\n\u001b[1;32m    151\u001b[0m \u001b[39m# image_features = GlobalAveragePooling2D()(image_features)\u001b[39;00m\n\u001b[1;32m    152\u001b[0m image_features \u001b[39m=\u001b[39m tf\u001b[39m.\u001b[39msqueeze(image_features)\n",
            "\u001b[0;31mUnimplementedError\u001b[0m: Exception encountered when calling layer 'conv1_conv' (type Conv2D).\n\n{{function_node __wrapped__Conv2D_device_/job:localhost/replica:0/task:0/device:GPU:0}} DNN library is not found. [Op:Conv2D]\n\nCall arguments received by layer 'conv1_conv' (type Conv2D):\n  • inputs=tf.Tensor(shape=(2, 262, 262, 3), dtype=float32)"
          ]
        },
        {
          "data": {
            "application/javascript": "\n            setTimeout(function() {\n                var nbb_cell_id = 22;\n                var nbb_unformatted_code = \"aa = ii(image_b)\";\n                var nbb_formatted_code = \"aa = ii(image_b)\";\n                var nbb_cells = Jupyter.notebook.get_cells();\n                for (var i = 0; i < nbb_cells.length; ++i) {\n                    if (nbb_cells[i].input_prompt_number == nbb_cell_id) {\n                        if (nbb_cells[i].get_text() == nbb_unformatted_code) {\n                             nbb_cells[i].set_text(nbb_formatted_code);\n                        }\n                        break;\n                    }\n                }\n            }, 500);\n            ",
            "text/plain": [
              "<IPython.core.display.Javascript object>"
            ]
          },
          "metadata": {},
          "output_type": "display_data"
        }
      ],
      "source": [
        "aa = ii(image_b)"
      ]
    },
    {
      "cell_type": "code",
      "execution_count": 18,
      "metadata": {
        "colab": {
          "base_uri": "https://localhost:8080/"
        },
        "id": "oS4IKv76W5rD",
        "outputId": "0152b09d-ffa7-460d-e6e9-24df207a3c1a"
      },
      "outputs": [],
      "source": [
        "# patcher = Patches()\n",
        "# patches = patcher(image_b)\n",
        "# patches.shape"
      ]
    },
    {
      "cell_type": "code",
      "execution_count": 46,
      "metadata": {
        "id": "2I_sI4V9YAeW"
      },
      "outputs": [],
      "source": []
    },
    {
      "cell_type": "code",
      "execution_count": null,
      "metadata": {
        "id": "epEREKaeYAbi"
      },
      "outputs": [],
      "source": []
    },
    {
      "cell_type": "code",
      "execution_count": null,
      "metadata": {
        "id": "01ifp9vQYAZF"
      },
      "outputs": [],
      "source": []
    },
    {
      "cell_type": "code",
      "execution_count": 61,
      "metadata": {
        "colab": {
          "base_uri": "https://localhost:8080/"
        },
        "id": "R3n2xYJVW5rE",
        "outputId": "74b3d866-05da-48b1-ab40-2f2d487f77ed"
      },
      "outputs": [
        {
          "name": "stdout",
          "output_type": "stream",
          "text": [
            "TensorShape([64])\n"
          ]
        },
        {
          "data": {
            "text/plain": [
              "TensorShape([2, 64, 128])"
            ]
          },
          "execution_count": 61,
          "metadata": {},
          "output_type": "execute_result"
        }
      ],
      "source": [
        "pencoder = PatchEncoder(num_patches=64, d_model=d_model)\n",
        "\n",
        "patches_encoded = pencoder(patches)\n",
        "patches_encoded.shape"
      ]
    },
    {
      "cell_type": "code",
      "execution_count": null,
      "metadata": {
        "id": "n3_EOf_EW5rE",
        "outputId": "ddd9e01c-cb61-40ff-a04b-37f93f082e25"
      },
      "outputs": [
        {
          "data": {
            "image/png": "[encoded data removed]",
            "text/plain": [
              "<PIL.Image.Image image mode=RGB size=256x256>"
            ]
          },
          "execution_count": 21,
          "metadata": {},
          "output_type": "execute_result"
        },
        {
          "data": {
            "application/javascript": "\n            setTimeout(function() {\n                var nbb_cell_id = 21;\n                var nbb_unformatted_code = \"array_to_img(image)\";\n                var nbb_formatted_code = \"array_to_img(image)\";\n                var nbb_cells = Jupyter.notebook.get_cells();\n                for (var i = 0; i < nbb_cells.length; ++i) {\n                    if (nbb_cells[i].input_prompt_number == nbb_cell_id) {\n                        if (nbb_cells[i].get_text() == nbb_unformatted_code) {\n                             nbb_cells[i].set_text(nbb_formatted_code);\n                        }\n                        break;\n                    }\n                }\n            }, 500);\n            ",
            "text/plain": [
              "<IPython.core.display.Javascript object>"
            ]
          },
          "metadata": {},
          "output_type": "display_data"
        }
      ],
      "source": [
        "array_to_img(image)"
      ]
    },
    {
      "cell_type": "code",
      "execution_count": null,
      "metadata": {
        "id": "9hCMJP4FW5rE",
        "outputId": "5da4dd27-881e-415d-d009-e72b90898502"
      },
      "outputs": [
        {
          "name": "stdout",
          "output_type": "stream",
          "text": [
            "Image size: 256 X 256\n",
            "Patch size: 42 X 42\n",
            "Patches per image: 36\n",
            "Elements per patch: 5292\n"
          ]
        },
        {
          "data": {
            "image/png": "[encoded data removed]",
            "text/plain": [
              "<Figure size 400x400 with 1 Axes>"
            ]
          },
          "metadata": {},
          "output_type": "display_data"
        },
        {
          "data": {
            "image/png": "[encoded data removed]",
            "text/plain": [
              "<Figure size 400x400 with 36 Axes>"
            ]
          },
          "metadata": {},
          "output_type": "display_data"
        },
        {
          "data": {
            "application/javascript": "\n            setTimeout(function() {\n                var nbb_cell_id = 22;\n                var nbb_unformatted_code = \"import matplotlib.pyplot as plt\\n\\nplt.figure(figsize=(4, 4))\\nplt.imshow(array_to_img(image))\\nplt.axis(\\\"off\\\")\\n\\nresized_image = tf.image.resize(\\n    tf.convert_to_tensor([image]), size=(image_size, image_size)\\n)\\npatches = Patches(patch_size)(resized_image)\\nprint(f\\\"Image size: {image_size} X {image_size}\\\")\\nprint(f\\\"Patch size: {patch_size} X {patch_size}\\\")\\nprint(f\\\"Patches per image: {patches.shape[1]}\\\")\\nprint(f\\\"Elements per patch: {patches.shape[-1]}\\\")\\n\\nn = int(np.sqrt(patches.shape[1]))\\nplt.figure(figsize=(4, 4))\\nfor i, patch in enumerate(patches[0]):\\n    ax = plt.subplot(n, n, i + 1)\\n    patch_img = tf.reshape(patch, (patch_size, patch_size, 3))\\n    plt.imshow(patch_img.numpy().astype(\\\"uint8\\\"))\\n    plt.axis(\\\"off\\\")\";\n                var nbb_formatted_code = \"import matplotlib.pyplot as plt\\n\\nplt.figure(figsize=(4, 4))\\nplt.imshow(array_to_img(image))\\nplt.axis(\\\"off\\\")\\n\\nresized_image = tf.image.resize(\\n    tf.convert_to_tensor([image]), size=(image_size, image_size)\\n)\\npatches = Patches(patch_size)(resized_image)\\nprint(f\\\"Image size: {image_size} X {image_size}\\\")\\nprint(f\\\"Patch size: {patch_size} X {patch_size}\\\")\\nprint(f\\\"Patches per image: {patches.shape[1]}\\\")\\nprint(f\\\"Elements per patch: {patches.shape[-1]}\\\")\\n\\nn = int(np.sqrt(patches.shape[1]))\\nplt.figure(figsize=(4, 4))\\nfor i, patch in enumerate(patches[0]):\\n    ax = plt.subplot(n, n, i + 1)\\n    patch_img = tf.reshape(patch, (patch_size, patch_size, 3))\\n    plt.imshow(patch_img.numpy().astype(\\\"uint8\\\"))\\n    plt.axis(\\\"off\\\")\";\n                var nbb_cells = Jupyter.notebook.get_cells();\n                for (var i = 0; i < nbb_cells.length; ++i) {\n                    if (nbb_cells[i].input_prompt_number == nbb_cell_id) {\n                        if (nbb_cells[i].get_text() == nbb_unformatted_code) {\n                             nbb_cells[i].set_text(nbb_formatted_code);\n                        }\n                        break;\n                    }\n                }\n            }, 500);\n            ",
            "text/plain": [
              "<IPython.core.display.Javascript object>"
            ]
          },
          "metadata": {},
          "output_type": "display_data"
        }
      ],
      "source": [
        "import matplotlib.pyplot as plt\n",
        "\n",
        "plt.figure(figsize=(4, 4))\n",
        "plt.imshow(array_to_img(image))\n",
        "plt.axis(\"off\")\n",
        "\n",
        "resized_image = tf.image.resize(\n",
        "    tf.convert_to_tensor([image]), size=(image_size, image_size)\n",
        ")\n",
        "patches = Patches(patch_size)(resized_image)\n",
        "print(f\"Image size: {image_size} X {image_size}\")\n",
        "print(f\"Patch size: {patch_size} X {patch_size}\")\n",
        "print(f\"Patches per image: {patches.shape[1]}\")\n",
        "print(f\"Elements per patch: {patches.shape[-1]}\")\n",
        "\n",
        "n = int(np.sqrt(patches.shape[1]))\n",
        "plt.figure(figsize=(4, 4))\n",
        "for i, patch in enumerate(patches[0]):\n",
        "    ax = plt.subplot(n, n, i + 1)\n",
        "    patch_img = tf.reshape(patch, (patch_size, patch_size, 3))\n",
        "    plt.imshow(patch_img.numpy().astype(\"uint8\"))\n",
        "    plt.axis(\"off\")"
      ]
    },
    {
      "attachments": {},
      "cell_type": "markdown",
      "metadata": {
        "id": "VVBPIVw1W5rF"
      },
      "source": [
        "# Attention\n",
        "\n",
        "\n",
        "1. BaseAttention(main)\n",
        "\n",
        "    a. SelfAttention\n",
        "\n",
        "\n",
        "    b. CrossAttention"
      ]
    },
    {
      "cell_type": "code",
      "execution_count": null,
      "metadata": {
        "id": "tQZ01TRrW5rF",
        "outputId": "f8517f6c-8f31-4dee-fa1f-cd92e1a1a420"
      },
      "outputs": [
        {
          "data": {
            "application/javascript": "\n            setTimeout(function() {\n                var nbb_cell_id = 23;\n                var nbb_unformatted_code = \"class BaseAttention(tf.keras.layers.Layer):\\n    def __init__(self, **kwargs):\\n        super().__init__()\\n        self.mha = tf.keras.layers.MultiHeadAttention(**kwargs)\\n        self.layernorm = tf.keras.layers.LayerNormalization()\\n        self.add = tf.keras.layers.Add()\";\n                var nbb_formatted_code = \"class BaseAttention(tf.keras.layers.Layer):\\n    def __init__(self, **kwargs):\\n        super().__init__()\\n        self.mha = tf.keras.layers.MultiHeadAttention(**kwargs)\\n        self.layernorm = tf.keras.layers.LayerNormalization()\\n        self.add = tf.keras.layers.Add()\";\n                var nbb_cells = Jupyter.notebook.get_cells();\n                for (var i = 0; i < nbb_cells.length; ++i) {\n                    if (nbb_cells[i].input_prompt_number == nbb_cell_id) {\n                        if (nbb_cells[i].get_text() == nbb_unformatted_code) {\n                             nbb_cells[i].set_text(nbb_formatted_code);\n                        }\n                        break;\n                    }\n                }\n            }, 500);\n            ",
            "text/plain": [
              "<IPython.core.display.Javascript object>"
            ]
          },
          "metadata": {},
          "output_type": "display_data"
        }
      ],
      "source": [
        "class BaseAttention(tf.keras.layers.Layer):\n",
        "    def __init__(self, **kwargs):\n",
        "        super().__init__()\n",
        "        self.mha = tf.keras.layers.MultiHeadAttention(**kwargs)\n",
        "        self.layernorm = tf.keras.layers.LayerNormalization()\n",
        "        self.add = tf.keras.layers.Add()"
      ]
    },
    {
      "cell_type": "code",
      "execution_count": null,
      "metadata": {
        "id": "8oedIHRxW5rF",
        "outputId": "1a74dac6-582e-4e0e-e3db-41b53a9625c1"
      },
      "outputs": [
        {
          "data": {
            "application/javascript": "\n            setTimeout(function() {\n                var nbb_cell_id = 24;\n                var nbb_unformatted_code = \"class CrossAttention(BaseAttention):\\n  def call(self, x, context):\\n    attn_output, attn_scores = self.mha(\\n        query=x,\\n        key=context,\\n        value=context,\\n        return_attention_scores=True)\\n\\n    # Cache the attention scores for plotting later.\\n    self.last_attn_scores = attn_scores\\n\\n    x = self.add([x, attn_output])\\n    x = self.layernorm(x)\\n\\n    return x\";\n                var nbb_formatted_code = \"class CrossAttention(BaseAttention):\\n    def call(self, x, context):\\n        attn_output, attn_scores = self.mha(\\n            query=x, key=context, value=context, return_attention_scores=True\\n        )\\n\\n        # Cache the attention scores for plotting later.\\n        self.last_attn_scores = attn_scores\\n\\n        x = self.add([x, attn_output])\\n        x = self.layernorm(x)\\n\\n        return x\";\n                var nbb_cells = Jupyter.notebook.get_cells();\n                for (var i = 0; i < nbb_cells.length; ++i) {\n                    if (nbb_cells[i].input_prompt_number == nbb_cell_id) {\n                        if (nbb_cells[i].get_text() == nbb_unformatted_code) {\n                             nbb_cells[i].set_text(nbb_formatted_code);\n                        }\n                        break;\n                    }\n                }\n            }, 500);\n            ",
            "text/plain": [
              "<IPython.core.display.Javascript object>"
            ]
          },
          "metadata": {},
          "output_type": "display_data"
        }
      ],
      "source": [
        "class CrossAttention(BaseAttention):\n",
        "  def call(self, x, context):\n",
        "    attn_output, attn_scores = self.mha(\n",
        "        query=x, #[batch, seqlen, d_model]\n",
        "        key=context, #[batch, patch_num, d_model]\n",
        "        value=context,\n",
        "        return_attention_scores=True)\n",
        "\n",
        "    # Cache the attention scores for plotting later.\n",
        "    self.last_attn_scores = attn_scores\n",
        "\n",
        "    x = self.add([x, attn_output])\n",
        "    x = self.layernorm(x)\n",
        "\n",
        "    return x"
      ]
    },
    {
      "cell_type": "code",
      "execution_count": null,
      "metadata": {
        "id": "R4JvzDqCW5rG",
        "outputId": "468e75de-fed2-468a-af27-8784fa9d0546"
      },
      "outputs": [
        {
          "data": {
            "application/javascript": "\n            setTimeout(function() {\n                var nbb_cell_id = 25;\n                var nbb_unformatted_code = \"class GlobalSelfAttention(BaseAttention):\\n  def call(self, x):\\n    attn_output = self.mha(\\n        query=x,\\n        value=x,\\n        key=x)\\n    x = self.add([x, attn_output])\\n    x = self.layernorm(x)\\n    return x\";\n                var nbb_formatted_code = \"class GlobalSelfAttention(BaseAttention):\\n    def call(self, x):\\n        attn_output = self.mha(query=x, value=x, key=x)\\n        x = self.add([x, attn_output])\\n        x = self.layernorm(x)\\n        return x\";\n                var nbb_cells = Jupyter.notebook.get_cells();\n                for (var i = 0; i < nbb_cells.length; ++i) {\n                    if (nbb_cells[i].input_prompt_number == nbb_cell_id) {\n                        if (nbb_cells[i].get_text() == nbb_unformatted_code) {\n                             nbb_cells[i].set_text(nbb_formatted_code);\n                        }\n                        break;\n                    }\n                }\n            }, 500);\n            ",
            "text/plain": [
              "<IPython.core.display.Javascript object>"
            ]
          },
          "metadata": {},
          "output_type": "display_data"
        }
      ],
      "source": [
        "class GlobalSelfAttention(BaseAttention):\n",
        "  def call(self, x):\n",
        "    attn_output = self.mha(\n",
        "        query=x,\n",
        "        value=x,\n",
        "        key=x)\n",
        "    x = self.add([x, attn_output])\n",
        "    x = self.layernorm(x)\n",
        "    return x"
      ]
    },
    {
      "cell_type": "code",
      "execution_count": null,
      "metadata": {
        "id": "x_yri3sxW5rG",
        "outputId": "f9d0e777-fa64-4c56-9772-bc8fca22dfa9"
      },
      "outputs": [
        {
          "data": {
            "application/javascript": "\n            setTimeout(function() {\n                var nbb_cell_id = 26;\n                var nbb_unformatted_code = \"class CausalSelfAttention(BaseAttention):\\n  def call(self, x):\\n    attn_output = self.mha(\\n        query=x,\\n        value=x,\\n        key=x,\\n        use_causal_mask = True)\\n    x = self.add([x, attn_output])\\n    x = self.layernorm(x)\\n    return x\";\n                var nbb_formatted_code = \"class CausalSelfAttention(BaseAttention):\\n    def call(self, x):\\n        attn_output = self.mha(query=x, value=x, key=x, use_causal_mask=True)\\n        x = self.add([x, attn_output])\\n        x = self.layernorm(x)\\n        return x\";\n                var nbb_cells = Jupyter.notebook.get_cells();\n                for (var i = 0; i < nbb_cells.length; ++i) {\n                    if (nbb_cells[i].input_prompt_number == nbb_cell_id) {\n                        if (nbb_cells[i].get_text() == nbb_unformatted_code) {\n                             nbb_cells[i].set_text(nbb_formatted_code);\n                        }\n                        break;\n                    }\n                }\n            }, 500);\n            ",
            "text/plain": [
              "<IPython.core.display.Javascript object>"
            ]
          },
          "metadata": {},
          "output_type": "display_data"
        }
      ],
      "source": [
        "class CausalSelfAttention(BaseAttention):\n",
        "  def call(self, x):\n",
        "    attn_output = self.mha(\n",
        "        query=x,\n",
        "        value=x,\n",
        "        key=x,\n",
        "        use_causal_mask = True)\n",
        "    x = self.add([x, attn_output])\n",
        "    x = self.layernorm(x)\n",
        "    return x"
      ]
    },
    {
      "cell_type": "code",
      "execution_count": null,
      "metadata": {
        "id": "Ao-KaLvwW5rG",
        "outputId": "8736901c-bb17-4a85-9ba7-4733eb927d63"
      },
      "outputs": [
        {
          "data": {
            "application/javascript": "\n            setTimeout(function() {\n                var nbb_cell_id = 27;\n                var nbb_unformatted_code = \"class FeedForword(tf.keras.layers.Layer):\\n    def __init__(self, d_model, dff, dropout_rate = 0.1):\\n        super().__init__()\\n\\n        \\n        self.seq = tf.keras.Sequential([\\n            Dense(dff, activation = 'relu'),\\n            Dense(d_model),\\n            Dropout(dropout_rate)\\n        ])\\n        self.add = tf.keras.layers.Add()\\n        self.layernorm = tf.keras.layers.LayerNormalization()\\n        \\n    def call(self, x):\\n        x = self.add([x, self.seq(x)])\\n        return self.layernorm(x)\";\n                var nbb_formatted_code = \"class FeedForword(tf.keras.layers.Layer):\\n    def __init__(self, d_model, dff, dropout_rate=0.1):\\n        super().__init__()\\n\\n        self.seq = tf.keras.Sequential(\\n            [Dense(dff, activation=\\\"relu\\\"), Dense(d_model), Dropout(dropout_rate)]\\n        )\\n        self.add = tf.keras.layers.Add()\\n        self.layernorm = tf.keras.layers.LayerNormalization()\\n\\n    def call(self, x):\\n        x = self.add([x, self.seq(x)])\\n        return self.layernorm(x)\";\n                var nbb_cells = Jupyter.notebook.get_cells();\n                for (var i = 0; i < nbb_cells.length; ++i) {\n                    if (nbb_cells[i].input_prompt_number == nbb_cell_id) {\n                        if (nbb_cells[i].get_text() == nbb_unformatted_code) {\n                             nbb_cells[i].set_text(nbb_formatted_code);\n                        }\n                        break;\n                    }\n                }\n            }, 500);\n            ",
            "text/plain": [
              "<IPython.core.display.Javascript object>"
            ]
          },
          "metadata": {},
          "output_type": "display_data"
        }
      ],
      "source": [
        "class FeedForword(tf.keras.layers.Layer):\n",
        "    def __init__(self, d_model, dff, dropout_rate = 0.1):\n",
        "        super().__init__()\n",
        "\n",
        "        \n",
        "        self.seq = tf.keras.Sequential([\n",
        "            Dense(dff, activation = 'relu'),\n",
        "            Dense(d_model),\n",
        "            Dropout(dropout_rate)\n",
        "        ])\n",
        "        self.add = tf.keras.layers.Add()\n",
        "        self.layernorm = tf.keras.layers.LayerNormalization()\n",
        "        \n",
        "    def call(self, x):\n",
        "        x = self.add([x, self.seq(x)])\n",
        "        return self.layernorm(x)"
      ]
    },
    {
      "cell_type": "code",
      "execution_count": null,
      "metadata": {
        "id": "JoqQSXsgW5rH",
        "outputId": "0e6ae684-280a-4521-e196-4da6c2bfb348"
      },
      "outputs": [
        {
          "data": {
            "application/javascript": "\n            setTimeout(function() {\n                var nbb_cell_id = 28;\n                var nbb_unformatted_code = \"class EncoderLayer(tf.keras.layers.Layer):\\n    def __init__(self, *, d_model, num_heads, dff, dropout_rate=0.1):\\n        super().__init__()\\n        \\n        self.self_attention = GlobalSelfAttention(\\n            key_dim=d_model,\\n            num_heads=num_heads,\\n            dropout=dropout_rate\\n        )\\n        \\n        self.ffn = FeedForword(d_model=d_model, dff=dff,dropout_rate=dropout_rate)\\n        \\n\\n    def call(self, x):\\n        x = self.self_attention(x)\\n        x = self.ffn(x)\\n        return x\\n        \";\n                var nbb_formatted_code = \"class EncoderLayer(tf.keras.layers.Layer):\\n    def __init__(self, *, d_model, num_heads, dff, dropout_rate=0.1):\\n        super().__init__()\\n\\n        self.self_attention = GlobalSelfAttention(\\n            key_dim=d_model, num_heads=num_heads, dropout=dropout_rate\\n        )\\n\\n        self.ffn = FeedForword(d_model=d_model, dff=dff, dropout_rate=dropout_rate)\\n\\n    def call(self, x):\\n        x = self.self_attention(x)\\n        x = self.ffn(x)\\n        return x\";\n                var nbb_cells = Jupyter.notebook.get_cells();\n                for (var i = 0; i < nbb_cells.length; ++i) {\n                    if (nbb_cells[i].input_prompt_number == nbb_cell_id) {\n                        if (nbb_cells[i].get_text() == nbb_unformatted_code) {\n                             nbb_cells[i].set_text(nbb_formatted_code);\n                        }\n                        break;\n                    }\n                }\n            }, 500);\n            ",
            "text/plain": [
              "<IPython.core.display.Javascript object>"
            ]
          },
          "metadata": {},
          "output_type": "display_data"
        }
      ],
      "source": [
        "class EncoderLayer(tf.keras.layers.Layer):\n",
        "    def __init__(self, *, d_model, num_heads, dff, dropout_rate=0.1):\n",
        "        super().__init__()\n",
        "        \n",
        "        self.self_attention = GlobalSelfAttention(\n",
        "            key_dim=d_model,\n",
        "            num_heads=num_heads,\n",
        "            dropout=dropout_rate\n",
        "        )\n",
        "        \n",
        "        self.ffn = FeedForword(d_model=d_model, dff=dff,dropout_rate=dropout_rate)\n",
        "        \n",
        "\n",
        "    def call(self, x):\n",
        "        x = self.self_attention(x)\n",
        "        x = self.ffn(x)\n",
        "        return x\n",
        "        "
      ]
    },
    {
      "cell_type": "code",
      "execution_count": null,
      "metadata": {
        "id": "Edvzk5rXW5rH",
        "outputId": "2e465fec-5f94-4ecf-ce9f-efddc6e65e85"
      },
      "outputs": [
        {
          "data": {
            "application/javascript": "\n            setTimeout(function() {\n                var nbb_cell_id = 29;\n                var nbb_unformatted_code = \"class Encoder(tf.keras.layers.Layer):\\n    def __init__(self, num_layers, d_model, num_heads, dff, patch_size, num_patches, dropout_rate=0.1):\\n        super().__init__()\\n\\n        self.d_model = d_model\\n        self.num_layers = num_layers\\n        self.num_heads = num_heads\\n        self.dff = dff\\n        self.patch_size = patch_size\\n        self.num_patches = num_patches\\n        self.dropout_rate = dropout_rate\\n        \\n        \\n        self.patches = Patches(patch_size)\\n        # Encode patches.\\n        self.encoded_patches = PatchEncoder(num_patches, d_model)\\n        \\n\\n        self.enc_layers = [\\n            EncoderLayer(d_model=d_model,\\n                        num_heads=num_heads,\\n                        dff=dff,\\n                        dropout_rate=dropout_rate)\\n            for _ in range(num_layers)]\\n        self.dropout = tf.keras.layers.Dropout(dropout_rate)\\n\\n    def call(self, x):\\n        # `x` is token-IDs shape: (batch, seq_len)\\n        x = self.patches(x)  # Shape `(batch_size, seq_len, d_model)`.\\n        x = self.encoded_patches(x)\\n        # Add dropout.\\n        x = self.dropout(x)\\n\\n        for i in range(self.num_layers):\\n            x = self.enc_layers[i](x)\\n\\n        return x  # Shape `(batch_size, seq_len, d_model)`.\";\n                var nbb_formatted_code = \"class Encoder(tf.keras.layers.Layer):\\n    def __init__(\\n        self,\\n        num_layers,\\n        d_model,\\n        num_heads,\\n        dff,\\n        patch_size,\\n        num_patches,\\n        dropout_rate=0.1,\\n    ):\\n        super().__init__()\\n\\n        self.d_model = d_model\\n        self.num_layers = num_layers\\n        self.num_heads = num_heads\\n        self.dff = dff\\n        self.patch_size = patch_size\\n        self.num_patches = num_patches\\n        self.dropout_rate = dropout_rate\\n\\n        self.patches = Patches(patch_size)\\n        # Encode patches.\\n        self.encoded_patches = PatchEncoder(num_patches, d_model)\\n\\n        self.enc_layers = [\\n            EncoderLayer(\\n                d_model=d_model, num_heads=num_heads, dff=dff, dropout_rate=dropout_rate\\n            )\\n            for _ in range(num_layers)\\n        ]\\n        self.dropout = tf.keras.layers.Dropout(dropout_rate)\\n\\n    def call(self, x):\\n        # `x` is token-IDs shape: (batch, seq_len)\\n        x = self.patches(x)  # Shape `(batch_size, seq_len, d_model)`.\\n        x = self.encoded_patches(x)\\n        # Add dropout.\\n        x = self.dropout(x)\\n\\n        for i in range(self.num_layers):\\n            x = self.enc_layers[i](x)\\n\\n        return x  # Shape `(batch_size, seq_len, d_model)`.\";\n                var nbb_cells = Jupyter.notebook.get_cells();\n                for (var i = 0; i < nbb_cells.length; ++i) {\n                    if (nbb_cells[i].input_prompt_number == nbb_cell_id) {\n                        if (nbb_cells[i].get_text() == nbb_unformatted_code) {\n                             nbb_cells[i].set_text(nbb_formatted_code);\n                        }\n                        break;\n                    }\n                }\n            }, 500);\n            ",
            "text/plain": [
              "<IPython.core.display.Javascript object>"
            ]
          },
          "metadata": {},
          "output_type": "display_data"
        }
      ],
      "source": [
        "class Encoder(tf.keras.layers.Layer):\n",
        "    def __init__(self, num_layers, d_model, num_heads, dff, patch_size, num_patches, dropout_rate=0.1):\n",
        "        super().__init__()\n",
        "\n",
        "        self.d_model = d_model\n",
        "        self.num_layers = num_layers\n",
        "        self.num_heads = num_heads\n",
        "        self.dff = dff\n",
        "        self.patch_size = patch_size\n",
        "        self.num_patches = num_patches\n",
        "        self.dropout_rate = dropout_rate\n",
        "        \n",
        "        \n",
        "        self.patches = Patches(patch_size)\n",
        "        # Encode patches.\n",
        "        self.encoded_patches = PatchEncoder(num_patches, d_model)\n",
        "        \n",
        "\n",
        "        self.enc_layers = [\n",
        "            EncoderLayer(d_model=d_model,\n",
        "                        num_heads=num_heads,\n",
        "                        dff=dff,\n",
        "                        dropout_rate=dropout_rate)\n",
        "            for _ in range(num_layers)]\n",
        "        self.dropout = tf.keras.layers.Dropout(dropout_rate)\n",
        "\n",
        "    def call(self, x):\n",
        "        # `x` is token-IDs shape: (batch, seq_len)\n",
        "        x = self.patches(x)  # Shape `(batch_size, seq_len, d_model)`.\n",
        "        x = self.encoded_patches(x)\n",
        "        # Add dropout.\n",
        "        x = self.dropout(x)\n",
        "\n",
        "        for i in range(self.num_layers):\n",
        "            x = self.enc_layers[i](x)\n",
        "\n",
        "        return x  # Shape `(batch_size, seq_len, d_model)`."
      ]
    },
    {
      "cell_type": "code",
      "execution_count": null,
      "metadata": {
        "id": "h9XzraWgW5rH",
        "outputId": "9d56fa73-e5ea-4961-d414-79a66878f2f2"
      },
      "outputs": [
        {
          "data": {
            "application/javascript": "\n            setTimeout(function() {\n                var nbb_cell_id = 30;\n                var nbb_unformatted_code = \"import tensorflow as tf\\nclass DecoderLayer(tf.keras.layers.Layer):\\n    def __init__(self, d_model, num_heads, dff, dropout_rate=0.1):\\n        super(DecoderLayer, self).__init__()\\n\\n        self.causal_attention = CausalSelfAttention(\\n            num_heads=num_heads,\\n            key_dims = d_model, \\n            dropout= dropout_rate\\n            )\\n        \\n        self.cross_attention = CrossAttention(\\n            num_heads=num_heads,\\n            key_dims = d_model, \\n            dropout= dropout_rate\\n            )\\n        \\n        self.ffn = FeedForword(d_model=d_model, dff=dff,dropout_rate=dropout_rate)\\n               \\n        self.last_attn_scores = self.cross_attention.last_attn_scores\\n\\n       \\n    def call(self, x, context):\\n        x = self.causal_attention(x)\\n        x = self.cross_attention(x=x, context = context)\\n        x = self.ffn(x)\\n        return x\\n        \";\n                var nbb_formatted_code = \"import tensorflow as tf\\n\\n\\nclass DecoderLayer(tf.keras.layers.Layer):\\n    def __init__(self, d_model, num_heads, dff, dropout_rate=0.1):\\n        super(DecoderLayer, self).__init__()\\n\\n        self.causal_attention = CausalSelfAttention(\\n            num_heads=num_heads, key_dims=d_model, dropout=dropout_rate\\n        )\\n\\n        self.cross_attention = CrossAttention(\\n            num_heads=num_heads, key_dims=d_model, dropout=dropout_rate\\n        )\\n\\n        self.ffn = FeedForword(d_model=d_model, dff=dff, dropout_rate=dropout_rate)\\n\\n        self.last_attn_scores = self.cross_attention.last_attn_scores\\n\\n    def call(self, x, context):\\n        x = self.causal_attention(x)\\n        x = self.cross_attention(x=x, context=context)\\n        x = self.ffn(x)\\n        return x\";\n                var nbb_cells = Jupyter.notebook.get_cells();\n                for (var i = 0; i < nbb_cells.length; ++i) {\n                    if (nbb_cells[i].input_prompt_number == nbb_cell_id) {\n                        if (nbb_cells[i].get_text() == nbb_unformatted_code) {\n                             nbb_cells[i].set_text(nbb_formatted_code);\n                        }\n                        break;\n                    }\n                }\n            }, 500);\n            ",
            "text/plain": [
              "<IPython.core.display.Javascript object>"
            ]
          },
          "metadata": {},
          "output_type": "display_data"
        }
      ],
      "source": [
        "import tensorflow as tf\n",
        "class DecoderLayer(tf.keras.layers.Layer):\n",
        "    def __init__(self, d_model, num_heads, dff, dropout_rate=0.1):\n",
        "        super(DecoderLayer, self).__init__()\n",
        "\n",
        "        self.causal_attention = CausalSelfAttention(\n",
        "            num_heads=num_heads,\n",
        "            key_dims = d_model, \n",
        "            dropout= dropout_rate\n",
        "            )\n",
        "        \n",
        "        self.cross_attention = CrossAttention(\n",
        "            num_heads=num_heads,\n",
        "            key_dims = d_model, \n",
        "            dropout= dropout_rate\n",
        "            )\n",
        "        \n",
        "        self.ffn = FeedForword(d_model=d_model, dff=dff,dropout_rate=dropout_rate)\n",
        "               \n",
        "        self.last_attn_scores = self.cross_attention.last_attn_scores\n",
        "\n",
        "       \n",
        "    def call(self, x, context):\n",
        "        x = self.causal_attention(x)\n",
        "        x = self.cross_attention(x=x, context = context)\n",
        "        x = self.ffn(x)\n",
        "        return x\n",
        "        "
      ]
    },
    {
      "cell_type": "code",
      "execution_count": null,
      "metadata": {
        "id": "NGnmBfZeW5rI",
        "outputId": "fc18c98e-faac-4d19-aedb-da52616eb8a7"
      },
      "outputs": [
        {
          "data": {
            "application/javascript": "\n            setTimeout(function() {\n                var nbb_cell_id = 31;\n                var nbb_unformatted_code = \"class Decoder(tf.keras.layers.Layer):\\n    def __init__(self, num_layers, d_model, num_heads, dff, vocab_size, dropout_rate=0.1):\\n        super().__init__()\\n        \\n        self.num_layers = num_layers \\n        self.d_model = d_model\\n        self.num_heads = num_heads \\n        self.dff = dff\\n        self.vocab_size = vocab_size\\n        self.dropout_rate = dropout_rate=0.1\\n        \\n        self.positional_embedding = PositionalEmbedding(vocab_size=vocab_size, d_model=d_model)\\n        \\n        self.dec_layers = [\\n            DecoderLayer(d_model=d_model, num_heads=num_heads,\\n                        dff=dff, dropout_rate=dropout_rate)\\n            for _ in range(num_layers)]\\n\\n        \\n        self.dropout = tf.keras.layers.Dropout(dropout_rate)\\n        self.last_attn_scores = None\\n\\n\\n    def call(self, x, context):\\n        x = self.positional_embedding(x)\\n        for i in range(self.num_layers):\\n            x = self.dec_layers[i](x=x, context=context)\\n            \\n        self.last_attn_scores = self.dec_layers[-1].last_attn_scores\";\n                var nbb_formatted_code = \"class Decoder(tf.keras.layers.Layer):\\n    def __init__(\\n        self, num_layers, d_model, num_heads, dff, vocab_size, dropout_rate=0.1\\n    ):\\n        super().__init__()\\n\\n        self.num_layers = num_layers\\n        self.d_model = d_model\\n        self.num_heads = num_heads\\n        self.dff = dff\\n        self.vocab_size = vocab_size\\n        self.dropout_rate = dropout_rate = 0.1\\n\\n        self.positional_embedding = PositionalEmbedding(\\n            vocab_size=vocab_size, d_model=d_model\\n        )\\n\\n        self.dec_layers = [\\n            DecoderLayer(\\n                d_model=d_model, num_heads=num_heads, dff=dff, dropout_rate=dropout_rate\\n            )\\n            for _ in range(num_layers)\\n        ]\\n\\n        self.dropout = tf.keras.layers.Dropout(dropout_rate)\\n        self.last_attn_scores = None\\n\\n    def call(self, x, context):\\n        x = self.positional_embedding(x)\\n        for i in range(self.num_layers):\\n            x = self.dec_layers[i](x=x, context=context)\\n\\n        self.last_attn_scores = self.dec_layers[-1].last_attn_scores\";\n                var nbb_cells = Jupyter.notebook.get_cells();\n                for (var i = 0; i < nbb_cells.length; ++i) {\n                    if (nbb_cells[i].input_prompt_number == nbb_cell_id) {\n                        if (nbb_cells[i].get_text() == nbb_unformatted_code) {\n                             nbb_cells[i].set_text(nbb_formatted_code);\n                        }\n                        break;\n                    }\n                }\n            }, 500);\n            ",
            "text/plain": [
              "<IPython.core.display.Javascript object>"
            ]
          },
          "metadata": {},
          "output_type": "display_data"
        }
      ],
      "source": [
        "class Decoder(tf.keras.layers.Layer):\n",
        "    def __init__(self, num_layers, d_model, num_heads, dff, vocab_size, dropout_rate=0.1):\n",
        "        super().__init__()\n",
        "        \n",
        "        self.num_layers = num_layers \n",
        "        self.d_model = d_model\n",
        "        self.num_heads = num_heads \n",
        "        self.dff = dff\n",
        "        self.vocab_size = vocab_size\n",
        "        self.dropout_rate = dropout_rate=0.1\n",
        "        \n",
        "        self.positional_embedding = PositionalEmbedding(vocab_size=vocab_size, d_model=d_model)\n",
        "        \n",
        "        self.dec_layers = [\n",
        "            DecoderLayer(d_model=d_model, num_heads=num_heads,\n",
        "                        dff=dff, dropout_rate=dropout_rate)\n",
        "            for _ in range(num_layers)]\n",
        "\n",
        "        \n",
        "        self.dropout = tf.keras.layers.Dropout(dropout_rate)\n",
        "        self.last_attn_scores = None\n",
        "\n",
        "\n",
        "    def call(self, x, context):\n",
        "        x = self.positional_embedding(x)\n",
        "        for i in range(self.num_layers):\n",
        "            x = self.dec_layers[i](x=x, context=context)\n",
        "            \n",
        "        self.last_attn_scores = self.dec_layers[-1].last_attn_scores\n"
      ]
    },
    {
      "cell_type": "code",
      "execution_count": null,
      "metadata": {
        "id": "vBdEJx0mW5rI",
        "outputId": "636a173e-c7b3-4ec7-d9ce-908cbabc4634"
      },
      "outputs": [
        {
          "data": {
            "application/javascript": "\n            setTimeout(function() {\n                var nbb_cell_id = 32;\n                var nbb_unformatted_code = \"class CaptionGenerator(tf.keras.Model):\\n    def __init__(self, num_layers, d_model, num_heads, dff, vocab_size, patch_size, num_patches, dropout_rate=0.1):\\n        super().__init__()\\n\\n        self.encoder = Encoder(\\n                            num_layers=num_layers,\\n                            d_model=d_model,\\n                            num_heads=num_heads,\\n                            dff=dff,\\n                            patch_size=patch_size,\\n                            num_patches=num_patches,\\n                            dropout_rate=dropout_rate,\\n                            )\\n        \\n        self.decoder = Decoder(\\n                            num_layers=num_layers,\\n                            d_model=d_model,\\n                            num_heads=num_heads,\\n                            dff=dff,\\n                            vocab_size=vocab_size,\\n                            dropout_rate=dropout_rate,\\n                            )\\n        \\n        self.final_layer = tf.keras.layers.Dense(vocab_size\\n                               \\n        )        \\n        self.decoder = Decoder(\\n                            num_heads=num_heads,\\n                            num_layers=num_layers,\\n                            d_model=d_model,\\n                            dff=dff,\\n                            vocab_size=vocab_size,\\n                            dropout_rate=dropout_rate,\\n                            )\\n        \\n        self.final_layer = tf.keras.layers.Dense(vocab_size)\\n        \\n    def call(self, inputs):  # sourcery skip: inline-immediately-returned-variable, use-contextlib-suppress\\n        x, context  = inputs\\n\\n        context = self.encoder(context)  # (batch_size, context_len, d_model)\\n\\n        x = self.decoder(x=X, context=context)  # (batch_size, target_len, d_model)\\n\\n        # Final linear layer output.\\n        logits = self.final_layer(x)  # (batch_size, max_len, target_vocab_size)\\n\\n        # Return the final output and the attention weights.\\n        return logits\";\n                var nbb_formatted_code = \"class CaptionGenerator(tf.keras.Model):\\n    def __init__(\\n        self,\\n        num_layers,\\n        d_model,\\n        num_heads,\\n        dff,\\n        vocab_size,\\n        patch_size,\\n        num_patches,\\n        dropout_rate=0.1,\\n    ):\\n        super().__init__()\\n\\n        self.encoder = Encoder(\\n            num_layers=num_layers,\\n            d_model=d_model,\\n            num_heads=num_heads,\\n            dff=dff,\\n            patch_size=patch_size,\\n            num_patches=num_patches,\\n            dropout_rate=dropout_rate,\\n        )\\n\\n        self.decoder = Decoder(\\n            num_layers=num_layers,\\n            d_model=d_model,\\n            num_heads=num_heads,\\n            dff=dff,\\n            vocab_size=vocab_size,\\n            dropout_rate=dropout_rate,\\n        )\\n\\n        self.final_layer = tf.keras.layers.Dense(vocab_size)\\n        self.decoder = Decoder(\\n            num_heads=num_heads,\\n            num_layers=num_layers,\\n            d_model=d_model,\\n            dff=dff,\\n            vocab_size=vocab_size,\\n            dropout_rate=dropout_rate,\\n        )\\n\\n        self.final_layer = tf.keras.layers.Dense(vocab_size)\\n\\n    def call(\\n        self, inputs\\n    ):  # sourcery skip: inline-immediately-returned-variable, use-contextlib-suppress\\n        x, context = inputs\\n\\n        context = self.encoder(context)  # (batch_size, context_len, d_model)\\n\\n        x = self.decoder(x=X, context=context)  # (batch_size, target_len, d_model)\\n\\n        # Final linear layer output.\\n        logits = self.final_layer(x)  # (batch_size, max_len, target_vocab_size)\\n\\n        # Return the final output and the attention weights.\\n        return logits\";\n                var nbb_cells = Jupyter.notebook.get_cells();\n                for (var i = 0; i < nbb_cells.length; ++i) {\n                    if (nbb_cells[i].input_prompt_number == nbb_cell_id) {\n                        if (nbb_cells[i].get_text() == nbb_unformatted_code) {\n                             nbb_cells[i].set_text(nbb_formatted_code);\n                        }\n                        break;\n                    }\n                }\n            }, 500);\n            ",
            "text/plain": [
              "<IPython.core.display.Javascript object>"
            ]
          },
          "metadata": {},
          "output_type": "display_data"
        }
      ],
      "source": [
        "class CaptionGenerator(tf.keras.Model):\n",
        "    def __init__(self, num_layers, d_model, num_heads, dff, vocab_size, patch_size, num_patches, dropout_rate=0.1):\n",
        "        super().__init__()\n",
        "\n",
        "        self.encoder = Encoder(\n",
        "                            num_layers=num_layers,\n",
        "                            d_model=d_model,\n",
        "                            num_heads=num_heads,\n",
        "                            dff=dff,\n",
        "                            patch_size=patch_size,\n",
        "                            num_patches=num_patches,\n",
        "                            dropout_rate=dropout_rate,\n",
        "                            )\n",
        "        \n",
        "        self.decoder = Decoder(\n",
        "                            num_layers=num_layers,\n",
        "                            d_model=d_model,\n",
        "                            num_heads=num_heads,\n",
        "                            dff=dff,\n",
        "                            vocab_size=vocab_size,\n",
        "                            dropout_rate=dropout_rate,\n",
        "                            )\n",
        "        \n",
        "        self.final_layer = tf.keras.layers.Dense(vocab_size\n",
        "                               \n",
        "        )        \n",
        "        self.decoder = Decoder(\n",
        "                            num_heads=num_heads,\n",
        "                            num_layers=num_layers,\n",
        "                            d_model=d_model,\n",
        "                            dff=dff,\n",
        "                            vocab_size=vocab_size,\n",
        "                            dropout_rate=dropout_rate,\n",
        "                            )\n",
        "        \n",
        "        self.final_layer = tf.keras.layers.Dense(vocab_size)\n",
        "        \n",
        "    def call(self, inputs):  # sourcery skip: inline-immediately-returned-variable, use-contextlib-suppress\n",
        "        x, context  = inputs\n",
        "\n",
        "        context = self.encoder(context)  # (batch_size, context_len, d_model)\n",
        "\n",
        "        x = self.decoder(x=X, context=context)  # (batch_size, target_len, d_model)\n",
        "\n",
        "        # Final linear layer output.\n",
        "        logits = self.final_layer(x)  # (batch_size, max_len, target_vocab_size)\n",
        "\n",
        "        # Return the final output and the attention weights.\n",
        "        return logits"
      ]
    },
    {
      "cell_type": "code",
      "execution_count": null,
      "metadata": {
        "id": "LhjkJcxLW5rI"
      },
      "outputs": [],
      "source": []
    },
    {
      "cell_type": "code",
      "execution_count": null,
      "metadata": {
        "id": "wxpeJA6lW5rI"
      },
      "outputs": [],
      "source": []
    },
    {
      "cell_type": "code",
      "execution_count": null,
      "metadata": {
        "id": "swxMpY0TW5rS"
      },
      "outputs": [],
      "source": []
    },
    {
      "cell_type": "code",
      "execution_count": null,
      "metadata": {
        "id": "NgITS4FZW5rS"
      },
      "outputs": [],
      "source": []
    },
    {
      "cell_type": "code",
      "execution_count": null,
      "metadata": {
        "id": "x6CPp2MDW5rS"
      },
      "outputs": [],
      "source": []
    },
    {
      "cell_type": "code",
      "execution_count": null,
      "metadata": {
        "id": "ASGYQMLVW5rS"
      },
      "outputs": [],
      "source": []
    },
    {
      "cell_type": "code",
      "execution_count": null,
      "metadata": {
        "id": "gGfSoAmeW5rT"
      },
      "outputs": [],
      "source": []
    },
    {
      "cell_type": "code",
      "execution_count": null,
      "metadata": {
        "id": "MFHnTK3MW5rT"
      },
      "outputs": [],
      "source": []
    },
    {
      "cell_type": "code",
      "execution_count": null,
      "metadata": {
        "id": "RyR0EDtgW5rT"
      },
      "outputs": [],
      "source": []
    },
    {
      "cell_type": "code",
      "execution_count": null,
      "metadata": {
        "id": "IkjGIZ2hW5rT"
      },
      "outputs": [],
      "source": []
    },
    {
      "cell_type": "code",
      "execution_count": null,
      "metadata": {
        "id": "YKr23K_aW5rT"
      },
      "outputs": [],
      "source": []
    },
    {
      "cell_type": "code",
      "execution_count": null,
      "metadata": {
        "id": "neLz-3VYW5rT"
      },
      "outputs": [],
      "source": []
    },
    {
      "cell_type": "code",
      "execution_count": null,
      "metadata": {
        "id": "zDbOWgF7W5rT"
      },
      "outputs": [],
      "source": []
    },
    {
      "cell_type": "code",
      "execution_count": null,
      "metadata": {
        "id": "tGQduK0vW5rT"
      },
      "outputs": [],
      "source": []
    },
    {
      "cell_type": "code",
      "execution_count": null,
      "metadata": {
        "id": "I42SfynUW5rU"
      },
      "outputs": [],
      "source": []
    },
    {
      "cell_type": "code",
      "execution_count": null,
      "metadata": {
        "id": "kAhIEbHsW5rU"
      },
      "outputs": [],
      "source": []
    },
    {
      "cell_type": "code",
      "execution_count": null,
      "metadata": {
        "id": "15nHaff2W5rU"
      },
      "outputs": [],
      "source": []
    },
    {
      "cell_type": "code",
      "execution_count": null,
      "metadata": {
        "id": "kqGyqVfpW5rU"
      },
      "outputs": [],
      "source": []
    },
    {
      "cell_type": "code",
      "execution_count": null,
      "metadata": {
        "id": "Bb0wBpiPW5rU"
      },
      "outputs": [],
      "source": []
    },
    {
      "cell_type": "code",
      "execution_count": null,
      "metadata": {
        "id": "FLyFjVZPW5rU"
      },
      "outputs": [],
      "source": []
    },
    {
      "cell_type": "code",
      "execution_count": null,
      "metadata": {
        "id": "0eKVQeBSW5rU"
      },
      "outputs": [],
      "source": []
    },
    {
      "cell_type": "code",
      "execution_count": null,
      "metadata": {
        "id": "dAy-YyLqW5rU"
      },
      "outputs": [],
      "source": []
    },
    {
      "cell_type": "code",
      "execution_count": null,
      "metadata": {
        "id": "PydqdeEjW5rU"
      },
      "outputs": [],
      "source": []
    },
    {
      "cell_type": "code",
      "execution_count": null,
      "metadata": {
        "id": "gHjFRIUjW5rV"
      },
      "outputs": [],
      "source": []
    },
    {
      "cell_type": "code",
      "execution_count": null,
      "metadata": {
        "id": "wdZfaPaKW5rV"
      },
      "outputs": [],
      "source": []
    },
    {
      "cell_type": "code",
      "execution_count": null,
      "metadata": {
        "id": "0-AznBCUW5rV"
      },
      "outputs": [],
      "source": []
    },
    {
      "cell_type": "code",
      "execution_count": null,
      "metadata": {
        "id": "5NtRFhkgW5rV"
      },
      "outputs": [],
      "source": []
    },
    {
      "cell_type": "code",
      "execution_count": null,
      "metadata": {
        "id": "MX79LqHeW5rV"
      },
      "outputs": [],
      "source": []
    },
    {
      "cell_type": "code",
      "execution_count": null,
      "metadata": {
        "id": "K7HDYKXnW5rV"
      },
      "outputs": [],
      "source": []
    },
    {
      "cell_type": "code",
      "execution_count": null,
      "metadata": {
        "id": "F9gtGZo-W5rV"
      },
      "outputs": [],
      "source": []
    },
    {
      "cell_type": "code",
      "execution_count": null,
      "metadata": {
        "id": "tK3soaRqW5rV"
      },
      "outputs": [],
      "source": []
    },
    {
      "cell_type": "code",
      "execution_count": null,
      "metadata": {
        "id": "wmNE0nlfW5rV"
      },
      "outputs": [],
      "source": []
    },
    {
      "cell_type": "code",
      "execution_count": null,
      "metadata": {
        "id": "FFXsthoDW5rW"
      },
      "outputs": [],
      "source": []
    },
    {
      "cell_type": "code",
      "execution_count": null,
      "metadata": {
        "id": "0dbdaqTHW5rW"
      },
      "outputs": [],
      "source": []
    },
    {
      "cell_type": "code",
      "execution_count": null,
      "metadata": {
        "id": "ffA_EVGNW5rW"
      },
      "outputs": [],
      "source": []
    },
    {
      "cell_type": "code",
      "execution_count": null,
      "metadata": {
        "id": "AvqprxyFW5rW"
      },
      "outputs": [],
      "source": []
    },
    {
      "cell_type": "code",
      "execution_count": null,
      "metadata": {
        "id": "SGJGiZdEW5rW"
      },
      "outputs": [],
      "source": []
    },
    {
      "cell_type": "code",
      "execution_count": null,
      "metadata": {
        "id": "5_8uLGPiW5rW"
      },
      "outputs": [],
      "source": []
    },
    {
      "cell_type": "code",
      "execution_count": null,
      "metadata": {
        "id": "p3zSa4r-W5rW"
      },
      "outputs": [],
      "source": []
    },
    {
      "cell_type": "code",
      "execution_count": null,
      "metadata": {
        "id": "kEdRLuwrW5rW"
      },
      "outputs": [],
      "source": []
    },
    {
      "cell_type": "code",
      "execution_count": null,
      "metadata": {
        "id": "P0kMJ4ehW5rW"
      },
      "outputs": [],
      "source": []
    },
    {
      "cell_type": "code",
      "execution_count": null,
      "metadata": {
        "id": "tKaDT3teW5rX"
      },
      "outputs": [],
      "source": []
    },
    {
      "cell_type": "code",
      "execution_count": null,
      "metadata": {
        "id": "X76CUOgZW5rX"
      },
      "outputs": [],
      "source": []
    }
  ],
  "metadata": {
    "colab": {
      "include_colab_link": true,
      "provenance": []
    },
    "kernelspec": {
      "display_name": "tf_new",
      "language": "python",
      "name": "tf_new"
    },
    "language_info": {
      "codemirror_mode": {
        "name": "ipython",
        "version": 3
      },
      "file_extension": ".py",
      "mimetype": "text/x-python",
      "name": "python",
      "nbconvert_exporter": "python",
      "pygments_lexer": "ipython3",
      "version": "3.9.16"
    },
    "orig_nbformat": 4
  },
  "nbformat": 4,
  "nbformat_minor": 0
}
