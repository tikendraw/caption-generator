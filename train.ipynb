{
 "cells": [
  {
   "cell_type": "code",
   "execution_count": 1,
   "metadata": {},
   "outputs": [],
   "source": [
    "import os\n",
    "import sys"
   ]
  },
  {
   "cell_type": "code",
   "execution_count": 2,
   "metadata": {},
   "outputs": [],
   "source": [
    "# os.system('git clone https://github.com/tikendraw/caption-generator.git -q')\n",
    "# os.chdir('caption-generator')"
   ]
  },
  {
   "cell_type": "code",
   "execution_count": 3,
   "metadata": {},
   "outputs": [
    {
     "name": "stderr",
     "output_type": "stream",
     "text": [
      "2023-05-20 16:53:42.154445: I tensorflow/core/platform/cpu_feature_guard.cc:182] This TensorFlow binary is optimized to use available CPU instructions in performance-critical operations.\n",
      "To enable the following instructions: AVX2 FMA, in other operations, rebuild TensorFlow with the appropriate compiler flags.\n",
      "2023-05-20 16:53:43.004537: W tensorflow/compiler/tf2tensorrt/utils/py_utils.cc:38] TF-TRT Warning: Could not find TensorRT\n",
      "2023-05-20 16:53:44.352034: E tensorflow/compiler/xla/stream_executor/cuda/cuda_driver.cc:266] failed call to cuInit: CUDA_ERROR_UNKNOWN: unknown error\n",
      "2023-05-20 16:53:44.352066: I tensorflow/compiler/xla/stream_executor/cuda/cuda_diagnostics.cc:168] retrieving CUDA diagnostic information for host: t\n",
      "2023-05-20 16:53:44.352074: I tensorflow/compiler/xla/stream_executor/cuda/cuda_diagnostics.cc:175] hostname: t\n",
      "2023-05-20 16:53:44.352170: I tensorflow/compiler/xla/stream_executor/cuda/cuda_diagnostics.cc:199] libcuda reported version is: 525.105.17\n",
      "2023-05-20 16:53:44.352192: I tensorflow/compiler/xla/stream_executor/cuda/cuda_diagnostics.cc:203] kernel reported version is: 525.105.17\n",
      "2023-05-20 16:53:44.352199: I tensorflow/compiler/xla/stream_executor/cuda/cuda_diagnostics.cc:309] kernel version seems to match DSO: 525.105.17\n",
      "[nltk_data] Downloading package punkt to /home/t/nltk_data...\n",
      "[nltk_data]   Package punkt is already up-to-date!\n"
     ]
    }
   ],
   "source": [
    "\n",
    "import os\n",
    "import sys\n",
    "import numpy as np\n",
    "import pandas as pd\n",
    "import random, math\n",
    "import tensorflow as tf\n",
    "import glob\n",
    "import shutil\n",
    "from zipfile import ZipFile\n",
    "import datetime\n",
    "import sys\n",
    "from functools import cache\n",
    "from pathlib import Path\n",
    "from tqdm import tqdm\n",
    "import regex as re\n",
    "\n",
    "os.environ['TF_CPP_MIN_LOG_LEVEL'] = '2' \n",
    "\n",
    "from sklearn.model_selection import train_test_split\n",
    "\n",
    "\n",
    "from tensorflow.keras.applications.resnet50 import preprocess_input as resnet_preprocessing\n",
    "from tensorflow.keras.layers import (\n",
    "    TextVectorization, Embedding, LSTM, GRU, Bidirectional, TimeDistributed, Dense, Attention, MultiHeadAttention, Flatten, Dropout,\n",
    "    Concatenate, Activation, GlobalAveragePooling2D\n",
    "    )\n",
    "from tensorflow.keras.layers import LSTM, Embedding, Input, Dense, Dropout, Concatenate\n",
    "from tensorflow.keras.models import Model\n",
    "from tensorflow.keras import backend as K\n",
    "from tensorflow.keras.layers import Layer\n",
    "from tensorflow import keras\n",
    "from tensorflow.keras.utils import array_to_img, img_to_array\n",
    "import string\n",
    "from tensorflow.keras.callbacks import CSVLogger, EarlyStopping, TensorBoard\n",
    "from model import LearningRateDecayCallback, get_model, masked_acc, masked_loss\n",
    "from preprocessing import preprocess_text, embedding_matrix_creater, mapper, clean_words, clean_df\n",
    "from utils import create_model_checkpoint\n",
    "\n",
    "from config import config\n",
    "\n",
    "from get_data import download_dataset\n",
    "from funcyou.dataset import download_kaggle_dataset\n",
    "\n",
    "from funcyou.utils import printt, dir_walk\n",
    "import matplotlib.pyplot as plt\n",
    "from nltk import word_tokenize\n",
    "import nltk\n",
    "from collections import Counter\n",
    "import regex as re\n",
    "import yaml"
   ]
  },
  {
   "cell_type": "code",
   "execution_count": 4,
   "metadata": {},
   "outputs": [],
   "source": [
    "config_file_path = './config.yaml'\n",
    "\n",
    "# Read the config file \n",
    "with open(config_file_path, 'r') as file:\n",
    "    config = yaml.safe_load(file)\n",
    "\n",
    "\n",
    "RAW_CAPTION_FILE                        = config['raw_caption_file']\n",
    "CAPTION_FILE                            = config['caption_file']\n",
    "IMAGE_DIR                               = config['image_dir']\n",
    "IMG_SIZE                                = config['img_size']\n",
    "CHANNELS                                = config['channels']\n",
    "IMG_SHAPE                               = config['img_shape']\n",
    "MAX_LEN                                 = config['max_len']\n",
    "BATCH_SIZE                              = config['batch_size']\n",
    "EPOCHS                                  = config['epochs']\n",
    "LEARNING_RATE                           = config['learning_rate']\n",
    "UNITS                                   = config['units']\n",
    "TEST_SIZE                               = config['test_size']\n",
    "VALIDATION_SIZE                         = config['val_size']\n",
    "EMBEDDING_DIMENSION                     = config['embedding_dimension']\n",
    "GLOVE_PATH                              = config['glove_path']\n",
    "D_MODEL                                 = config['d_model']\n",
    "NUM_HEADS                               = config['num_heads']    \n",
    "NUM_LAYERS                               = config['num_layers']    \n",
    "\n",
    "PATCH_SIZE                              = config['patch_size']    \n",
    "TRANSFORMER_LAYERS                      = config['transformer_layers']        \n"
   ]
  },
  {
   "cell_type": "code",
   "execution_count": 5,
   "metadata": {},
   "outputs": [
    {
     "name": "stdout",
     "output_type": "stream",
     "text": [
      "<class 'pandas.core.frame.DataFrame'>\n",
      "Index: 158914 entries, 0 to 158914\n",
      "Data columns (total 3 columns):\n",
      " #   Column          Non-Null Count   Dtype \n",
      "---  ------          --------------   ----- \n",
      " 0   image_name      158914 non-null  object\n",
      " 1   comment_number  158914 non-null  int64 \n",
      " 2   comment         158914 non-null  object\n",
      "dtypes: int64(1), object(2)\n",
      "memory usage: 4.8+ MB\n",
      "None\n"
     ]
    },
    {
     "data": {
      "text/html": [
       "<div>\n",
       "<style scoped>\n",
       "    .dataframe tbody tr th:only-of-type {\n",
       "        vertical-align: middle;\n",
       "    }\n",
       "\n",
       "    .dataframe tbody tr th {\n",
       "        vertical-align: top;\n",
       "    }\n",
       "\n",
       "    .dataframe thead th {\n",
       "        text-align: right;\n",
       "    }\n",
       "</style>\n",
       "<table border=\"1\" class=\"dataframe\">\n",
       "  <thead>\n",
       "    <tr style=\"text-align: right;\">\n",
       "      <th></th>\n",
       "      <th>image_name</th>\n",
       "      <th>comment_number</th>\n",
       "      <th>comment</th>\n",
       "    </tr>\n",
       "  </thead>\n",
       "  <tbody>\n",
       "    <tr>\n",
       "      <th>0</th>\n",
       "      <td>1000092795.jpg</td>\n",
       "      <td>0</td>\n",
       "      <td>Two young guys with shaggy hair look at their...</td>\n",
       "    </tr>\n",
       "    <tr>\n",
       "      <th>1</th>\n",
       "      <td>1000092795.jpg</td>\n",
       "      <td>1</td>\n",
       "      <td>Two young , White males are outside near many...</td>\n",
       "    </tr>\n",
       "    <tr>\n",
       "      <th>2</th>\n",
       "      <td>1000092795.jpg</td>\n",
       "      <td>2</td>\n",
       "      <td>Two men in green shirts are standing in a yard .</td>\n",
       "    </tr>\n",
       "    <tr>\n",
       "      <th>3</th>\n",
       "      <td>1000092795.jpg</td>\n",
       "      <td>3</td>\n",
       "      <td>A man in a blue shirt standing in a garden .</td>\n",
       "    </tr>\n",
       "    <tr>\n",
       "      <th>4</th>\n",
       "      <td>1000092795.jpg</td>\n",
       "      <td>4</td>\n",
       "      <td>Two friends enjoy time spent together .</td>\n",
       "    </tr>\n",
       "  </tbody>\n",
       "</table>\n",
       "</div>"
      ],
      "text/plain": [
       "       image_name  comment_number   \n",
       "0  1000092795.jpg               0  \\\n",
       "1  1000092795.jpg               1   \n",
       "2  1000092795.jpg               2   \n",
       "3  1000092795.jpg               3   \n",
       "4  1000092795.jpg               4   \n",
       "\n",
       "                                             comment  \n",
       "0   Two young guys with shaggy hair look at their...  \n",
       "1   Two young , White males are outside near many...  \n",
       "2   Two men in green shirts are standing in a yard .  \n",
       "3       A man in a blue shirt standing in a garden .  \n",
       "4            Two friends enjoy time spent together .  "
      ]
     },
     "execution_count": 5,
     "metadata": {},
     "output_type": "execute_result"
    }
   ],
   "source": [
    "df = pd.read_csv(RAW_CAPTION_FILE, sep = '|')\n",
    "\n",
    "# column names have spaces in them\n",
    "df.columns = df.columns.str.lower().str.strip()\n",
    "\n",
    "# dropping some values at 19999\n",
    "df.drop(19999, inplace = True) #bad value at 19999\n",
    "\n",
    "df['comment_number'] = pd.to_numeric(df['comment_number'])\n",
    "\n",
    "#removing nulls\n",
    "df.isnull().sum()\n",
    "df = df.dropna()\n",
    "\n",
    "\n",
    "print(df.info())\n",
    "df.head()"
   ]
  },
  {
   "attachments": {},
   "cell_type": "markdown",
   "metadata": {},
   "source": [
    "# Curating Dataframe"
   ]
  },
  {
   "attachments": {},
   "cell_type": "markdown",
   "metadata": {},
   "source": [
    "### word frequency"
   ]
  },
  {
   "cell_type": "code",
   "execution_count": 6,
   "metadata": {},
   "outputs": [],
   "source": [
    "# get all unique words by count\n",
    "def word_count_df(x:pd.Series):\n",
    "    text_data = x.str.lower().str.cat(sep=' ')\n",
    "    words = word_tokenize(text_data) \n",
    "    word_count = Counter(words)\n",
    "    unique_words = set(words)\n",
    "    len(word_count.keys()), len(word_count.values())\n",
    "\n",
    "    countdf = pd.DataFrame([word_count.keys(), word_count.values()]).T\n",
    "    countdf.columns = ['word', 'counts']\n",
    "    return countdf\n"
   ]
  },
  {
   "cell_type": "code",
   "execution_count": 7,
   "metadata": {},
   "outputs": [
    {
     "data": {
      "text/html": [
       "<div>\n",
       "<style scoped>\n",
       "    .dataframe tbody tr th:only-of-type {\n",
       "        vertical-align: middle;\n",
       "    }\n",
       "\n",
       "    .dataframe tbody tr th {\n",
       "        vertical-align: top;\n",
       "    }\n",
       "\n",
       "    .dataframe thead th {\n",
       "        text-align: right;\n",
       "    }\n",
       "</style>\n",
       "<table border=\"1\" class=\"dataframe\">\n",
       "  <thead>\n",
       "    <tr style=\"text-align: right;\">\n",
       "      <th></th>\n",
       "      <th>word</th>\n",
       "      <th>counts</th>\n",
       "    </tr>\n",
       "  </thead>\n",
       "  <tbody>\n",
       "    <tr>\n",
       "      <th>29</th>\n",
       "      <td>a</td>\n",
       "      <td>271704</td>\n",
       "    </tr>\n",
       "    <tr>\n",
       "      <th>16</th>\n",
       "      <td>.</td>\n",
       "      <td>151063</td>\n",
       "    </tr>\n",
       "    <tr>\n",
       "      <th>13</th>\n",
       "      <td>in</td>\n",
       "      <td>83466</td>\n",
       "    </tr>\n",
       "    <tr>\n",
       "      <th>14</th>\n",
       "      <td>the</td>\n",
       "      <td>62978</td>\n",
       "    </tr>\n",
       "    <tr>\n",
       "      <th>51</th>\n",
       "      <td>on</td>\n",
       "      <td>45669</td>\n",
       "    </tr>\n",
       "  </tbody>\n",
       "</table>\n",
       "</div>"
      ],
      "text/plain": [
       "   word  counts\n",
       "29    a  271704\n",
       "16    .  151063\n",
       "13   in   83466\n",
       "14  the   62978\n",
       "51   on   45669"
      ]
     },
     "execution_count": 7,
     "metadata": {},
     "output_type": "execute_result"
    }
   ],
   "source": [
    "countdf = word_count_df(df['comment'])\n",
    "countdf.sort_values('counts', ascending = False).head()"
   ]
  },
  {
   "cell_type": "code",
   "execution_count": 8,
   "metadata": {},
   "outputs": [
    {
     "name": "stdout",
     "output_type": "stream",
     "text": [
      "low freq words :  12560\n",
      "['spent' 'stitching' 'sequence' 'tractors' 'cruises' 'sifter' 'bundt'\n",
      " 'fingerpaints' 'instrumentalists' 'curtained' 'portrayed' 'blitz'\n",
      " 'toothpick' 'origami' 'justin' 'bieber' 'urinals' 'urinal' 'obliverate'\n",
      " 'uniformly' 'colleges' 'meetings' 'checkpoint' 'advertise'\n",
      " 'single-person' '4-wheeled' 'gamecube' 'picnicking' 'aross' 'mottled'\n",
      " 'placards' 'belays' 'supple' 'sheared' 'spaceship' 'hutch' 'decipher'\n",
      " 'tonight' 'questioning' 'frolicks' 'crampons' 'disregarding' 'slush'\n",
      " 'snowmobiling' 'lucky' 'prescription' 'spectrum' 'month' 'sellers' 'jail'\n",
      " 'band-aid' 'life-vest' 'black-colored' 'filler' 'lowly' 'entrees'\n",
      " 'hesitates' 'suns' 'relatives' 'moutains' 'connects' 'tree-covered'\n",
      " 'multiracial' 'bassoon' 'beanies' 'explained' 'somethings' 'betty' 'boop'\n",
      " 'noddles' 'papayas' 'septic' 'oblong' 'whimsically' 'pantaloons'\n",
      " 'cradled' 'relevance' 'cobs' 'sheath' 'unsheathes' 'riverbed' 'snapshot'\n",
      " 'appetizers' 'pillow-fight' 'i-beam' 'blender' 'magizine' 'overshirt'\n",
      " 'chrome' 'deployment' 'omelet' 'alarm' 'on-duty' 'yellow-and-black'\n",
      " 'coke-a-cola' 'miss' 'apprentice' 'drifts' 'hovel' 'steadied']\n"
     ]
    }
   ],
   "source": [
    "# removing low frequency words, they aren't contributing much\n",
    "low_freq_words_df = countdf[countdf.counts<5]\n",
    "print('low freq words : ',len(low_freq_words_df))\n",
    "print(low_freq_words_df.word.values[:100])"
   ]
  },
  {
   "attachments": {},
   "cell_type": "markdown",
   "metadata": {},
   "source": [
    "we are keeping words in comments which atleast has occured  5 times( there are unnecessary word which we don't want) \n",
    "there are ~12000 words that doesn't even gets repeated 5 times in 150000 lines"
   ]
  },
  {
   "cell_type": "code",
   "execution_count": 9,
   "metadata": {},
   "outputs": [
    {
     "data": {
      "text/plain": [
       "7732"
      ]
     },
     "execution_count": 9,
     "metadata": {},
     "output_type": "execute_result"
    }
   ],
   "source": [
    "words_to_keep=set(countdf[countdf['counts']>4].word.values)\n",
    "len(words_to_keep)"
   ]
  },
  {
   "attachments": {},
   "cell_type": "markdown",
   "metadata": {},
   "source": [
    " ### How many rows cantains rare words"
   ]
  },
  {
   "cell_type": "code",
   "execution_count": 10,
   "metadata": {},
   "outputs": [],
   "source": [
    "\n",
    "def check_words_in_list(string, words):\n",
    "    \"\"\"\n",
    "    Checks if any words in a string are not in a provided list.\n",
    "\n",
    "    Args:\n",
    "    string: The string to check.\n",
    "    words: The list of words to check against.\n",
    "\n",
    "    Returns:\n",
    "    True if any words in the string are not in the provided list, False otherwise.\n",
    "    \"\"\"\n",
    "    string = str(string).lower()\n",
    "    words_in_string = set(string.split())\n",
    "    words_in_list = set(words)\n",
    "\n",
    "    return words_in_string - words_in_list != set()"
   ]
  },
  {
   "cell_type": "code",
   "execution_count": 11,
   "metadata": {},
   "outputs": [
    {
     "data": {
      "text/plain": [
       "False"
      ]
     },
     "execution_count": 11,
     "metadata": {},
     "output_type": "execute_result"
    }
   ],
   "source": [
    "ff = 'in the '\n",
    "check_words_in_list(ff, words_to_keep)"
   ]
  },
  {
   "cell_type": "code",
   "execution_count": 12,
   "metadata": {},
   "outputs": [],
   "source": [
    "df['has_rare_words'] = df['comment'].map(lambda x: check_words_in_list(x,words_to_keep)) # takes 40 sec"
   ]
  },
  {
   "cell_type": "code",
   "execution_count": 13,
   "metadata": {},
   "outputs": [
    {
     "data": {
      "text/plain": [
       "has_rare_words\n",
       "False    140722\n",
       "True      18192\n",
       "Name: count, dtype: int64"
      ]
     },
     "execution_count": 13,
     "metadata": {},
     "output_type": "execute_result"
    }
   ],
   "source": [
    "df.has_rare_words.value_counts()"
   ]
  },
  {
   "attachments": {},
   "cell_type": "markdown",
   "metadata": {},
   "source": [
    "### Removing low frequecy words"
   ]
  },
  {
   "cell_type": "code",
   "execution_count": 14,
   "metadata": {},
   "outputs": [],
   "source": [
    "# now removing words not in words_to_keep\n",
    "\n",
    "def clean_words(x, words_to_keep):\n",
    "    words = re.split(r'\\W+', x)\n",
    "    return ' '.join(w for w in words if w.lower() in words_to_keep)\n"
   ]
  },
  {
   "cell_type": "code",
   "execution_count": 15,
   "metadata": {},
   "outputs": [],
   "source": [
    "df['comment'] = df['comment'].map(lambda x: clean_words(x,words_to_keep=words_to_keep))\n"
   ]
  },
  {
   "cell_type": "code",
   "execution_count": 16,
   "metadata": {},
   "outputs": [
    {
     "data": {
      "text/html": [
       "<div>\n",
       "<style scoped>\n",
       "    .dataframe tbody tr th:only-of-type {\n",
       "        vertical-align: middle;\n",
       "    }\n",
       "\n",
       "    .dataframe tbody tr th {\n",
       "        vertical-align: top;\n",
       "    }\n",
       "\n",
       "    .dataframe thead th {\n",
       "        text-align: right;\n",
       "    }\n",
       "</style>\n",
       "<table border=\"1\" class=\"dataframe\">\n",
       "  <thead>\n",
       "    <tr style=\"text-align: right;\">\n",
       "      <th></th>\n",
       "      <th>image_name</th>\n",
       "      <th>comment_number</th>\n",
       "      <th>comment</th>\n",
       "      <th>has_rare_words</th>\n",
       "    </tr>\n",
       "  </thead>\n",
       "  <tbody>\n",
       "    <tr>\n",
       "      <th>0</th>\n",
       "      <td>1000092795.jpg</td>\n",
       "      <td>0</td>\n",
       "      <td>Two young guys with shaggy hair look at their ...</td>\n",
       "      <td>False</td>\n",
       "    </tr>\n",
       "    <tr>\n",
       "      <th>1</th>\n",
       "      <td>1000092795.jpg</td>\n",
       "      <td>1</td>\n",
       "      <td>Two young White males are outside near many bu...</td>\n",
       "      <td>False</td>\n",
       "    </tr>\n",
       "    <tr>\n",
       "      <th>2</th>\n",
       "      <td>1000092795.jpg</td>\n",
       "      <td>2</td>\n",
       "      <td>Two men in green shirts are standing in a yard</td>\n",
       "      <td>False</td>\n",
       "    </tr>\n",
       "    <tr>\n",
       "      <th>3</th>\n",
       "      <td>1000092795.jpg</td>\n",
       "      <td>3</td>\n",
       "      <td>A man in a blue shirt standing in a garden</td>\n",
       "      <td>False</td>\n",
       "    </tr>\n",
       "    <tr>\n",
       "      <th>4</th>\n",
       "      <td>1000092795.jpg</td>\n",
       "      <td>4</td>\n",
       "      <td>Two friends enjoy time together</td>\n",
       "      <td>True</td>\n",
       "    </tr>\n",
       "  </tbody>\n",
       "</table>\n",
       "</div>"
      ],
      "text/plain": [
       "       image_name  comment_number   \n",
       "0  1000092795.jpg               0  \\\n",
       "1  1000092795.jpg               1   \n",
       "2  1000092795.jpg               2   \n",
       "3  1000092795.jpg               3   \n",
       "4  1000092795.jpg               4   \n",
       "\n",
       "                                             comment  has_rare_words  \n",
       "0  Two young guys with shaggy hair look at their ...           False  \n",
       "1  Two young White males are outside near many bu...           False  \n",
       "2     Two men in green shirts are standing in a yard           False  \n",
       "3         A man in a blue shirt standing in a garden           False  \n",
       "4                    Two friends enjoy time together            True  "
      ]
     },
     "execution_count": 16,
     "metadata": {},
     "output_type": "execute_result"
    }
   ],
   "source": [
    "df.head()"
   ]
  },
  {
   "cell_type": "code",
   "execution_count": 17,
   "metadata": {},
   "outputs": [],
   "source": [
    "df['has_rare_words2'] = df['comment'].map(lambda x: check_words_in_list(x,words_to_keep)) # takes 40 sec"
   ]
  },
  {
   "cell_type": "code",
   "execution_count": 18,
   "metadata": {},
   "outputs": [
    {
     "data": {
      "text/plain": [
       "(has_rare_words\n",
       " False    140722\n",
       " True      18192\n",
       " Name: count, dtype: int64,\n",
       " has_rare_words2\n",
       " False    158914\n",
       " Name: count, dtype: int64)"
      ]
     },
     "execution_count": 18,
     "metadata": {},
     "output_type": "execute_result"
    }
   ],
   "source": [
    "df.has_rare_words.value_counts(), df.has_rare_words2.value_counts()"
   ]
  },
  {
   "attachments": {},
   "cell_type": "markdown",
   "metadata": {},
   "source": [
    "we removed the rare words"
   ]
  },
  {
   "attachments": {},
   "cell_type": "markdown",
   "metadata": {},
   "source": [
    "### Adding start and end token\n"
   ]
  },
  {
   "cell_type": "code",
   "execution_count": 19,
   "metadata": {},
   "outputs": [],
   "source": [
    "# adding start and end token\n",
    "\n",
    "START_TOKEN = 'startseq'\n",
    "END_TOKEN = 'endseq'\n",
    "\n",
    "df['comment'] = START_TOKEN + ' ' + df['comment'] + ' ' + END_TOKEN\n",
    "\n",
    "# image_path\n",
    "df['image_path'] = str(IMAGE_DIR) + '/' + df['image_name']\n",
    "\n",
    "# word_length\n",
    "df['sent_length'] = df['comment'].apply(lambda x: len(str(x).split()))\n"
   ]
  },
  {
   "attachments": {},
   "cell_type": "markdown",
   "metadata": {},
   "source": []
  },
  {
   "cell_type": "code",
   "execution_count": 20,
   "metadata": {},
   "outputs": [],
   "source": [
    "df['img_exists'] = df['image_path'].apply(lambda x: os.path.isfile(x))"
   ]
  },
  {
   "cell_type": "code",
   "execution_count": 21,
   "metadata": {},
   "outputs": [
    {
     "data": {
      "text/html": [
       "<div>\n",
       "<style scoped>\n",
       "    .dataframe tbody tr th:only-of-type {\n",
       "        vertical-align: middle;\n",
       "    }\n",
       "\n",
       "    .dataframe tbody tr th {\n",
       "        vertical-align: top;\n",
       "    }\n",
       "\n",
       "    .dataframe thead th {\n",
       "        text-align: right;\n",
       "    }\n",
       "</style>\n",
       "<table border=\"1\" class=\"dataframe\">\n",
       "  <thead>\n",
       "    <tr style=\"text-align: right;\">\n",
       "      <th></th>\n",
       "      <th>image_name</th>\n",
       "      <th>comment_number</th>\n",
       "      <th>comment</th>\n",
       "      <th>has_rare_words</th>\n",
       "      <th>has_rare_words2</th>\n",
       "      <th>image_path</th>\n",
       "      <th>sent_length</th>\n",
       "      <th>img_exists</th>\n",
       "    </tr>\n",
       "  </thead>\n",
       "  <tbody>\n",
       "    <tr>\n",
       "      <th>0</th>\n",
       "      <td>1000092795.jpg</td>\n",
       "      <td>0</td>\n",
       "      <td>startseq Two young guys with shaggy hair look ...</td>\n",
       "      <td>False</td>\n",
       "      <td>False</td>\n",
       "      <td>input/flickr30k/images/1000092795.jpg</td>\n",
       "      <td>18</td>\n",
       "      <td>True</td>\n",
       "    </tr>\n",
       "    <tr>\n",
       "      <th>1</th>\n",
       "      <td>1000092795.jpg</td>\n",
       "      <td>1</td>\n",
       "      <td>startseq Two young White males are outside nea...</td>\n",
       "      <td>False</td>\n",
       "      <td>False</td>\n",
       "      <td>input/flickr30k/images/1000092795.jpg</td>\n",
       "      <td>11</td>\n",
       "      <td>True</td>\n",
       "    </tr>\n",
       "    <tr>\n",
       "      <th>2</th>\n",
       "      <td>1000092795.jpg</td>\n",
       "      <td>2</td>\n",
       "      <td>startseq Two men in green shirts are standing ...</td>\n",
       "      <td>False</td>\n",
       "      <td>False</td>\n",
       "      <td>input/flickr30k/images/1000092795.jpg</td>\n",
       "      <td>12</td>\n",
       "      <td>True</td>\n",
       "    </tr>\n",
       "    <tr>\n",
       "      <th>3</th>\n",
       "      <td>1000092795.jpg</td>\n",
       "      <td>3</td>\n",
       "      <td>startseq A man in a blue shirt standing in a g...</td>\n",
       "      <td>False</td>\n",
       "      <td>False</td>\n",
       "      <td>input/flickr30k/images/1000092795.jpg</td>\n",
       "      <td>12</td>\n",
       "      <td>True</td>\n",
       "    </tr>\n",
       "    <tr>\n",
       "      <th>4</th>\n",
       "      <td>1000092795.jpg</td>\n",
       "      <td>4</td>\n",
       "      <td>startseq Two friends enjoy time together endseq</td>\n",
       "      <td>True</td>\n",
       "      <td>False</td>\n",
       "      <td>input/flickr30k/images/1000092795.jpg</td>\n",
       "      <td>7</td>\n",
       "      <td>True</td>\n",
       "    </tr>\n",
       "  </tbody>\n",
       "</table>\n",
       "</div>"
      ],
      "text/plain": [
       "       image_name  comment_number   \n",
       "0  1000092795.jpg               0  \\\n",
       "1  1000092795.jpg               1   \n",
       "2  1000092795.jpg               2   \n",
       "3  1000092795.jpg               3   \n",
       "4  1000092795.jpg               4   \n",
       "\n",
       "                                             comment  has_rare_words   \n",
       "0  startseq Two young guys with shaggy hair look ...           False  \\\n",
       "1  startseq Two young White males are outside nea...           False   \n",
       "2  startseq Two men in green shirts are standing ...           False   \n",
       "3  startseq A man in a blue shirt standing in a g...           False   \n",
       "4    startseq Two friends enjoy time together endseq            True   \n",
       "\n",
       "   has_rare_words2                             image_path  sent_length   \n",
       "0            False  input/flickr30k/images/1000092795.jpg           18  \\\n",
       "1            False  input/flickr30k/images/1000092795.jpg           11   \n",
       "2            False  input/flickr30k/images/1000092795.jpg           12   \n",
       "3            False  input/flickr30k/images/1000092795.jpg           12   \n",
       "4            False  input/flickr30k/images/1000092795.jpg            7   \n",
       "\n",
       "   img_exists  \n",
       "0        True  \n",
       "1        True  \n",
       "2        True  \n",
       "3        True  \n",
       "4        True  "
      ]
     },
     "execution_count": 21,
     "metadata": {},
     "output_type": "execute_result"
    }
   ],
   "source": [
    "df.head()"
   ]
  },
  {
   "attachments": {},
   "cell_type": "markdown",
   "metadata": {},
   "source": [
    "### Sentence length distribution"
   ]
  },
  {
   "cell_type": "code",
   "execution_count": 22,
   "metadata": {},
   "outputs": [
    {
     "data": {
      "text/plain": [
       "<AxesSubplot: ylabel='Frequency'>"
      ]
     },
     "execution_count": 22,
     "metadata": {},
     "output_type": "execute_result"
    },
    {
     "data": {
      "image/png": "[encoded data removed]",
      "text/plain": [
       "<Figure size 640x480 with 1 Axes>"
      ]
     },
     "metadata": {},
     "output_type": "display_data"
    }
   ],
   "source": [
    "df.sent_length.plot(kind='hist', bins = 50)"
   ]
  },
  {
   "cell_type": "code",
   "execution_count": 23,
   "metadata": {},
   "outputs": [
    {
     "data": {
      "text/plain": [
       "50.0"
      ]
     },
     "execution_count": 23,
     "metadata": {},
     "output_type": "execute_result"
    }
   ],
   "source": [
    "np.percentile(df.sent_length, 99.96)"
   ]
  },
  {
   "cell_type": "code",
   "execution_count": 24,
   "metadata": {},
   "outputs": [],
   "source": [
    "MAX_LEN = 50 # It covers more than 98.5% of the data"
   ]
  },
  {
   "attachments": {},
   "cell_type": "markdown",
   "metadata": {},
   "source": [
    "### **For the Sake of COmputation power and time we will train with one caption per image rather than 5 caption per image**"
   ]
  },
  {
   "cell_type": "code",
   "execution_count": 25,
   "metadata": {},
   "outputs": [
    {
     "data": {
      "text/plain": [
       "(158914, 8)"
      ]
     },
     "execution_count": 25,
     "metadata": {},
     "output_type": "execute_result"
    }
   ],
   "source": [
    "df.shape"
   ]
  },
  {
   "attachments": {},
   "cell_type": "markdown",
   "metadata": {},
   "source": [
    "Finding median sentence length for all class of comment numbers, to ensure that our MAX_LEN covers all of them"
   ]
  },
  {
   "cell_type": "code",
   "execution_count": 26,
   "metadata": {},
   "outputs": [
    {
     "data": {
      "text/html": [
       "<div>\n",
       "<style scoped>\n",
       "    .dataframe tbody tr th:only-of-type {\n",
       "        vertical-align: middle;\n",
       "    }\n",
       "\n",
       "    .dataframe tbody tr th {\n",
       "        vertical-align: top;\n",
       "    }\n",
       "\n",
       "    .dataframe thead tr th {\n",
       "        text-align: left;\n",
       "    }\n",
       "\n",
       "    .dataframe thead tr:last-of-type th {\n",
       "        text-align: right;\n",
       "    }\n",
       "</style>\n",
       "<table border=\"1\" class=\"dataframe\">\n",
       "  <thead>\n",
       "    <tr>\n",
       "      <th></th>\n",
       "      <th colspan=\"5\" halign=\"left\">sent_length</th>\n",
       "    </tr>\n",
       "    <tr>\n",
       "      <th></th>\n",
       "      <th>mean</th>\n",
       "      <th>median</th>\n",
       "      <th>min</th>\n",
       "      <th>max</th>\n",
       "      <th>count</th>\n",
       "    </tr>\n",
       "    <tr>\n",
       "      <th>comment_number</th>\n",
       "      <th></th>\n",
       "      <th></th>\n",
       "      <th></th>\n",
       "      <th></th>\n",
       "      <th></th>\n",
       "    </tr>\n",
       "  </thead>\n",
       "  <tbody>\n",
       "    <tr>\n",
       "      <th>0</th>\n",
       "      <td>19.871472</td>\n",
       "      <td>19.0</td>\n",
       "      <td>6</td>\n",
       "      <td>79</td>\n",
       "      <td>31783</td>\n",
       "    </tr>\n",
       "    <tr>\n",
       "      <th>1</th>\n",
       "      <td>15.859485</td>\n",
       "      <td>15.0</td>\n",
       "      <td>6</td>\n",
       "      <td>41</td>\n",
       "      <td>31783</td>\n",
       "    </tr>\n",
       "    <tr>\n",
       "      <th>2</th>\n",
       "      <td>13.603027</td>\n",
       "      <td>13.0</td>\n",
       "      <td>4</td>\n",
       "      <td>34</td>\n",
       "      <td>31783</td>\n",
       "    </tr>\n",
       "    <tr>\n",
       "      <th>3</th>\n",
       "      <td>11.771922</td>\n",
       "      <td>11.0</td>\n",
       "      <td>4</td>\n",
       "      <td>36</td>\n",
       "      <td>31783</td>\n",
       "    </tr>\n",
       "    <tr>\n",
       "      <th>4</th>\n",
       "      <td>9.871846</td>\n",
       "      <td>10.0</td>\n",
       "      <td>3</td>\n",
       "      <td>38</td>\n",
       "      <td>31782</td>\n",
       "    </tr>\n",
       "  </tbody>\n",
       "</table>\n",
       "</div>"
      ],
      "text/plain": [
       "               sent_length                      \n",
       "                      mean median min max  count\n",
       "comment_number                                  \n",
       "0                19.871472   19.0   6  79  31783\n",
       "1                15.859485   15.0   6  41  31783\n",
       "2                13.603027   13.0   4  34  31783\n",
       "3                11.771922   11.0   4  36  31783\n",
       "4                 9.871846   10.0   3  38  31782"
      ]
     },
     "execution_count": 26,
     "metadata": {},
     "output_type": "execute_result"
    }
   ],
   "source": [
    "\n",
    "# Group by a categorical column\n",
    "grouped = df.select_dtypes(include=['float64', 'int64']).groupby('comment_number')\n",
    "\n",
    "\n",
    "# Apply aggregation functions on numerical columns\n",
    "aggregated = grouped.agg(['mean', 'median', 'min', 'max', 'count'])\n",
    "aggregated"
   ]
  },
  {
   "cell_type": "code",
   "execution_count": 27,
   "metadata": {},
   "outputs": [
    {
     "data": {
      "text/plain": [
       "(31783, 8)"
      ]
     },
     "execution_count": 27,
     "metadata": {},
     "output_type": "execute_result"
    }
   ],
   "source": [
    "# i randomly chose 2nd comment of all picture you can chose anything bw 0 to 4\n",
    "df= df[(df.comment_number==1) & (df.img_exists==True)&(df.sent_length<51)]\n",
    "df.shape"
   ]
  },
  {
   "attachments": {},
   "cell_type": "markdown",
   "metadata": {},
   "source": [
    "now we are just using 1/5 dataset"
   ]
  },
  {
   "attachments": {},
   "cell_type": "markdown",
   "metadata": {},
   "source": [
    "# Tokenize"
   ]
  },
  {
   "cell_type": "code",
   "execution_count": 28,
   "metadata": {},
   "outputs": [],
   "source": [
    "def preprocess_text(text):\n",
    "\n",
    "    text = tf.strings.lower(text)\n",
    "\n",
    "    text = tf.strings.regex_replace(text, r'\\d', '')\n",
    "\n",
    "    # Remove any punctuations\n",
    "    text = tf.strings.regex_replace(text, '[%s]' % re.escape(\n",
    "        '!\"#$%&\\'()*+,-./:;<=>?@[\\\\]^_`{|}~'), '')\n",
    "\n",
    "    # Remove single characters\n",
    "    text = tf.strings.regex_replace(text, r'\\b\\w\\b', '')\n",
    "    # Keep space, a to z, and select punctuation.\n",
    "    text = tf.strings.regex_replace(text, '[^ a-z.?!,¿]', '')\n",
    "    # Add spaces around punctuation.\n",
    "    text = tf.strings.regex_replace(text, '[.?!,¿|]', r' \\0 ')\n",
    "    # Strip whitespace.\n",
    "    text = tf.strings.strip(text)\n",
    "\n",
    "    return text\n"
   ]
  },
  {
   "cell_type": "code",
   "execution_count": 29,
   "metadata": {},
   "outputs": [],
   "source": [
    "\n",
    "#tokenizer\n",
    "tokenizer = TextVectorization(standardize=preprocess_text)\n",
    "tokenizer.adapt(df['comment'])\n",
    "\n",
    "\n",
    "word_to_id = tf.keras.layers.StringLookup(vocabulary=tokenizer.get_vocabulary(), mask_token='', oov_token='[UNK]')\n",
    "id_to_word = tf.keras.layers.StringLookup(vocabulary=tokenizer.get_vocabulary(), mask_token='', oov_token='[UNK]', invert=True)\n"
   ]
  },
  {
   "cell_type": "code",
   "execution_count": 30,
   "metadata": {},
   "outputs": [],
   "source": [
    "# # load image model\n",
    "# vgg = tf.keras.applications.VGG16(\n",
    "#     include_top=False,\n",
    "#     weights=\"imagenet\",\n",
    "#     input_tensor=tf.keras.layers.Input(shape=IMG_SHAPE))\n",
    "\n",
    "# vgg.trainable = False"
   ]
  },
  {
   "attachments": {},
   "cell_type": "markdown",
   "metadata": {},
   "source": [
    "# making Dataset"
   ]
  },
  {
   "cell_type": "code",
   "execution_count": 31,
   "metadata": {},
   "outputs": [],
   "source": [
    "\n",
    "def mapper(x, y, tokenizer):\n",
    "    x = load_images_now(x)\n",
    "    y = tokenizer(y)\n",
    "\n",
    "    y_in = y[:-1]\n",
    "    y_in =  tf.pad(y_in, [[0, MAX_LEN - tf.shape(y_in)[0]]] , constant_values=0)\n",
    "\n",
    "    y_out = y[1:]\n",
    "    y_out =  tf.pad(y_out, [[0, MAX_LEN - tf.shape(y_out)[0]]], constant_values=0)\n",
    "\n",
    "    return (x, y_in), y_out\n",
    "\n",
    "\n",
    "@tf.function\n",
    "def load_images_now(x):\n",
    "    image_data = tf.io.read_file(x)\n",
    "    image_features = tf.image.decode_jpeg(image_data, channels=CHANNELS)\n",
    "    image_features = tf.image.resize_with_pad(\n",
    "        image_features, target_height=IMG_SIZE, target_width=IMG_SIZE)\n",
    "    return image_features\n"
   ]
  },
  {
   "cell_type": "code",
   "execution_count": 32,
   "metadata": {},
   "outputs": [],
   "source": [
    "# Trying to match max_len* units to output of vgg16 output( for attention layer)\n",
    "# for i in range(1,51):\n",
    "#     calc = 8*8*512/MAX_LEN*8*i\n",
    "#     print(f'{calc:>20} : {i}')\n",
    "#     if calc % 1==0:\n",
    "#         print(f'{i} is chosen one')\n",
    "#         print(MAX_LEN)"
   ]
  },
  {
   "cell_type": "code",
   "execution_count": 33,
   "metadata": {},
   "outputs": [
    {
     "data": {
      "image/png": "[encoded data removed]",
      "text/plain": [
       "<PIL.Image.Image image mode=RGB size=256x256>"
      ]
     },
     "execution_count": 33,
     "metadata": {},
     "output_type": "execute_result"
    }
   ],
   "source": [
    "random_image_filepath = df['image_path'].sample(1).values[0]\n",
    "\n",
    "p_image = load_images_now(random_image_filepath)\n",
    "\n",
    "array_to_img(p_image)\n"
   ]
  },
  {
   "cell_type": "code",
   "execution_count": null,
   "metadata": {},
   "outputs": [],
   "source": []
  },
  {
   "cell_type": "code",
   "execution_count": 34,
   "metadata": {},
   "outputs": [
    {
     "name": "stdout",
     "output_type": "stream",
     "text": [
      "Number of training samples: 3586\n",
      "Number of validation samples: 199\n",
      "Number of test samples: 189\n",
      "Vocabulary size: 7104\n"
     ]
    },
    {
     "name": "stderr",
     "output_type": "stream",
     "text": [
      "2023-05-20 16:55:12.981456: I tensorflow/core/common_runtime/executor.cc:1197] [/device:CPU:0] (DEBUG INFO) Executor start aborting (this does not indicate an error and you can ignore this message): INVALID_ARGUMENT: You must feed a value for placeholder tensor 'args_0' with dtype string\n",
      "\t [[{{node args_0}}]]\n",
      "2023-05-20 16:55:13.051438: I tensorflow/core/common_runtime/executor.cc:1197] [/device:CPU:0] (DEBUG INFO) Executor start aborting (this does not indicate an error and you can ignore this message): INVALID_ARGUMENT: You must feed a value for placeholder tensor 'args_0' with dtype string\n",
      "\t [[{{node args_0}}]]\n",
      "2023-05-20 16:55:13.117991: I tensorflow/core/common_runtime/executor.cc:1197] [/device:CPU:0] (DEBUG INFO) Executor start aborting (this does not indicate an error and you can ignore this message): INVALID_ARGUMENT: You must feed a value for placeholder tensor 'args_0' with dtype string\n",
      "\t [[{{node args_0}}]]\n"
     ]
    }
   ],
   "source": [
    "# Creating dataset\n",
    "TEST_SIZE = config['test_size']\n",
    "VAL_SIZE =  config['val_size']\n",
    "\n",
    "train, val = train_test_split(\n",
    "    df[['image_path', 'comment']],  test_size=VAL_SIZE, random_state=11)\n",
    "train, test = train_test_split(\n",
    "    train[['image_path', 'comment']],  test_size=TEST_SIZE, random_state=11)\n",
    "\n",
    "\n",
    "train_data = tf.data.Dataset.from_tensor_slices((train.image_path, train.comment))\n",
    "test_data = tf.data.Dataset.from_tensor_slices((test.image_path, test.comment))\n",
    "val_data = tf.data.Dataset.from_tensor_slices((val.image_path, val.comment))\n",
    "\n",
    "\n",
    "train_data = train_data.map(lambda x,y:mapper(x, y, tokenizer)).batch(BATCH_SIZE).prefetch(tf.data.AUTOTUNE)\n",
    "test_data =   test_data.map(lambda x,y:mapper(x, y, tokenizer)).batch(BATCH_SIZE).prefetch(tf.data.AUTOTUNE)\n",
    "val_data =     val_data.map(lambda x,y:mapper(x, y, tokenizer)).batch(BATCH_SIZE).prefetch(tf.data.AUTOTUNE)\n",
    "\n",
    "# resnet_output_flattened_shape = 8*8*2048\n",
    "\n",
    "print(\"Number of training samples: %d\" %\n",
    "      tf.data.experimental.cardinality(train_data))\n",
    "print(\"Number of validation samples: %d\" %\n",
    "      tf.data.experimental.cardinality(val_data))\n",
    "print(\"Number of test samples: %d\" %\n",
    "      tf.data.experimental.cardinality(test_data))\n",
    "\n",
    "VOCAB_SIZE = tokenizer.vocabulary_size()\n",
    "print(\"Vocabulary size: %d\" % VOCAB_SIZE)\n"
   ]
  },
  {
   "cell_type": "code",
   "execution_count": 35,
   "metadata": {},
   "outputs": [
    {
     "data": {
      "text/plain": [
       "((28683, 2), 28688)"
      ]
     },
     "execution_count": 35,
     "metadata": {},
     "output_type": "execute_result"
    }
   ],
   "source": [
    "train.shape, len(train_data)*BATCH_SIZE"
   ]
  },
  {
   "cell_type": "code",
   "execution_count": 36,
   "metadata": {},
   "outputs": [
    {
     "name": "stdout",
     "output_type": "stream",
     "text": [
      "x     :  (8, 256, 256, 3)\n",
      "y_in.shape(one batch)  :  (8, 50)\n",
      "y_in  :  tf.Tensor(\n",
      "[   2 1710   31    8  580    6    4  192   11   56    9  326  251    0\n",
      "    0    0    0    0    0    0    0    0    0    0    0    0    0    0\n",
      "    0    0    0    0    0    0    0    0    0    0    0    0    0    0\n",
      "    0    0    0    0    0    0    0    0], shape=(50,), dtype=int64)\n",
      "y_out.shape(one batch)  :  (8, 50)\n",
      "y_out :  tf.Tensor(\n",
      "[1710   31    8  580    6    4  192   11   56    9  326  251    3    0\n",
      "    0    0    0    0    0    0    0    0    0    0    0    0    0    0\n",
      "    0    0    0    0    0    0    0    0    0    0    0    0    0    0\n",
      "    0    0    0    0    0    0    0    0], shape=(50,), dtype=int64)\n",
      "\n",
      "\n"
     ]
    },
    {
     "name": "stderr",
     "output_type": "stream",
     "text": [
      "2023-05-20 16:55:13.229601: I tensorflow/core/common_runtime/executor.cc:1197] [/device:CPU:0] (DEBUG INFO) Executor start aborting (this does not indicate an error and you can ignore this message): INVALID_ARGUMENT: You must feed a value for placeholder tensor 'Placeholder/_1' with dtype string and shape [28683]\n",
      "\t [[{{node Placeholder/_1}}]]\n"
     ]
    }
   ],
   "source": [
    "for (img_in, txt_in), txt_out in train_data.take(1):\n",
    "    # print(f'{i.numpy().decode():<40} {j.numpy()}')\n",
    "    print('x     : ', img_in.shape)\n",
    "    print('y_in.shape(one batch)  : ', txt_in.shape)\n",
    "    \n",
    "    print('y_in  : ', txt_in[0])\n",
    "    \n",
    "    print('y_out.shape(one batch)  : ', txt_out.shape)\n",
    "    print('y_out : ', txt_out[0])\n",
    "    print('\\n')\n"
   ]
  },
  {
   "attachments": {},
   "cell_type": "markdown",
   "metadata": {},
   "source": [
    "# Model"
   ]
  },
  {
   "cell_type": "code",
   "execution_count": 37,
   "metadata": {},
   "outputs": [
    {
     "name": "stdout",
     "output_type": "stream",
     "text": [
      "UNITS=16 MAX_LEN=50 BATCH_SIZE=8 7104\n"
     ]
    }
   ],
   "source": [
    "print(f'{UNITS=} {MAX_LEN=} {BATCH_SIZE=} {VOCAB_SIZE}')"
   ]
  },
  {
   "cell_type": "code",
   "execution_count": 39,
   "metadata": {},
   "outputs": [
    {
     "name": "stdout",
     "output_type": "stream",
     "text": [
      "/bin/bash: /home/t/miniconda3/envs/tf_new/lib/libtinfo.so.6: no version information available (required by /bin/bash)\n",
      "caption-generator-for-kaggle.ipynb  libdevice.10.bc\n",
      "captiongenerator_notebook.ipynb     local_config_cuda\n",
      "checkpoints\t\t\t    main.py\n",
      "config.py\t\t\t    model.py\n",
      "config.yaml\t\t\t    preprocessing.py\n",
      "data\t\t\t\t    __pycache__\n",
      "embedding\t\t\t    train.ipynb\n",
      "Evaluate.txt\t\t\t    transformer_in_making.ipynb\n",
      "funcyou\t\t\t\t    transformer.png\n",
      "get_data.py\t\t\t    transformer.py\n",
      "input\t\t\t\t    utils.py\n"
     ]
    }
   ],
   "source": [
    "!ls"
   ]
  },
  {
   "cell_type": "code",
   "execution_count": 38,
   "metadata": {},
   "outputs": [
    {
     "ename": "NameError",
     "evalue": "name 'image_size' is not defined",
     "output_type": "error",
     "traceback": [
      "\u001b[0;31m---------------------------------------------------------------------------\u001b[0m",
      "\u001b[0;31mNameError\u001b[0m                                 Traceback (most recent call last)",
      "Cell \u001b[0;32mIn[38], line 1\u001b[0m\n\u001b[0;32m----> 1\u001b[0m \u001b[39mfrom\u001b[39;00m \u001b[39mtransformer\u001b[39;00m \u001b[39mimport\u001b[39;00m CaptionGenerator\n",
      "File \u001b[0;32m~/cproject/caption-generator/transformer.py:122\u001b[0m\n\u001b[1;32m    118\u001b[0m     \u001b[39mreturn\u001b[39;00m x\n\u001b[1;32m    121\u001b[0m patch_size \u001b[39m=\u001b[39m \u001b[39m42\u001b[39m  \u001b[39m# Size of the patches to be extract from the input images\u001b[39;00m\n\u001b[0;32m--> 122\u001b[0m num_patches \u001b[39m=\u001b[39m (image_size \u001b[39m/\u001b[39m\u001b[39m/\u001b[39m patch_size) \u001b[39m*\u001b[39m\u001b[39m*\u001b[39m \u001b[39m2\u001b[39m \u001b[39m# trich here is to match max_len to num_patches for matching the shapes for concatination\u001b[39;00m\n\u001b[1;32m    127\u001b[0m \u001b[39mclass\u001b[39;00m \u001b[39mPatches\u001b[39;00m(tf\u001b[39m.\u001b[39mkeras\u001b[39m.\u001b[39mlayers\u001b[39m.\u001b[39mLayer):\n\u001b[1;32m    128\u001b[0m     \u001b[39mdef\u001b[39;00m \u001b[39m__init__\u001b[39m(\u001b[39mself\u001b[39m, patch_size):\n",
      "\u001b[0;31mNameError\u001b[0m: name 'image_size' is not defined"
     ]
    }
   ],
   "source": [
    "from transformer import CaptionGenerator"
   ]
  },
  {
   "cell_type": "code",
   "execution_count": null,
   "metadata": {},
   "outputs": [
    {
     "name": "stdout",
     "output_type": "stream",
     "text": [
      "image_input:  (None, 8, 512)\n",
      "Dense:  (None, 3600)\n",
      "reshape:  (None, 30, 120)\n",
      "dense concat:  (None, 30, 240)\n",
      "txt_input:  (None, 30)\n",
      "text_embedding:  (None, 30, 50)\n",
      "enc dropout:  (None, 30, 50)\n",
      "decoder output:  (None, 30, 240)\n",
      "decoder dropout:  (None, 30, 240)\n",
      "attention:  (None, 30, 240)\n",
      "concat:  (None, 30, 480)\n",
      "concat dropout:  (None, 30, 480)\n",
      "Dense3_final:  (None, 30, 6830)\n",
      "Model: \"model\"\n",
      "__________________________________________________________________________________________________\n",
      " Layer (type)                   Output Shape         Param #     Connected to                     \n",
      "==================================================================================================\n",
      " text_input (InputLayer)        [(None, 30)]         0           []                               \n",
      "                                                                                                  \n",
      " image_input (InputLayer)       [(None, 8, 512)]     0           []                               \n",
      "                                                                                                  \n",
      " embedding (Embedding)          (None, 30, 50)       341500      ['text_input[0][0]']             \n",
      "                                                                                                  \n",
      " flatten (Flatten)              (None, 4096)         0           ['image_input[0][0]']            \n",
      "                                                                                                  \n",
      " dropout (Dropout)              (None, 30, 50)       0           ['embedding[0][0]']              \n",
      "                                                                                                  \n",
      " dense (Dense)                  (None, 3600)         14749200    ['flatten[0][0]']                \n",
      "                                                                                                  \n",
      " bidirectional (Bidirectional)  (None, 30, 240)      164160      ['dropout[0][0]']                \n",
      "                                                                                                  \n",
      " tf.reshape (TFOpLambda)        (None, 30, 120)      0           ['dense[0][0]']                  \n",
      "                                                                                                  \n",
      " dropout_1 (Dropout)            (None, 30, 240)      0           ['bidirectional[0][0]']          \n",
      "                                                                                                  \n",
      " concatenate (Concatenate)      (None, 30, 240)      0           ['tf.reshape[0][0]',             \n",
      "                                                                  'tf.reshape[0][0]']             \n",
      "                                                                                                  \n",
      " attention (Attention)          (None, 30, 240)      0           ['concatenate[0][0]',            \n",
      "                                                                  'dropout_1[0][0]']              \n",
      "                                                                                                  \n",
      " concatenate_1 (Concatenate)    (None, 30, 480)      0           ['dropout_1[0][0]',              \n",
      "                                                                  'attention[0][0]']              \n",
      "                                                                                                  \n",
      " dropout_2 (Dropout)            (None, 30, 480)      0           ['concatenate_1[0][0]']          \n",
      "                                                                                                  \n",
      " dense_1 (Dense)                (None, 30, 6830)     3285230     ['dropout_2[0][0]']              \n",
      "                                                                                                  \n",
      "==================================================================================================\n",
      "Total params: 18,540,090\n",
      "Trainable params: 18,540,090\n",
      "Non-trainable params: 0\n",
      "__________________________________________________________________________________________________\n",
      "None\n"
     ]
    }
   ],
   "source": [
    "model = get_model()\n",
    "print(model.summary())"
   ]
  },
  {
   "cell_type": "code",
   "execution_count": null,
   "metadata": {},
   "outputs": [],
   "source": [
    "\n",
    "def masked_loss(y_true, y_pred):\n",
    "    loss_fn = tf.keras.losses.SparseCategoricalCrossentropy(\n",
    "        reduction='none')\n",
    "    loss = loss_fn(y_true, y_pred)\n",
    "\n",
    "    mask = tf.cast(y_true != 0, loss.dtype)\n",
    "    loss *= mask\n",
    "\n",
    "    return tf.reduce_sum(loss)/tf.reduce_sum(mask)\n",
    "\n",
    "def masked_acc(y_true, y_pred):\n",
    "    y_pred = tf.argmax(y_pred, axis=-1)\n",
    "    y_pred = tf.cast(y_pred, y_true.dtype)\n",
    "\n",
    "    matchh = tf.cast(y_true == y_pred, tf.float32)\n",
    "    mask = tf.cast(y_true != 0, tf.float32)\n",
    "\n",
    "    return tf.reduce_sum(matchh)/tf.reduce_sum(mask)\n"
   ]
  },
  {
   "cell_type": "code",
   "execution_count": null,
   "metadata": {},
   "outputs": [
    {
     "name": "stdout",
     "output_type": "stream",
     "text": [
      "0.01\n"
     ]
    }
   ],
   "source": [
    "print(LEARNING_RATE)"
   ]
  },
  {
   "cell_type": "code",
   "execution_count": null,
   "metadata": {},
   "outputs": [],
   "source": [
    "model.compile(optimizer=tf.keras.optimizers.Adam(learning_rate=LEARNING_RATE),\n",
    "              loss=masked_loss,\n",
    "              metrics=[masked_acc])\n"
   ]
  },
  {
   "cell_type": "code",
   "execution_count": null,
   "metadata": {},
   "outputs": [
    {
     "data": {
      "text/plain": [
       "<tensorflow.python.checkpoint.checkpoint.CheckpointLoadStatus at 0x79b6ee33bb20>"
      ]
     },
     "metadata": {},
     "output_type": "display_data"
    }
   ],
   "source": [
    "model.load_weights(f'model_weights/best_so_far/')"
   ]
  },
  {
   "cell_type": "code",
   "execution_count": null,
   "metadata": {},
   "outputs": [],
   "source": [
    "os.makedirs('log', exist_ok=True)\n",
    "csv_logger = CSVLogger('./log/training.log',append=True )\n",
    "tb_callback = tf.keras.callbacks.TensorBoard('./logs', update_freq=1)\n",
    "\n",
    "log_dir = \"logs/fit/\" + datetime.datetime.now().strftime(\"%Y%m%d-%H%M%S\")\n",
    "tensorboard_callback = tf.keras.callbacks.TensorBoard(log_dir=log_dir, histogram_freq=1)"
   ]
  },
  {
   "cell_type": "code",
   "execution_count": null,
   "metadata": {},
   "outputs": [
    {
     "name": "stdout",
     "output_type": "stream",
     "text": [
      "9 0\n",
      "20 1\n"
     ]
    }
   ],
   "source": [
    "EPOCHS = 360\n",
    "print(len(train_data) // EPOCHS, len(val_data) // EPOCHS)\n",
    "\n",
    "# steps_per_epoch = int(1*(len(train_data) / EPOCHS))\n",
    "# validation_steps =  int(1*(len(val_data) / EPOCHS))\n",
    "# print(steps_per_epoch, validation_steps)\n",
    "\n",
    "steps_per_epoch = 20\n",
    "validation_steps = 1\n",
    "print(steps_per_epoch, validation_steps)\n"
   ]
  },
  {
   "cell_type": "code",
   "execution_count": null,
   "metadata": {},
   "outputs": [
    {
     "data": {
      "text/plain": [
       "(3586, 199, 189)"
      ]
     },
     "metadata": {},
     "output_type": "display_data"
    }
   ],
   "source": [
    "len(train_data), len(val_data), len(test_data)"
   ]
  },
  {
   "cell_type": "code",
   "execution_count": null,
   "metadata": {},
   "outputs": [
    {
     "data": {
      "text/plain": [
       "{'expected_loss': 8.829079952564836, 'expected_acc': 0.00014641288433382137}"
      ]
     },
     "metadata": {},
     "output_type": "display_data"
    }
   ],
   "source": [
    "{\"expected_loss\": np.log(VOCAB_SIZE),\n",
    " \"expected_acc\": 1/VOCAB_SIZE}"
   ]
  },
  {
   "attachments": {},
   "cell_type": "markdown",
   "metadata": {},
   "source": [
    "## model.fit"
   ]
  },
  {
   "cell_type": "code",
   "execution_count": null,
   "metadata": {},
   "outputs": [
    {
     "name": "stdout",
     "output_type": "stream",
     "text": [
      "Epoch 1/360\n",
      "20/20 [==============================] - 120s 5s/step - loss: 8.8291 - masked_acc: 0.0012 - val_loss: 8.8291 - val_masked_acc: 0.0000e+00\n",
      "Epoch 2/360\n",
      "20/20 [==============================] - 63s 3s/step - loss: 8.8291 - masked_acc: 0.0000e+00 - val_loss: 8.8291 - val_masked_acc: 0.0000e+00\n",
      "Epoch 3/360\n",
      "20/20 [==============================] - 68s 4s/step - loss: 8.8291 - masked_acc: 0.0011 - val_loss: 8.8291 - val_masked_acc: 0.0000e+00\n",
      "Epoch 4/360\n",
      "20/20 [==============================] - 64s 3s/step - loss: 8.8291 - masked_acc: 0.0000e+00 - val_loss: 8.8291 - val_masked_acc: 0.0000e+00\n",
      "Epoch 5/360\n",
      "20/20 [==============================] - 71s 4s/step - loss: 8.8291 - masked_acc: 0.0011 - val_loss: 8.8291 - val_masked_acc: 0.0000e+00\n",
      "Epoch 6/360\n",
      "20/20 [==============================] - 68s 4s/step - loss: 8.8291 - masked_acc: 0.0000e+00 - val_loss: 8.8291 - val_masked_acc: 0.0000e+00\n",
      "Epoch 7/360\n",
      "20/20 [==============================] - 68s 4s/step - loss: 8.8315 - masked_acc: 5.6306e-04 - val_loss: 8.8291 - val_masked_acc: 0.0000e+00\n",
      "Epoch 8/360\n",
      "20/20 [==============================] - 108s 6s/step - loss: 8.8291 - masked_acc: 0.0023 - val_loss: 8.8291 - val_masked_acc: 0.0000e+00\n",
      "Epoch 9/360\n",
      "20/20 [==============================] - 51s 3s/step - loss: 8.8291 - masked_acc: 5.6948e-04 - val_loss: 8.8291 - val_masked_acc: 0.0000e+00\n",
      "Epoch 10/360\n",
      "20/20 [==============================] - 66s 3s/step - loss: 8.8320 - masked_acc: 5.9312e-04 - val_loss: 8.8291 - val_masked_acc: 0.0000e+00\n",
      "Epoch 11/360\n",
      "20/20 [==============================] - 69s 4s/step - loss: 8.8291 - masked_acc: 0.0012 - val_loss: 8.8291 - val_masked_acc: 0.0000e+00\n",
      "Epoch 12/360\n",
      "20/20 [==============================] - 69s 4s/step - loss: 8.8291 - masked_acc: 0.0000e+00 - val_loss: 8.8291 - val_masked_acc: 0.0000e+00\n",
      "Epoch 13/360\n",
      "20/20 [==============================] - 73s 4s/step - loss: 8.8291 - masked_acc: 0.0000e+00 - val_loss: 8.8291 - val_masked_acc: 0.0000e+00\n",
      "Epoch 14/360\n",
      "20/20 [==============================] - 70s 4s/step - loss: 8.8291 - masked_acc: 0.0000e+00 - val_loss: 8.8291 - val_masked_acc: 0.0000e+00\n",
      "Epoch 15/360\n",
      "20/20 [==============================] - 65s 3s/step - loss: 8.8291 - masked_acc: 0.0000e+00 - val_loss: 8.8291 - val_masked_acc: 0.0000e+00\n",
      "Epoch 16/360\n",
      "20/20 [==============================] - 71s 4s/step - loss: 8.8291 - masked_acc: 0.0000e+00 - val_loss: 8.8291 - val_masked_acc: 0.0000e+00\n",
      "Epoch 17/360\n",
      "20/20 [==============================] - 66s 3s/step - loss: 8.8291 - masked_acc: 5.6948e-04 - val_loss: 8.8291 - val_masked_acc: 0.0000e+00\n",
      "Epoch 18/360\n",
      "20/20 [==============================] - 72s 4s/step - loss: 8.8291 - masked_acc: 0.0000e+00 - val_loss: 8.8291 - val_masked_acc: 0.0000e+00\n",
      "Epoch 19/360\n",
      "20/20 [==============================] - 65s 3s/step - loss: 8.8291 - masked_acc: 5.6948e-04 - val_loss: 8.8291 - val_masked_acc: 0.0000e+00\n",
      "Epoch 20/360\n",
      "20/20 [==============================] - 73s 4s/step - loss: 8.8291 - masked_acc: 0.0000e+00 - val_loss: 8.8291 - val_masked_acc: 0.0000e+00\n",
      "Epoch 21/360\n",
      "20/20 [==============================] - 69s 4s/step - loss: 8.8291 - masked_acc: 5.7537e-04 - val_loss: 8.8291 - val_masked_acc: 0.0000e+00\n",
      "Epoch 22/360\n",
      "20/20 [==============================] - 64s 3s/step - loss: 8.8291 - masked_acc: 0.0012 - val_loss: 8.8291 - val_masked_acc: 0.0000e+00\n",
      "Epoch 23/360\n",
      "20/20 [==============================] - 71s 4s/step - loss: 8.8291 - masked_acc: 0.0000e+00 - val_loss: 8.8291 - val_masked_acc: 0.0000e+00\n",
      "Epoch 24/360\n",
      "20/20 [==============================] - 69s 4s/step - loss: 8.8291 - masked_acc: 0.0000e+00 - val_loss: 8.8291 - val_masked_acc: 0.0000e+00\n",
      "Epoch 25/360\n",
      "20/20 [==============================] - 69s 4s/step - loss: 8.8291 - masked_acc: 0.0000e+00 - val_loss: 8.8291 - val_masked_acc: 0.0000e+00\n",
      "Epoch 26/360\n",
      "20/20 [==============================] - 64s 3s/step - loss: 8.8291 - masked_acc: 0.0000e+00 - val_loss: 8.8291 - val_masked_acc: 0.0000e+00\n",
      "Epoch 27/360\n",
      "20/20 [==============================] - 71s 4s/step - loss: 8.8291 - masked_acc: 0.0000e+00 - val_loss: 8.8291 - val_masked_acc: 0.0000e+00\n",
      "Epoch 28/360\n",
      "20/20 [==============================] - 68s 4s/step - loss: 8.8291 - masked_acc: 5.8038e-04 - val_loss: 8.8291 - val_masked_acc: 0.0000e+00\n",
      "Epoch 29/360\n",
      "20/20 [==============================] - 63s 3s/step - loss: 8.8291 - masked_acc: 0.0000e+00 - val_loss: 8.8291 - val_masked_acc: 0.0000e+00\n",
      "Epoch 30/360\n",
      "20/20 [==============================] - 67s 4s/step - loss: 8.8291 - masked_acc: 5.8038e-04 - val_loss: 8.8291 - val_masked_acc: 0.0000e+00\n",
      "Epoch 31/360\n",
      "20/20 [==============================] - 72s 4s/step - loss: 8.8320 - masked_acc: 0.0012 - val_loss: 8.8291 - val_masked_acc: 0.0000e+00\n",
      "Epoch 32/360\n",
      "20/20 [==============================] - 67s 4s/step - loss: 8.8291 - masked_acc: 0.0000e+00 - val_loss: 8.8291 - val_masked_acc: 0.0000e+00\n",
      "Epoch 33/360\n",
      "20/20 [==============================] - 67s 4s/step - loss: 8.8291 - masked_acc: 0.0000e+00 - val_loss: 8.8291 - val_masked_acc: 0.0000e+00\n",
      "Epoch 34/360\n",
      "20/20 [==============================] - 67s 4s/step - loss: 8.8291 - masked_acc: 5.6243e-04 - val_loss: 8.8291 - val_masked_acc: 0.0000e+00\n",
      "Epoch 35/360\n",
      "20/20 [==============================] - 65s 3s/step - loss: 8.8291 - masked_acc: 5.6433e-04 - val_loss: 8.8291 - val_masked_acc: 0.0000e+00\n",
      "Epoch 36/360\n",
      "20/20 [==============================] - 67s 4s/step - loss: 8.8291 - masked_acc: 0.0012 - val_loss: 8.8291 - val_masked_acc: 0.0000e+00\n",
      "Epoch 37/360\n",
      "20/20 [==============================] - 70s 4s/step - loss: 8.8291 - masked_acc: 5.7339e-04 - val_loss: 8.8291 - val_masked_acc: 0.0000e+00\n",
      "Epoch 38/360\n",
      "20/20 [==============================] - 66s 3s/step - loss: 8.8291 - masked_acc: 0.0000e+00 - val_loss: 8.8291 - val_masked_acc: 0.0000e+00\n",
      "Epoch 39/360\n",
      "20/20 [==============================] - 66s 3s/step - loss: 8.8291 - masked_acc: 0.0000e+00 - val_loss: 8.8291 - val_masked_acc: 0.0000e+00\n",
      "Epoch 40/360\n",
      "20/20 [==============================] - 65s 3s/step - loss: 8.8291 - masked_acc: 5.8548e-04 - val_loss: 8.8291 - val_masked_acc: 0.0000e+00\n",
      "Epoch 41/360\n",
      "20/20 [==============================] - 66s 3s/step - loss: 8.8291 - masked_acc: 0.0000e+00 - val_loss: 8.8291 - val_masked_acc: 0.0000e+00\n",
      "Epoch 42/360\n",
      "20/20 [==============================] - 65s 3s/step - loss: 8.8291 - masked_acc: 0.0011 - val_loss: 8.8291 - val_masked_acc: 0.0000e+00\n",
      "Epoch 43/360\n",
      "20/20 [==============================] - 68s 4s/step - loss: 8.8291 - masked_acc: 5.5218e-04 - val_loss: 8.8291 - val_masked_acc: 0.0000e+00\n",
      "Epoch 44/360\n",
      "20/20 [==============================] - 67s 4s/step - loss: 8.8291 - masked_acc: 5.6915e-04 - val_loss: 8.8291 - val_masked_acc: 0.0000e+00\n",
      "Epoch 45/360\n",
      "20/20 [==============================] - 67s 4s/step - loss: 8.8291 - masked_acc: 5.7176e-04 - val_loss: 8.8291 - val_masked_acc: 0.0000e+00\n",
      "Epoch 46/360\n",
      "20/20 [==============================] - 67s 4s/step - loss: 8.8291 - masked_acc: 0.0000e+00 - val_loss: 8.8291 - val_masked_acc: 0.0000e+00\n",
      "Epoch 47/360\n",
      "20/20 [==============================] - 66s 3s/step - loss: 8.8291 - masked_acc: 5.7013e-04 - val_loss: 8.8291 - val_masked_acc: 0.0000e+00\n",
      "Epoch 48/360\n",
      "20/20 [==============================] - 64s 3s/step - loss: 8.8291 - masked_acc: 0.0012 - val_loss: 8.8291 - val_masked_acc: 0.0000e+00\n",
      "Epoch 49/360\n",
      "20/20 [==============================] - 71s 4s/step - loss: 8.8291 - masked_acc: 0.0000e+00 - val_loss: 8.8291 - val_masked_acc: 0.0000e+00\n",
      "Epoch 50/360\n",
      "20/20 [==============================] - 62s 3s/step - loss: 8.8291 - masked_acc: 0.0000e+00 - val_loss: 8.8291 - val_masked_acc: 0.0000e+00\n",
      "Epoch 51/360\n",
      "20/20 [==============================] - 70s 4s/step - loss: 8.8291 - masked_acc: 5.6754e-04 - val_loss: 8.8291 - val_masked_acc: 0.0000e+00\n",
      "Epoch 52/360\n",
      "20/20 [==============================] - 62s 3s/step - loss: 8.8291 - masked_acc: 5.6497e-04 - val_loss: 8.8291 - val_masked_acc: 0.0000e+00\n",
      "Epoch 53/360\n",
      "20/20 [==============================] - 70s 4s/step - loss: 8.8291 - masked_acc: 0.0000e+00 - val_loss: 8.8291 - val_masked_acc: 0.0000e+00\n",
      "Epoch 54/360\n",
      "20/20 [==============================] - 66s 3s/step - loss: 8.8291 - masked_acc: 0.0000e+00 - val_loss: 8.8291 - val_masked_acc: 0.0000e+00\n",
      "Epoch 55/360\n",
      "20/20 [==============================] - 66s 3s/step - loss: 8.8291 - masked_acc: 0.0000e+00 - val_loss: 8.8291 - val_masked_acc: 0.0000e+00\n",
      "Epoch 56/360\n",
      "20/20 [==============================] - 61s 3s/step - loss: 8.8291 - masked_acc: 0.0012 - val_loss: 8.8291 - val_masked_acc: 0.0000e+00\n",
      "Epoch 57/360\n",
      "20/20 [==============================] - 72s 4s/step - loss: 8.8291 - masked_acc: 5.6561e-04 - val_loss: 8.8291 - val_masked_acc: 0.0000e+00\n",
      "Epoch 58/360\n",
      "20/20 [==============================] - 64s 3s/step - loss: 8.8291 - masked_acc: 5.7471e-04 - val_loss: 8.8291 - val_masked_acc: 0.0000e+00\n",
      "Epoch 59/360\n",
      "20/20 [==============================] - 61s 3s/step - loss: 8.8291 - masked_acc: 0.0000e+00 - val_loss: 8.8291 - val_masked_acc: 0.0000e+00\n",
      "Epoch 60/360\n",
      "20/20 [==============================] - 68s 4s/step - loss: 8.8291 - masked_acc: 5.7045e-04 - val_loss: 8.8291 - val_masked_acc: 0.0000e+00\n",
      "Epoch 61/360\n",
      "20/20 [==============================] - 61s 3s/step - loss: 8.8291 - masked_acc: 0.0012 - val_loss: 8.8291 - val_masked_acc: 0.0000e+00\n",
      "Epoch 62/360\n",
      "20/20 [==============================] - 64s 3s/step - loss: 8.8291 - masked_acc: 0.0017 - val_loss: 8.8291 - val_masked_acc: 0.0000e+00\n",
      "Epoch 63/360\n",
      "20/20 [==============================] - 64s 3s/step - loss: 8.8291 - masked_acc: 0.0011 - val_loss: 8.8291 - val_masked_acc: 0.0000e+00\n",
      "Epoch 64/360\n",
      "20/20 [==============================] - 68s 4s/step - loss: 8.8291 - masked_acc: 0.0000e+00 - val_loss: 8.8291 - val_masked_acc: 0.0000e+00\n",
      "Epoch 65/360\n",
      "20/20 [==============================] - 64s 3s/step - loss: 8.8291 - masked_acc: 0.0000e+00 - val_loss: 8.8291 - val_masked_acc: 0.0000e+00\n",
      "Epoch 66/360\n",
      "20/20 [==============================] - 64s 3s/step - loss: 8.8291 - masked_acc: 0.0000e+00 - val_loss: 8.8291 - val_masked_acc: 0.0000e+00\n",
      "Epoch 67/360\n",
      "20/20 [==============================] - 64s 3s/step - loss: 8.8291 - masked_acc: 0.0000e+00 - val_loss: 8.8291 - val_masked_acc: 0.0000e+00\n",
      "Epoch 68/360\n",
      "20/20 [==============================] - 61s 3s/step - loss: 8.8291 - masked_acc: 0.0012 - val_loss: 8.8291 - val_masked_acc: 0.0000e+00\n",
      "Epoch 69/360\n",
      "20/20 [==============================] - 69s 4s/step - loss: 8.8291 - masked_acc: 0.0000e+00 - val_loss: 8.8291 - val_masked_acc: 0.0000e+00\n",
      "Epoch 70/360\n",
      "20/20 [==============================] - 65s 3s/step - loss: 8.8291 - masked_acc: 5.7438e-04 - val_loss: 8.8291 - val_masked_acc: 0.0000e+00\n",
      "Epoch 71/360\n",
      "20/20 [==============================] - 65s 3s/step - loss: 8.8291 - masked_acc: 5.7143e-04 - val_loss: 8.8291 - val_masked_acc: 0.0000e+00\n",
      "Epoch 72/360\n",
      "20/20 [==============================] - 66s 3s/step - loss: 8.8291 - masked_acc: 0.0000e+00 - val_loss: 8.8291 - val_masked_acc: 0.0000e+00\n",
      "Epoch 73/360\n",
      "20/20 [==============================] - 61s 3s/step - loss: 8.8291 - masked_acc: 5.6721e-04 - val_loss: 8.8291 - val_masked_acc: 0.0000e+00\n",
      "Epoch 74/360\n",
      "20/20 [==============================] - 65s 3s/step - loss: 8.8320 - masked_acc: 0.0000e+00 - val_loss: 8.8291 - val_masked_acc: 0.0000e+00\n",
      "Epoch 75/360\n",
      "20/20 [==============================] - 68s 4s/step - loss: 8.8291 - masked_acc: 0.0011 - val_loss: 8.8291 - val_masked_acc: 0.0000e+00\n",
      "Epoch 76/360\n",
      "20/20 [==============================] - 64s 3s/step - loss: 8.8291 - masked_acc: 5.7604e-04 - val_loss: 8.8291 - val_masked_acc: 0.0000e+00\n",
      "Epoch 77/360\n",
      "20/20 [==============================] - 61s 3s/step - loss: 8.8291 - masked_acc: 5.5127e-04 - val_loss: 8.8291 - val_masked_acc: 0.0000e+00\n",
      "Epoch 78/360\n",
      "20/20 [==============================] - 65s 3s/step - loss: 8.8291 - masked_acc: 0.0017 - val_loss: 8.8291 - val_masked_acc: 0.0000e+00\n",
      "Epoch 79/360\n",
      "20/20 [==============================] - 69s 4s/step - loss: 8.8291 - masked_acc: 5.8275e-04 - val_loss: 8.8291 - val_masked_acc: 0.0000e+00\n",
      "Epoch 80/360\n",
      "20/20 [==============================] - 59s 3s/step - loss: 8.8291 - masked_acc: 0.0012 - val_loss: 8.8291 - val_masked_acc: 0.0000e+00\n",
      "Epoch 81/360\n",
      "20/20 [==============================] - 69s 4s/step - loss: 8.8291 - masked_acc: 5.5310e-04 - val_loss: 8.8291 - val_masked_acc: 0.0000e+00\n",
      "Epoch 82/360\n",
      "20/20 [==============================] - 60s 3s/step - loss: 8.8291 - masked_acc: 5.7471e-04 - val_loss: 8.8291 - val_masked_acc: 0.0000e+00\n",
      "Epoch 83/360\n",
      "20/20 [==============================] - 64s 3s/step - loss: 8.8291 - masked_acc: 0.0000e+00 - val_loss: 8.8291 - val_masked_acc: 0.0000e+00\n",
      "Epoch 84/360\n",
      "20/20 [==============================] - 68s 4s/step - loss: 8.8291 - masked_acc: 0.0000e+00 - val_loss: 8.8291 - val_masked_acc: 0.0000e+00\n",
      "Epoch 85/360\n",
      "20/20 [==============================] - 60s 3s/step - loss: 8.8291 - masked_acc: 0.0011 - val_loss: 8.8291 - val_masked_acc: 0.0000e+00\n",
      "Epoch 86/360\n",
      "20/20 [==============================] - 68s 4s/step - loss: 8.8291 - masked_acc: 0.0011 - val_loss: 8.8291 - val_masked_acc: 0.0000e+00\n",
      "Epoch 87/360\n",
      "20/20 [==============================] - 64s 3s/step - loss: 8.8291 - masked_acc: 0.0000e+00 - val_loss: 8.8291 - val_masked_acc: 0.0000e+00\n",
      "Epoch 88/360\n",
      "20/20 [==============================] - 60s 3s/step - loss: 8.8291 - masked_acc: 0.0012 - val_loss: 8.8291 - val_masked_acc: 0.0000e+00\n",
      "Epoch 89/360\n",
      "20/20 [==============================] - 65s 3s/step - loss: 8.8291 - masked_acc: 0.0000e+00 - val_loss: 8.8291 - val_masked_acc: 0.0000e+00\n",
      "Epoch 90/360\n",
      "20/20 [==============================] - 64s 3s/step - loss: 8.8291 - masked_acc: 5.7837e-04 - val_loss: 8.8291 - val_masked_acc: 0.0000e+00\n",
      "Epoch 91/360\n",
      "20/20 [==============================] - 65s 3s/step - loss: 8.8291 - masked_acc: 0.0000e+00 - val_loss: 8.8291 - val_masked_acc: 0.0000e+00\n",
      "Epoch 92/360\n",
      "20/20 [==============================] - 70s 4s/step - loss: 8.8291 - masked_acc: 0.0017 - val_loss: 8.8291 - val_masked_acc: 0.0000e+00\n",
      "Epoch 93/360\n",
      "20/20 [==============================] - 61s 3s/step - loss: 8.8291 - masked_acc: 0.0000e+00 - val_loss: 8.8291 - val_masked_acc: 0.0000e+00\n",
      "Epoch 94/360\n",
      "20/20 [==============================] - 72s 4s/step - loss: 8.8291 - masked_acc: 0.0011 - val_loss: 8.8291 - val_masked_acc: 0.0000e+00\n",
      "Epoch 95/360\n",
      "20/20 [==============================] - 70s 4s/step - loss: 8.8291 - masked_acc: 0.0000e+00 - val_loss: 8.8291 - val_masked_acc: 0.0000e+00\n",
      "Epoch 96/360\n",
      "20/20 [==============================] - 65s 3s/step - loss: 8.8291 - masked_acc: 0.0012 - val_loss: 8.8291 - val_masked_acc: 0.0000e+00\n",
      "Epoch 97/360\n",
      "20/20 [==============================] - 71s 4s/step - loss: 8.8291 - masked_acc: 5.7803e-04 - val_loss: 8.8291 - val_masked_acc: 0.0000e+00\n",
      "Epoch 98/360\n",
      "20/20 [==============================] - 67s 4s/step - loss: 8.8291 - masked_acc: 0.0011 - val_loss: 8.8291 - val_masked_acc: 0.0000e+00\n",
      "Epoch 99/360\n",
      "20/20 [==============================] - 64s 3s/step - loss: 8.8291 - masked_acc: 0.0000e+00 - val_loss: 8.8291 - val_masked_acc: 0.0000e+00\n",
      "Epoch 100/360\n",
      "20/20 [==============================] - 72s 4s/step - loss: 8.8291 - masked_acc: 0.0000e+00 - val_loss: 8.8291 - val_masked_acc: 0.0000e+00\n",
      "Epoch 101/360\n",
      "20/20 [==============================] - 68s 4s/step - loss: 8.8291 - masked_acc: 0.0011 - val_loss: 8.8291 - val_masked_acc: 0.0000e+00\n",
      "Epoch 102/360\n",
      "20/20 [==============================] - 68s 4s/step - loss: 8.8331 - masked_acc: 0.0000e+00 - val_loss: 8.8291 - val_masked_acc: 0.0000e+00\n",
      "Epoch 103/360\n",
      "20/20 [==============================] - 68s 4s/step - loss: 8.8291 - masked_acc: 0.0000e+00 - val_loss: 8.8291 - val_masked_acc: 0.0000e+00\n",
      "Epoch 104/360\n",
      "20/20 [==============================] - 67s 4s/step - loss: 8.8291 - masked_acc: 0.0000e+00 - val_loss: 8.8291 - val_masked_acc: 0.0000e+00\n",
      "Epoch 105/360\n",
      "20/20 [==============================] - 61s 3s/step - loss: 8.8325 - masked_acc: 0.0017 - val_loss: 8.8291 - val_masked_acc: 0.0000e+00\n",
      "Epoch 106/360\n",
      "20/20 [==============================] - 71s 4s/step - loss: 8.8291 - masked_acc: 0.0011 - val_loss: 8.8291 - val_masked_acc: 0.0000e+00\n",
      "Epoch 107/360\n",
      "20/20 [==============================] - 66s 3s/step - loss: 8.8291 - masked_acc: 5.8720e-04 - val_loss: 8.8291 - val_masked_acc: 0.0000e+00\n",
      "Epoch 108/360\n",
      "20/20 [==============================] - 61s 3s/step - loss: 8.8291 - masked_acc: 5.7670e-04 - val_loss: 8.8291 - val_masked_acc: 0.0000e+00\n",
      "Epoch 109/360\n",
      "20/20 [==============================] - 70s 4s/step - loss: 8.8291 - masked_acc: 5.6306e-04 - val_loss: 8.8291 - val_masked_acc: 0.0000e+00\n",
      "Epoch 110/360\n",
      "20/20 [==============================] - 63s 3s/step - loss: 8.8291 - masked_acc: 0.0017 - val_loss: 8.8291 - val_masked_acc: 0.0000e+00\n",
      "Epoch 111/360\n",
      "20/20 [==============================] - 109s 6s/step - loss: 8.8291 - masked_acc: 0.0023 - val_loss: 8.8291 - val_masked_acc: 0.0000e+00\n",
      "Epoch 112/360\n",
      "20/20 [==============================] - 45s 2s/step - loss: 8.8291 - masked_acc: 0.0000e+00 - val_loss: 8.8291 - val_masked_acc: 0.0000e+00\n",
      "Epoch 113/360\n",
      "20/20 [==============================] - 64s 3s/step - loss: 8.8291 - masked_acc: 0.0011 - val_loss: 8.8291 - val_masked_acc: 0.0000e+00\n",
      "Epoch 114/360\n",
      "20/20 [==============================] - 66s 3s/step - loss: 8.8291 - masked_acc: 0.0000e+00 - val_loss: 8.8291 - val_masked_acc: 0.0000e+00\n",
      "Epoch 115/360\n",
      "20/20 [==============================] - 66s 3s/step - loss: 8.8291 - masked_acc: 0.0017 - val_loss: 8.8291 - val_masked_acc: 0.0000e+00\n",
      "Epoch 116/360\n",
      "20/20 [==============================] - 66s 3s/step - loss: 8.8291 - masked_acc: 0.0012 - val_loss: 8.8291 - val_masked_acc: 0.0000e+00\n",
      "Epoch 117/360\n",
      "20/20 [==============================] - 66s 3s/step - loss: 8.8291 - masked_acc: 0.0012 - val_loss: 8.8291 - val_masked_acc: 0.0000e+00\n",
      "Epoch 118/360\n",
      "20/20 [==============================] - 67s 4s/step - loss: 8.8291 - masked_acc: 0.0012 - val_loss: 8.8291 - val_masked_acc: 0.0000e+00\n",
      "Epoch 119/360\n",
      "20/20 [==============================] - 62s 3s/step - loss: 8.8291 - masked_acc: 5.7307e-04 - val_loss: 8.8291 - val_masked_acc: 0.0000e+00\n",
      "Epoch 120/360\n",
      "20/20 [==============================] - 68s 4s/step - loss: 8.8291 - masked_acc: 0.0012 - val_loss: 8.8291 - val_masked_acc: 0.0000e+00\n",
      "Epoch 121/360\n",
      "20/20 [==============================] - 65s 3s/step - loss: 8.8319 - masked_acc: 0.0017 - val_loss: 8.8291 - val_masked_acc: 0.0000e+00\n",
      "Epoch 122/360\n",
      "20/20 [==============================] - ETA: 0s - loss: 8.8291 - masked_acc: 5.9067e-04"
     ]
    },
    {
     "ename": "KeyboardInterrupt",
     "evalue": "",
     "output_type": "error",
     "traceback": [
      "\u001b[0;31m---------------------------------------------------------------------------\u001b[0m\n",
      "\u001b[0;31mKeyboardInterrupt\u001b[0m                         Traceback (most recent call last)\n",
      "Cell \u001b[0;32mIn[56], line 1\u001b[0m\n",
      "\u001b[0;32m----> 1\u001b[0m history \u001b[38;5;241m=\u001b[39m \u001b[43mmodel\u001b[49m\u001b[38;5;241;43m.\u001b[39;49m\u001b[43mfit\u001b[49m\u001b[43m(\u001b[49m\u001b[43mtrain_data\u001b[49m\u001b[38;5;241;43m.\u001b[39;49m\u001b[43mrepeat\u001b[49m\u001b[43m(\u001b[49m\u001b[43m)\u001b[49m\u001b[43m,\u001b[49m\n",
      "\u001b[1;32m      2\u001b[0m \u001b[43m                    \u001b[49m\u001b[43mepochs\u001b[49m\u001b[38;5;241;43m=\u001b[39;49m\u001b[43mEPOCHS\u001b[49m\u001b[43m,\u001b[49m\n",
      "\u001b[1;32m      3\u001b[0m \u001b[43m                    \u001b[49m\u001b[43mvalidation_data\u001b[49m\u001b[38;5;241;43m=\u001b[39;49m\u001b[43mval_data\u001b[49m\u001b[43m,\u001b[49m\n",
      "\u001b[1;32m      4\u001b[0m \u001b[43m                    \u001b[49m\u001b[43msteps_per_epoch\u001b[49m\u001b[38;5;241;43m=\u001b[39;49m\u001b[43msteps_per_epoch\u001b[49m\u001b[43m,\u001b[49m\n",
      "\u001b[1;32m      5\u001b[0m \u001b[43m                    \u001b[49m\u001b[43mvalidation_steps\u001b[49m\u001b[38;5;241;43m=\u001b[39;49m\u001b[43mvalidation_steps\u001b[49m\u001b[43m,\u001b[49m\n",
      "\u001b[1;32m      6\u001b[0m \u001b[43m                    \u001b[49m\u001b[43mcallbacks\u001b[49m\u001b[38;5;241;43m=\u001b[39;49m\u001b[43m[\u001b[49m\n",
      "\u001b[1;32m      7\u001b[0m \u001b[43m                        \u001b[49m\u001b[38;5;66;43;03m# decay_callback,\u001b[39;49;00m\n",
      "\u001b[1;32m      8\u001b[0m \u001b[43m                        \u001b[49m\u001b[43mcsv_logger\u001b[49m\u001b[43m,\u001b[49m\n",
      "\u001b[1;32m      9\u001b[0m \u001b[43m                        \u001b[49m\u001b[43mcreate_model_checkpoint\u001b[49m\u001b[43m(\u001b[49m\u001b[43mmodel_name\u001b[49m\u001b[43m \u001b[49m\u001b[38;5;241;43m=\u001b[39;49m\u001b[43m \u001b[49m\u001b[38;5;124;43m'\u001b[39;49m\u001b[38;5;124;43mcapgen\u001b[39;49m\u001b[38;5;124;43m'\u001b[39;49m\u001b[43m,\u001b[49m\u001b[43m \u001b[49m\u001b[43msave_dir\u001b[49m\u001b[43m \u001b[49m\u001b[38;5;241;43m=\u001b[39;49m\u001b[43m \u001b[49m\u001b[38;5;124;43m'\u001b[39;49m\u001b[38;5;124;43mcheckpoints\u001b[39;49m\u001b[38;5;124;43m'\u001b[39;49m\u001b[43m,\u001b[49m\u001b[43m \u001b[49m\u001b[43mmonitor\u001b[49m\u001b[43m \u001b[49m\u001b[38;5;241;43m=\u001b[39;49m\u001b[43m \u001b[49m\u001b[38;5;124;43m'\u001b[39;49m\u001b[38;5;124;43mmasked_acc\u001b[39;49m\u001b[38;5;124;43m'\u001b[39;49m\u001b[43m)\u001b[49m\u001b[43m,\u001b[49m\n",
      "\u001b[1;32m     10\u001b[0m \u001b[43m                        \u001b[49m\u001b[43mtensorboard_callback\u001b[49m\n",
      "\u001b[1;32m     11\u001b[0m \u001b[43m                                \u001b[49m\u001b[43m]\u001b[49m\n",
      "\u001b[1;32m     12\u001b[0m \u001b[43m                    \u001b[49m\u001b[43m)\u001b[49m\n",
      "\n",
      "File \u001b[0;32m/opt/conda/lib/python3.10/site-packages/keras/utils/traceback_utils.py:65\u001b[0m, in \u001b[0;36mfilter_traceback.<locals>.error_handler\u001b[0;34m(*args, **kwargs)\u001b[0m\n",
      "\u001b[1;32m     63\u001b[0m filtered_tb \u001b[38;5;241m=\u001b[39m \u001b[38;5;28;01mNone\u001b[39;00m\n",
      "\u001b[1;32m     64\u001b[0m \u001b[38;5;28;01mtry\u001b[39;00m:\n",
      "\u001b[0;32m---> 65\u001b[0m     \u001b[38;5;28;01mreturn\u001b[39;00m \u001b[43mfn\u001b[49m\u001b[43m(\u001b[49m\u001b[38;5;241;43m*\u001b[39;49m\u001b[43margs\u001b[49m\u001b[43m,\u001b[49m\u001b[43m \u001b[49m\u001b[38;5;241;43m*\u001b[39;49m\u001b[38;5;241;43m*\u001b[39;49m\u001b[43mkwargs\u001b[49m\u001b[43m)\u001b[49m\n",
      "\u001b[1;32m     66\u001b[0m \u001b[38;5;28;01mexcept\u001b[39;00m \u001b[38;5;167;01mException\u001b[39;00m \u001b[38;5;28;01mas\u001b[39;00m e:\n",
      "\u001b[1;32m     67\u001b[0m     filtered_tb \u001b[38;5;241m=\u001b[39m _process_traceback_frames(e\u001b[38;5;241m.\u001b[39m__traceback__)\n",
      "\n",
      "File \u001b[0;32m/opt/conda/lib/python3.10/site-packages/keras/engine/training.py:1694\u001b[0m, in \u001b[0;36mModel.fit\u001b[0;34m(self, x, y, batch_size, epochs, verbose, callbacks, validation_split, validation_data, shuffle, class_weight, sample_weight, initial_epoch, steps_per_epoch, validation_steps, validation_batch_size, validation_freq, max_queue_size, workers, use_multiprocessing)\u001b[0m\n",
      "\u001b[1;32m   1679\u001b[0m \u001b[38;5;28;01mif\u001b[39;00m \u001b[38;5;28mgetattr\u001b[39m(\u001b[38;5;28mself\u001b[39m, \u001b[38;5;124m\"\u001b[39m\u001b[38;5;124m_eval_data_handler\u001b[39m\u001b[38;5;124m\"\u001b[39m, \u001b[38;5;28;01mNone\u001b[39;00m) \u001b[38;5;129;01mis\u001b[39;00m \u001b[38;5;28;01mNone\u001b[39;00m:\n",
      "\u001b[1;32m   1680\u001b[0m     \u001b[38;5;28mself\u001b[39m\u001b[38;5;241m.\u001b[39m_eval_data_handler \u001b[38;5;241m=\u001b[39m data_adapter\u001b[38;5;241m.\u001b[39mget_data_handler(\n",
      "\u001b[1;32m   1681\u001b[0m         x\u001b[38;5;241m=\u001b[39mval_x,\n",
      "\u001b[1;32m   1682\u001b[0m         y\u001b[38;5;241m=\u001b[39mval_y,\n",
      "\u001b[0;32m   (...)\u001b[0m\n",
      "\u001b[1;32m   1692\u001b[0m         steps_per_execution\u001b[38;5;241m=\u001b[39m\u001b[38;5;28mself\u001b[39m\u001b[38;5;241m.\u001b[39m_steps_per_execution,\n",
      "\u001b[1;32m   1693\u001b[0m     )\n",
      "\u001b[0;32m-> 1694\u001b[0m val_logs \u001b[38;5;241m=\u001b[39m \u001b[38;5;28;43mself\u001b[39;49m\u001b[38;5;241;43m.\u001b[39;49m\u001b[43mevaluate\u001b[49m\u001b[43m(\u001b[49m\n",
      "\u001b[1;32m   1695\u001b[0m \u001b[43m    \u001b[49m\u001b[43mx\u001b[49m\u001b[38;5;241;43m=\u001b[39;49m\u001b[43mval_x\u001b[49m\u001b[43m,\u001b[49m\n",
      "\u001b[1;32m   1696\u001b[0m \u001b[43m    \u001b[49m\u001b[43my\u001b[49m\u001b[38;5;241;43m=\u001b[39;49m\u001b[43mval_y\u001b[49m\u001b[43m,\u001b[49m\n",
      "\u001b[1;32m   1697\u001b[0m \u001b[43m    \u001b[49m\u001b[43msample_weight\u001b[49m\u001b[38;5;241;43m=\u001b[39;49m\u001b[43mval_sample_weight\u001b[49m\u001b[43m,\u001b[49m\n",
      "\u001b[1;32m   1698\u001b[0m \u001b[43m    \u001b[49m\u001b[43mbatch_size\u001b[49m\u001b[38;5;241;43m=\u001b[39;49m\u001b[43mvalidation_batch_size\u001b[49m\u001b[43m \u001b[49m\u001b[38;5;129;43;01mor\u001b[39;49;00m\u001b[43m \u001b[49m\u001b[43mbatch_size\u001b[49m\u001b[43m,\u001b[49m\n",
      "\u001b[1;32m   1699\u001b[0m \u001b[43m    \u001b[49m\u001b[43msteps\u001b[49m\u001b[38;5;241;43m=\u001b[39;49m\u001b[43mvalidation_steps\u001b[49m\u001b[43m,\u001b[49m\n",
      "\u001b[1;32m   1700\u001b[0m \u001b[43m    \u001b[49m\u001b[43mcallbacks\u001b[49m\u001b[38;5;241;43m=\u001b[39;49m\u001b[43mcallbacks\u001b[49m\u001b[43m,\u001b[49m\n",
      "\u001b[1;32m   1701\u001b[0m \u001b[43m    \u001b[49m\u001b[43mmax_queue_size\u001b[49m\u001b[38;5;241;43m=\u001b[39;49m\u001b[43mmax_queue_size\u001b[49m\u001b[43m,\u001b[49m\n",
      "\u001b[1;32m   1702\u001b[0m \u001b[43m    \u001b[49m\u001b[43mworkers\u001b[49m\u001b[38;5;241;43m=\u001b[39;49m\u001b[43mworkers\u001b[49m\u001b[43m,\u001b[49m\n",
      "\u001b[1;32m   1703\u001b[0m \u001b[43m    \u001b[49m\u001b[43muse_multiprocessing\u001b[49m\u001b[38;5;241;43m=\u001b[39;49m\u001b[43muse_multiprocessing\u001b[49m\u001b[43m,\u001b[49m\n",
      "\u001b[1;32m   1704\u001b[0m \u001b[43m    \u001b[49m\u001b[43mreturn_dict\u001b[49m\u001b[38;5;241;43m=\u001b[39;49m\u001b[38;5;28;43;01mTrue\u001b[39;49;00m\u001b[43m,\u001b[49m\n",
      "\u001b[1;32m   1705\u001b[0m \u001b[43m    \u001b[49m\u001b[43m_use_cached_eval_dataset\u001b[49m\u001b[38;5;241;43m=\u001b[39;49m\u001b[38;5;28;43;01mTrue\u001b[39;49;00m\u001b[43m,\u001b[49m\n",
      "\u001b[1;32m   1706\u001b[0m \u001b[43m\u001b[49m\u001b[43m)\u001b[49m\n",
      "\u001b[1;32m   1707\u001b[0m val_logs \u001b[38;5;241m=\u001b[39m {\n",
      "\u001b[1;32m   1708\u001b[0m     \u001b[38;5;124m\"\u001b[39m\u001b[38;5;124mval_\u001b[39m\u001b[38;5;124m\"\u001b[39m \u001b[38;5;241m+\u001b[39m name: val \u001b[38;5;28;01mfor\u001b[39;00m name, val \u001b[38;5;129;01min\u001b[39;00m val_logs\u001b[38;5;241m.\u001b[39mitems()\n",
      "\u001b[1;32m   1709\u001b[0m }\n",
      "\u001b[1;32m   1710\u001b[0m epoch_logs\u001b[38;5;241m.\u001b[39mupdate(val_logs)\n",
      "\n",
      "File \u001b[0;32m/opt/conda/lib/python3.10/site-packages/keras/utils/traceback_utils.py:65\u001b[0m, in \u001b[0;36mfilter_traceback.<locals>.error_handler\u001b[0;34m(*args, **kwargs)\u001b[0m\n",
      "\u001b[1;32m     63\u001b[0m filtered_tb \u001b[38;5;241m=\u001b[39m \u001b[38;5;28;01mNone\u001b[39;00m\n",
      "\u001b[1;32m     64\u001b[0m \u001b[38;5;28;01mtry\u001b[39;00m:\n",
      "\u001b[0;32m---> 65\u001b[0m     \u001b[38;5;28;01mreturn\u001b[39;00m \u001b[43mfn\u001b[49m\u001b[43m(\u001b[49m\u001b[38;5;241;43m*\u001b[39;49m\u001b[43margs\u001b[49m\u001b[43m,\u001b[49m\u001b[43m \u001b[49m\u001b[38;5;241;43m*\u001b[39;49m\u001b[38;5;241;43m*\u001b[39;49m\u001b[43mkwargs\u001b[49m\u001b[43m)\u001b[49m\n",
      "\u001b[1;32m     66\u001b[0m \u001b[38;5;28;01mexcept\u001b[39;00m \u001b[38;5;167;01mException\u001b[39;00m \u001b[38;5;28;01mas\u001b[39;00m e:\n",
      "\u001b[1;32m     67\u001b[0m     filtered_tb \u001b[38;5;241m=\u001b[39m _process_traceback_frames(e\u001b[38;5;241m.\u001b[39m__traceback__)\n",
      "\n",
      "File \u001b[0;32m/opt/conda/lib/python3.10/site-packages/keras/engine/training.py:2040\u001b[0m, in \u001b[0;36mModel.evaluate\u001b[0;34m(self, x, y, batch_size, verbose, sample_weight, steps, callbacks, max_queue_size, workers, use_multiprocessing, return_dict, **kwargs)\u001b[0m\n",
      "\u001b[1;32m   2036\u001b[0m \u001b[38;5;28;01mwith\u001b[39;00m tf\u001b[38;5;241m.\u001b[39mprofiler\u001b[38;5;241m.\u001b[39mexperimental\u001b[38;5;241m.\u001b[39mTrace(\n",
      "\u001b[1;32m   2037\u001b[0m     \u001b[38;5;124m\"\u001b[39m\u001b[38;5;124mtest\u001b[39m\u001b[38;5;124m\"\u001b[39m, step_num\u001b[38;5;241m=\u001b[39mstep, _r\u001b[38;5;241m=\u001b[39m\u001b[38;5;241m1\u001b[39m\n",
      "\u001b[1;32m   2038\u001b[0m ):\n",
      "\u001b[1;32m   2039\u001b[0m     callbacks\u001b[38;5;241m.\u001b[39mon_test_batch_begin(step)\n",
      "\u001b[0;32m-> 2040\u001b[0m     tmp_logs \u001b[38;5;241m=\u001b[39m \u001b[38;5;28;43mself\u001b[39;49m\u001b[38;5;241;43m.\u001b[39;49m\u001b[43mtest_function\u001b[49m\u001b[43m(\u001b[49m\u001b[43miterator\u001b[49m\u001b[43m)\u001b[49m\n",
      "\u001b[1;32m   2041\u001b[0m     \u001b[38;5;28;01mif\u001b[39;00m data_handler\u001b[38;5;241m.\u001b[39mshould_sync:\n",
      "\u001b[1;32m   2042\u001b[0m         context\u001b[38;5;241m.\u001b[39masync_wait()\n",
      "\n",
      "File \u001b[0;32m/opt/conda/lib/python3.10/site-packages/tensorflow/python/util/traceback_utils.py:150\u001b[0m, in \u001b[0;36mfilter_traceback.<locals>.error_handler\u001b[0;34m(*args, **kwargs)\u001b[0m\n",
      "\u001b[1;32m    148\u001b[0m filtered_tb \u001b[38;5;241m=\u001b[39m \u001b[38;5;28;01mNone\u001b[39;00m\n",
      "\u001b[1;32m    149\u001b[0m \u001b[38;5;28;01mtry\u001b[39;00m:\n",
      "\u001b[0;32m--> 150\u001b[0m   \u001b[38;5;28;01mreturn\u001b[39;00m \u001b[43mfn\u001b[49m\u001b[43m(\u001b[49m\u001b[38;5;241;43m*\u001b[39;49m\u001b[43margs\u001b[49m\u001b[43m,\u001b[49m\u001b[43m \u001b[49m\u001b[38;5;241;43m*\u001b[39;49m\u001b[38;5;241;43m*\u001b[39;49m\u001b[43mkwargs\u001b[49m\u001b[43m)\u001b[49m\n",
      "\u001b[1;32m    151\u001b[0m \u001b[38;5;28;01mexcept\u001b[39;00m \u001b[38;5;167;01mException\u001b[39;00m \u001b[38;5;28;01mas\u001b[39;00m e:\n",
      "\u001b[1;32m    152\u001b[0m   filtered_tb \u001b[38;5;241m=\u001b[39m _process_traceback_frames(e\u001b[38;5;241m.\u001b[39m__traceback__)\n",
      "\n",
      "File \u001b[0;32m/opt/conda/lib/python3.10/site-packages/tensorflow/python/eager/polymorphic_function/polymorphic_function.py:880\u001b[0m, in \u001b[0;36mFunction.__call__\u001b[0;34m(self, *args, **kwds)\u001b[0m\n",
      "\u001b[1;32m    877\u001b[0m compiler \u001b[38;5;241m=\u001b[39m \u001b[38;5;124m\"\u001b[39m\u001b[38;5;124mxla\u001b[39m\u001b[38;5;124m\"\u001b[39m \u001b[38;5;28;01mif\u001b[39;00m \u001b[38;5;28mself\u001b[39m\u001b[38;5;241m.\u001b[39m_jit_compile \u001b[38;5;28;01melse\u001b[39;00m \u001b[38;5;124m\"\u001b[39m\u001b[38;5;124mnonXla\u001b[39m\u001b[38;5;124m\"\u001b[39m\n",
      "\u001b[1;32m    879\u001b[0m \u001b[38;5;28;01mwith\u001b[39;00m OptionalXlaContext(\u001b[38;5;28mself\u001b[39m\u001b[38;5;241m.\u001b[39m_jit_compile):\n",
      "\u001b[0;32m--> 880\u001b[0m   result \u001b[38;5;241m=\u001b[39m \u001b[38;5;28;43mself\u001b[39;49m\u001b[38;5;241;43m.\u001b[39;49m\u001b[43m_call\u001b[49m\u001b[43m(\u001b[49m\u001b[38;5;241;43m*\u001b[39;49m\u001b[43margs\u001b[49m\u001b[43m,\u001b[49m\u001b[43m \u001b[49m\u001b[38;5;241;43m*\u001b[39;49m\u001b[38;5;241;43m*\u001b[39;49m\u001b[43mkwds\u001b[49m\u001b[43m)\u001b[49m\n",
      "\u001b[1;32m    882\u001b[0m new_tracing_count \u001b[38;5;241m=\u001b[39m \u001b[38;5;28mself\u001b[39m\u001b[38;5;241m.\u001b[39mexperimental_get_tracing_count()\n",
      "\u001b[1;32m    883\u001b[0m without_tracing \u001b[38;5;241m=\u001b[39m (tracing_count \u001b[38;5;241m==\u001b[39m new_tracing_count)\n",
      "\n",
      "File \u001b[0;32m/opt/conda/lib/python3.10/site-packages/tensorflow/python/eager/polymorphic_function/polymorphic_function.py:919\u001b[0m, in \u001b[0;36mFunction._call\u001b[0;34m(self, *args, **kwds)\u001b[0m\n",
      "\u001b[1;32m    916\u001b[0m \u001b[38;5;28mself\u001b[39m\u001b[38;5;241m.\u001b[39m_lock\u001b[38;5;241m.\u001b[39mrelease()\n",
      "\u001b[1;32m    917\u001b[0m \u001b[38;5;66;03m# In this case we have not created variables on the first call. So we can\u001b[39;00m\n",
      "\u001b[1;32m    918\u001b[0m \u001b[38;5;66;03m# run the first trace but we should fail if variables are created.\u001b[39;00m\n",
      "\u001b[0;32m--> 919\u001b[0m results \u001b[38;5;241m=\u001b[39m \u001b[38;5;28;43mself\u001b[39;49m\u001b[38;5;241;43m.\u001b[39;49m\u001b[43m_variable_creation_fn\u001b[49m\u001b[43m(\u001b[49m\u001b[38;5;241;43m*\u001b[39;49m\u001b[43margs\u001b[49m\u001b[43m,\u001b[49m\u001b[43m \u001b[49m\u001b[38;5;241;43m*\u001b[39;49m\u001b[38;5;241;43m*\u001b[39;49m\u001b[43mkwds\u001b[49m\u001b[43m)\u001b[49m\n",
      "\u001b[1;32m    920\u001b[0m \u001b[38;5;28;01mif\u001b[39;00m \u001b[38;5;28mself\u001b[39m\u001b[38;5;241m.\u001b[39m_created_variables \u001b[38;5;129;01mand\u001b[39;00m \u001b[38;5;129;01mnot\u001b[39;00m ALLOW_DYNAMIC_VARIABLE_CREATION:\n",
      "\u001b[1;32m    921\u001b[0m   \u001b[38;5;28;01mraise\u001b[39;00m \u001b[38;5;167;01mValueError\u001b[39;00m(\u001b[38;5;124m\"\u001b[39m\u001b[38;5;124mCreating variables on a non-first call to a function\u001b[39m\u001b[38;5;124m\"\u001b[39m\n",
      "\u001b[1;32m    922\u001b[0m                    \u001b[38;5;124m\"\u001b[39m\u001b[38;5;124m decorated with tf.function.\u001b[39m\u001b[38;5;124m\"\u001b[39m)\n",
      "\n",
      "File \u001b[0;32m/opt/conda/lib/python3.10/site-packages/tensorflow/python/eager/polymorphic_function/tracing_compiler.py:134\u001b[0m, in \u001b[0;36mTracingCompiler.__call__\u001b[0;34m(self, *args, **kwargs)\u001b[0m\n",
      "\u001b[1;32m    131\u001b[0m \u001b[38;5;28;01mwith\u001b[39;00m \u001b[38;5;28mself\u001b[39m\u001b[38;5;241m.\u001b[39m_lock:\n",
      "\u001b[1;32m    132\u001b[0m   (concrete_function,\n",
      "\u001b[1;32m    133\u001b[0m    filtered_flat_args) \u001b[38;5;241m=\u001b[39m \u001b[38;5;28mself\u001b[39m\u001b[38;5;241m.\u001b[39m_maybe_define_function(args, kwargs)\n",
      "\u001b[0;32m--> 134\u001b[0m \u001b[38;5;28;01mreturn\u001b[39;00m \u001b[43mconcrete_function\u001b[49m\u001b[38;5;241;43m.\u001b[39;49m\u001b[43m_call_flat\u001b[49m\u001b[43m(\u001b[49m\n",
      "\u001b[1;32m    135\u001b[0m \u001b[43m    \u001b[49m\u001b[43mfiltered_flat_args\u001b[49m\u001b[43m,\u001b[49m\u001b[43m \u001b[49m\u001b[43mcaptured_inputs\u001b[49m\u001b[38;5;241;43m=\u001b[39;49m\u001b[43mconcrete_function\u001b[49m\u001b[38;5;241;43m.\u001b[39;49m\u001b[43mcaptured_inputs\u001b[49m\u001b[43m)\u001b[49m\n",
      "\n",
      "File \u001b[0;32m/opt/conda/lib/python3.10/site-packages/tensorflow/python/eager/polymorphic_function/monomorphic_function.py:1745\u001b[0m, in \u001b[0;36mConcreteFunction._call_flat\u001b[0;34m(self, args, captured_inputs, cancellation_manager)\u001b[0m\n",
      "\u001b[1;32m   1741\u001b[0m possible_gradient_type \u001b[38;5;241m=\u001b[39m gradients_util\u001b[38;5;241m.\u001b[39mPossibleTapeGradientTypes(args)\n",
      "\u001b[1;32m   1742\u001b[0m \u001b[38;5;28;01mif\u001b[39;00m (possible_gradient_type \u001b[38;5;241m==\u001b[39m gradients_util\u001b[38;5;241m.\u001b[39mPOSSIBLE_GRADIENT_TYPES_NONE\n",
      "\u001b[1;32m   1743\u001b[0m     \u001b[38;5;129;01mand\u001b[39;00m executing_eagerly):\n",
      "\u001b[1;32m   1744\u001b[0m   \u001b[38;5;66;03m# No tape is watching; skip to running the function.\u001b[39;00m\n",
      "\u001b[0;32m-> 1745\u001b[0m   \u001b[38;5;28;01mreturn\u001b[39;00m \u001b[38;5;28mself\u001b[39m\u001b[38;5;241m.\u001b[39m_build_call_outputs(\u001b[38;5;28;43mself\u001b[39;49m\u001b[38;5;241;43m.\u001b[39;49m\u001b[43m_inference_function\u001b[49m\u001b[38;5;241;43m.\u001b[39;49m\u001b[43mcall\u001b[49m\u001b[43m(\u001b[49m\n",
      "\u001b[1;32m   1746\u001b[0m \u001b[43m      \u001b[49m\u001b[43mctx\u001b[49m\u001b[43m,\u001b[49m\u001b[43m \u001b[49m\u001b[43margs\u001b[49m\u001b[43m,\u001b[49m\u001b[43m \u001b[49m\u001b[43mcancellation_manager\u001b[49m\u001b[38;5;241;43m=\u001b[39;49m\u001b[43mcancellation_manager\u001b[49m\u001b[43m)\u001b[49m)\n",
      "\u001b[1;32m   1747\u001b[0m forward_backward \u001b[38;5;241m=\u001b[39m \u001b[38;5;28mself\u001b[39m\u001b[38;5;241m.\u001b[39m_select_forward_and_backward_functions(\n",
      "\u001b[1;32m   1748\u001b[0m     args,\n",
      "\u001b[1;32m   1749\u001b[0m     possible_gradient_type,\n",
      "\u001b[1;32m   1750\u001b[0m     executing_eagerly)\n",
      "\u001b[1;32m   1751\u001b[0m forward_function, args_with_tangents \u001b[38;5;241m=\u001b[39m forward_backward\u001b[38;5;241m.\u001b[39mforward()\n",
      "\n",
      "File \u001b[0;32m/opt/conda/lib/python3.10/site-packages/tensorflow/python/eager/polymorphic_function/monomorphic_function.py:378\u001b[0m, in \u001b[0;36m_EagerDefinedFunction.call\u001b[0;34m(self, ctx, args, cancellation_manager)\u001b[0m\n",
      "\u001b[1;32m    376\u001b[0m \u001b[38;5;28;01mwith\u001b[39;00m _InterpolateFunctionError(\u001b[38;5;28mself\u001b[39m):\n",
      "\u001b[1;32m    377\u001b[0m   \u001b[38;5;28;01mif\u001b[39;00m cancellation_manager \u001b[38;5;129;01mis\u001b[39;00m \u001b[38;5;28;01mNone\u001b[39;00m:\n",
      "\u001b[0;32m--> 378\u001b[0m     outputs \u001b[38;5;241m=\u001b[39m \u001b[43mexecute\u001b[49m\u001b[38;5;241;43m.\u001b[39;49m\u001b[43mexecute\u001b[49m\u001b[43m(\u001b[49m\n",
      "\u001b[1;32m    379\u001b[0m \u001b[43m        \u001b[49m\u001b[38;5;28;43mstr\u001b[39;49m\u001b[43m(\u001b[49m\u001b[38;5;28;43mself\u001b[39;49m\u001b[38;5;241;43m.\u001b[39;49m\u001b[43msignature\u001b[49m\u001b[38;5;241;43m.\u001b[39;49m\u001b[43mname\u001b[49m\u001b[43m)\u001b[49m\u001b[43m,\u001b[49m\n",
      "\u001b[1;32m    380\u001b[0m \u001b[43m        \u001b[49m\u001b[43mnum_outputs\u001b[49m\u001b[38;5;241;43m=\u001b[39;49m\u001b[38;5;28;43mself\u001b[39;49m\u001b[38;5;241;43m.\u001b[39;49m\u001b[43m_num_outputs\u001b[49m\u001b[43m,\u001b[49m\n",
      "\u001b[1;32m    381\u001b[0m \u001b[43m        \u001b[49m\u001b[43minputs\u001b[49m\u001b[38;5;241;43m=\u001b[39;49m\u001b[43margs\u001b[49m\u001b[43m,\u001b[49m\n",
      "\u001b[1;32m    382\u001b[0m \u001b[43m        \u001b[49m\u001b[43mattrs\u001b[49m\u001b[38;5;241;43m=\u001b[39;49m\u001b[43mattrs\u001b[49m\u001b[43m,\u001b[49m\n",
      "\u001b[1;32m    383\u001b[0m \u001b[43m        \u001b[49m\u001b[43mctx\u001b[49m\u001b[38;5;241;43m=\u001b[39;49m\u001b[43mctx\u001b[49m\u001b[43m)\u001b[49m\n",
      "\u001b[1;32m    384\u001b[0m   \u001b[38;5;28;01melse\u001b[39;00m:\n",
      "\u001b[1;32m    385\u001b[0m     outputs \u001b[38;5;241m=\u001b[39m execute\u001b[38;5;241m.\u001b[39mexecute_with_cancellation(\n",
      "\u001b[1;32m    386\u001b[0m         \u001b[38;5;28mstr\u001b[39m(\u001b[38;5;28mself\u001b[39m\u001b[38;5;241m.\u001b[39msignature\u001b[38;5;241m.\u001b[39mname),\n",
      "\u001b[1;32m    387\u001b[0m         num_outputs\u001b[38;5;241m=\u001b[39m\u001b[38;5;28mself\u001b[39m\u001b[38;5;241m.\u001b[39m_num_outputs,\n",
      "\u001b[0;32m   (...)\u001b[0m\n",
      "\u001b[1;32m    390\u001b[0m         ctx\u001b[38;5;241m=\u001b[39mctx,\n",
      "\u001b[1;32m    391\u001b[0m         cancellation_manager\u001b[38;5;241m=\u001b[39mcancellation_manager)\n",
      "\n",
      "File \u001b[0;32m/opt/conda/lib/python3.10/site-packages/tensorflow/python/eager/execute.py:52\u001b[0m, in \u001b[0;36mquick_execute\u001b[0;34m(op_name, num_outputs, inputs, attrs, ctx, name)\u001b[0m\n",
      "\u001b[1;32m     50\u001b[0m \u001b[38;5;28;01mtry\u001b[39;00m:\n",
      "\u001b[1;32m     51\u001b[0m   ctx\u001b[38;5;241m.\u001b[39mensure_initialized()\n",
      "\u001b[0;32m---> 52\u001b[0m   tensors \u001b[38;5;241m=\u001b[39m \u001b[43mpywrap_tfe\u001b[49m\u001b[38;5;241;43m.\u001b[39;49m\u001b[43mTFE_Py_Execute\u001b[49m\u001b[43m(\u001b[49m\u001b[43mctx\u001b[49m\u001b[38;5;241;43m.\u001b[39;49m\u001b[43m_handle\u001b[49m\u001b[43m,\u001b[49m\u001b[43m \u001b[49m\u001b[43mdevice_name\u001b[49m\u001b[43m,\u001b[49m\u001b[43m \u001b[49m\u001b[43mop_name\u001b[49m\u001b[43m,\u001b[49m\n",
      "\u001b[1;32m     53\u001b[0m \u001b[43m                                      \u001b[49m\u001b[43minputs\u001b[49m\u001b[43m,\u001b[49m\u001b[43m \u001b[49m\u001b[43mattrs\u001b[49m\u001b[43m,\u001b[49m\u001b[43m \u001b[49m\u001b[43mnum_outputs\u001b[49m\u001b[43m)\u001b[49m\n",
      "\u001b[1;32m     54\u001b[0m \u001b[38;5;28;01mexcept\u001b[39;00m core\u001b[38;5;241m.\u001b[39m_NotOkStatusException \u001b[38;5;28;01mas\u001b[39;00m e:\n",
      "\u001b[1;32m     55\u001b[0m   \u001b[38;5;28;01mif\u001b[39;00m name \u001b[38;5;129;01mis\u001b[39;00m \u001b[38;5;129;01mnot\u001b[39;00m \u001b[38;5;28;01mNone\u001b[39;00m:\n",
      "\n",
      "\u001b[0;31mKeyboardInterrupt\u001b[0m: "
     ]
    }
   ],
   "source": [
    "history = model.fit(train_data.repeat(),\n",
    "                    epochs=EPOCHS,\n",
    "                    validation_data=val_data,\n",
    "                    steps_per_epoch=steps_per_epoch,\n",
    "                    validation_steps=validation_steps,\n",
    "                    callbacks=[\n",
    "                        # decay_callback,\n",
    "                        csv_logger,\n",
    "                        create_model_checkpoint(model_name = 'capgen', save_dir = 'checkpoints', monitor = 'masked_acc'),\n",
    "                        tensorboard_callback\n",
    "                                ]\n",
    "                    )"
   ]
  },
  {
   "cell_type": "code",
   "execution_count": null,
   "metadata": {},
   "outputs": [],
   "source": [
    "from funcyou.plot import plot_history"
   ]
  },
  {
   "cell_type": "code",
   "execution_count": null,
   "metadata": {},
   "outputs": [
    {
     "ename": "NameError",
     "evalue": "name 'history' is not defined",
     "output_type": "error",
     "traceback": [
      "\u001b[0;31m---------------------------------------------------------------------------\u001b[0m\n",
      "\u001b[0;31mNameError\u001b[0m                                 Traceback (most recent call last)\n",
      "Cell \u001b[0;32mIn[58], line 1\u001b[0m\n",
      "\u001b[0;32m----> 1\u001b[0m plot_history(\u001b[43mhistory\u001b[49m,plot \u001b[38;5;241m=\u001b[39m [\u001b[38;5;124m'\u001b[39m\u001b[38;5;124mloss\u001b[39m\u001b[38;5;124m'\u001b[39m,\u001b[38;5;124m'\u001b[39m\u001b[38;5;124mmasked_acc\u001b[39m\u001b[38;5;124m'\u001b[39m], split \u001b[38;5;241m=\u001b[39m [\u001b[38;5;124m'\u001b[39m\u001b[38;5;124mtrain\u001b[39m\u001b[38;5;124m'\u001b[39m,\u001b[38;5;124m'\u001b[39m\u001b[38;5;124mval\u001b[39m\u001b[38;5;124m'\u001b[39m], )\n",
      "\n",
      "\u001b[0;31mNameError\u001b[0m: name 'history' is not defined"
     ]
    }
   ],
   "source": [
    "plot_history(history,plot = ['loss','masked_acc'], split = ['train','val'], )"
   ]
  },
  {
   "cell_type": "code",
   "execution_count": null,
   "metadata": {},
   "outputs": [],
   "source": [
    "# %tensorboard --logdir logs/gradient_tape\n"
   ]
  },
  {
   "attachments": {},
   "cell_type": "markdown",
   "metadata": {},
   "source": [
    "## Saving the Model"
   ]
  },
  {
   "cell_type": "code",
   "execution_count": null,
   "metadata": {},
   "outputs": [],
   "source": [
    "from datetime import datetime"
   ]
  },
  {
   "cell_type": "code",
   "execution_count": null,
   "metadata": {},
   "outputs": [],
   "source": [
    "# model.save(f'saved_model/best-{datetime.now()}-{EPOCHS}.h5')\n",
    "# model.save_weights(f'model_weights/best_so_far_final/')"
   ]
  },
  {
   "cell_type": "code",
   "execution_count": null,
   "metadata": {},
   "outputs": [],
   "source": [
    "!ls saved_model"
   ]
  },
  {
   "cell_type": "code",
   "execution_count": null,
   "metadata": {},
   "outputs": [],
   "source": [
    "!ls -la -h 'saved_model/'"
   ]
  },
  {
   "attachments": {},
   "cell_type": "markdown",
   "metadata": {},
   "source": [
    "# Prediction"
   ]
  },
  {
   "cell_type": "code",
   "execution_count": null,
   "metadata": {},
   "outputs": [],
   "source": [
    "pred = model.predict(test_data.take(1))\n",
    "print(pred.shape)"
   ]
  },
  {
   "cell_type": "code",
   "execution_count": null,
   "metadata": {},
   "outputs": [],
   "source": [
    "ppred = tf.argmax(pred, axis = -1)\n",
    "print(ppred.shape)"
   ]
  },
  {
   "cell_type": "code",
   "execution_count": null,
   "metadata": {},
   "outputs": [],
   "source": [
    "for i in ppred:\n",
    "    print(tf.strings.join(id_to_word(i), ' ').numpy())\n",
    "    print('')"
   ]
  },
  {
   "cell_type": "code",
   "execution_count": null,
   "metadata": {},
   "outputs": [],
   "source": []
  },
  {
   "cell_type": "code",
   "execution_count": null,
   "metadata": {},
   "outputs": [],
   "source": []
  }
 ],
 "metadata": {
  "kernelspec": {
   "display_name": "tf_new",
   "language": "python",
   "name": "tf_new"
  },
  "language_info": {
   "codemirror_mode": {
    "name": "ipython",
    "version": 3
   },
   "file_extension": ".py",
   "mimetype": "text/x-python",
   "name": "python",
   "nbconvert_exporter": "python",
   "pygments_lexer": "ipython3",
   "version": "3.9.16"
  },
  "orig_nbformat": 4
 },
 "nbformat": 4,
 "nbformat_minor": 2
}
