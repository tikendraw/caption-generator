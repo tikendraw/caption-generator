{
 "cells": [
  {
   "cell_type": "code",
   "execution_count": 1,
   "metadata": {},
   "outputs": [],
   "source": [
    "import os\n",
    "import sys"
   ]
  },
  {
   "cell_type": "code",
   "execution_count": 2,
   "metadata": {},
   "outputs": [],
   "source": [
    "# os.system('git clone https://github.com/tikendraw/caption-generator.git -q')\n",
    "# os.chdir('caption-generator')"
   ]
  },
  {
   "cell_type": "code",
   "execution_count": 3,
   "metadata": {},
   "outputs": [
    {
     "name": "stderr",
     "output_type": "stream",
     "text": [
      "2023-05-21 17:19:07.579173: I tensorflow/core/platform/cpu_feature_guard.cc:182] This TensorFlow binary is optimized to use available CPU instructions in performance-critical operations.\n",
      "To enable the following instructions: AVX2 FMA, in other operations, rebuild TensorFlow with the appropriate compiler flags.\n",
      "2023-05-21 17:19:08.884768: W tensorflow/compiler/tf2tensorrt/utils/py_utils.cc:38] TF-TRT Warning: Could not find TensorRT\n",
      "2023-05-21 17:19:11.487864: I tensorflow/compiler/xla/stream_executor/cuda/cuda_gpu_executor.cc:996] successful NUMA node read from SysFS had negative value (-1), but there must be at least one NUMA node, so returning NUMA node zero. See more at https://github.com/torvalds/linux/blob/v6.0/Documentation/ABI/testing/sysfs-bus-pci#L344-L355\n",
      "2023-05-21 17:19:11.532817: I tensorflow/compiler/xla/stream_executor/cuda/cuda_gpu_executor.cc:996] successful NUMA node read from SysFS had negative value (-1), but there must be at least one NUMA node, so returning NUMA node zero. See more at https://github.com/torvalds/linux/blob/v6.0/Documentation/ABI/testing/sysfs-bus-pci#L344-L355\n",
      "2023-05-21 17:19:11.533030: I tensorflow/compiler/xla/stream_executor/cuda/cuda_gpu_executor.cc:996] successful NUMA node read from SysFS had negative value (-1), but there must be at least one NUMA node, so returning NUMA node zero. See more at https://github.com/torvalds/linux/blob/v6.0/Documentation/ABI/testing/sysfs-bus-pci#L344-L355\n",
      "2023-05-21 17:19:11.534068: I tensorflow/compiler/xla/stream_executor/cuda/cuda_gpu_executor.cc:996] successful NUMA node read from SysFS had negative value (-1), but there must be at least one NUMA node, so returning NUMA node zero. See more at https://github.com/torvalds/linux/blob/v6.0/Documentation/ABI/testing/sysfs-bus-pci#L344-L355\n",
      "2023-05-21 17:19:11.534242: I tensorflow/compiler/xla/stream_executor/cuda/cuda_gpu_executor.cc:996] successful NUMA node read from SysFS had negative value (-1), but there must be at least one NUMA node, so returning NUMA node zero. See more at https://github.com/torvalds/linux/blob/v6.0/Documentation/ABI/testing/sysfs-bus-pci#L344-L355\n",
      "2023-05-21 17:19:11.534384: I tensorflow/compiler/xla/stream_executor/cuda/cuda_gpu_executor.cc:996] successful NUMA node read from SysFS had negative value (-1), but there must be at least one NUMA node, so returning NUMA node zero. See more at https://github.com/torvalds/linux/blob/v6.0/Documentation/ABI/testing/sysfs-bus-pci#L344-L355\n",
      "2023-05-21 17:19:12.350340: I tensorflow/compiler/xla/stream_executor/cuda/cuda_gpu_executor.cc:996] successful NUMA node read from SysFS had negative value (-1), but there must be at least one NUMA node, so returning NUMA node zero. See more at https://github.com/torvalds/linux/blob/v6.0/Documentation/ABI/testing/sysfs-bus-pci#L344-L355\n",
      "2023-05-21 17:19:12.350582: I tensorflow/compiler/xla/stream_executor/cuda/cuda_gpu_executor.cc:996] successful NUMA node read from SysFS had negative value (-1), but there must be at least one NUMA node, so returning NUMA node zero. See more at https://github.com/torvalds/linux/blob/v6.0/Documentation/ABI/testing/sysfs-bus-pci#L344-L355\n",
      "2023-05-21 17:19:12.350739: I tensorflow/compiler/xla/stream_executor/cuda/cuda_gpu_executor.cc:996] successful NUMA node read from SysFS had negative value (-1), but there must be at least one NUMA node, so returning NUMA node zero. See more at https://github.com/torvalds/linux/blob/v6.0/Documentation/ABI/testing/sysfs-bus-pci#L344-L355\n",
      "2023-05-21 17:19:12.350854: I tensorflow/core/common_runtime/gpu/gpu_device.cc:1635] Created device /job:localhost/replica:0/task:0/device:GPU:0 with 2184 MB memory:  -> device: 0, name: NVIDIA GeForce GTX 1650, pci bus id: 0000:01:00.0, compute capability: 7.5\n"
     ]
    }
   ],
   "source": [
    "\n",
    "import numpy as np\n",
    "import pandas as pd\n",
    "import random, math\n",
    "import tensorflow as tf\n",
    "import glob\n",
    "import shutil\n",
    "from zipfile import ZipFile\n",
    "import datetime\n",
    "import sys\n",
    "from functools import cache\n",
    "from pathlib import Path\n",
    "from tqdm import tqdm\n",
    "import regex as re\n",
    "\n",
    "os.environ['TF_CPP_MIN_LOG_LEVEL'] = '2' \n",
    "\n",
    "from sklearn.model_selection import train_test_split\n",
    "\n",
    "\n",
    "from tensorflow.keras.applications.resnet50 import preprocess_input as resnet_preprocessing\n",
    "from tensorflow.keras.layers import (\n",
    "    TextVectorization, Embedding, LSTM, GRU, Bidirectional, TimeDistributed, Dense, Attention, MultiHeadAttention, Flatten, Dropout,\n",
    "    Concatenate, Activation, GlobalAveragePooling2D\n",
    "    )\n",
    "from tensorflow.keras.layers import LSTM, Embedding, Input, Dense, Dropout, Concatenate\n",
    "from tensorflow.keras.models import Model\n",
    "from tensorflow.keras import backend as K\n",
    "from tensorflow.keras.layers import Layer\n",
    "from tensorflow import keras\n",
    "from tensorflow.keras.utils import array_to_img, img_to_array\n",
    "import string\n",
    "from tensorflow.keras.callbacks import CSVLogger, EarlyStopping, TensorBoard\n",
    "from model import LearningRateDecayCallback, get_model, masked_acc, masked_loss\n",
    "from preprocessing import preprocess_text, embedding_matrix_creater, mapper, clean_words\n",
    "from utils import create_model_checkpoint\n",
    "\n",
    "from config import config\n",
    "\n",
    "from get_data import download_dataset\n",
    "from funcyou.dataset import download_kaggle_dataset\n",
    "import polars as pl\n",
    "from preprocess_data import clean_the_df\n",
    "from funcyou.utils import printt, dir_walk\n",
    "import matplotlib.pyplot as plt\n",
    "from nltk import word_tokenize\n",
    "import nltk\n",
    "from collections import Counter\n",
    "import regex as re\n",
    "import yaml"
   ]
  },
  {
   "cell_type": "code",
   "execution_count": 4,
   "metadata": {},
   "outputs": [],
   "source": [
    "config_file_path = './config.yaml'\n",
    "\n",
    "# Read the config file \n",
    "with open(config_file_path, 'r') as file:\n",
    "    config = yaml.safe_load(file)\n",
    "\n",
    "\n",
    "RAW_CAPTION_FILE                        = Path(config['raw_caption_file'])\n",
    "CAPTION_FILE                            = Path(config['caption_file'])\n",
    "IMAGE_DIR                               = Path(config['image_dir'])\n",
    "IMG_SIZE                                = config['img_size']\n",
    "CHANNELS                                = config['channels']\n",
    "IMG_SHAPE                               = config['img_shape']\n",
    "MAX_LEN                                 = config['max_len']\n",
    "BATCH_SIZE                              = config['batch_size']\n",
    "EPOCHS                                  = config['epochs']\n",
    "LEARNING_RATE                           = config['learning_rate']\n",
    "UNITS                                   = config['units']\n",
    "TEST_SIZE                               = config['test_size']\n",
    "VALIDATION_SIZE                         = config['val_size']\n",
    "EMBEDDING_DIMENSION                     = config['embedding_dimension']\n",
    "GLOVE_PATH                              = config['glove_path']\n",
    "D_MODEL                                 = config['d_model']\n",
    "NUM_HEADS                               = config['num_heads']    \n",
    "NUM_LAYERS                               = config['num_layers']    \n",
    "PATCH_SIZE                              = config['patch_size']    \n",
    "TRANSFORMER_LAYERS                      = config['transformer_layers']        \n",
    "\n",
    "NUM_PATCHES = (IMG_SIZE // PATCH_SIZE) ** 2 \n"
   ]
  },
  {
   "cell_type": "code",
   "execution_count": 5,
   "metadata": {},
   "outputs": [
    {
     "name": "stdout",
     "output_type": "stream",
     "text": [
      "\n",
      "      RAW_CAPTION_FILE=PosixPath('input/flickr30k/results.csv')\n",
      "CAPTION_FILE=PosixPath('input/flickr30k/results_cleaned.csv')\n",
      "IMAGE_DIR=PosixPath('input/flickr30k/images')\n",
      "IMG_SIZE=256\n",
      "CHANNELS=3\n",
      "IMG_SHAPE=[256, 256, 3]\n",
      "MAX_LEN=50\n",
      "BATCH_SIZE=8\n",
      "EPOCHS=10\n",
      "LEARNING_RATE=0.01\n",
      "UNITS=16\n",
      "TEST_SIZE=0.05\n",
      "VALIDATION_SIZE=0.05\n",
      "EMBEDDING_DIMENSION=50\n",
      "GLOVE_PATH='embedding/glove.6B.50d.zip'\n",
      "D_MODEL=128\n",
      "NUM_HEADS=4\n",
      "NUM_LAYERS=4\n",
      "PATCH_SIZE=42\n",
      "TRANSFORMER_LAYERS=8\n",
      "      \n"
     ]
    }
   ],
   "source": [
    "print(f'''\n",
    "{      RAW_CAPTION_FILE=}\n",
    "{CAPTION_FILE=}\n",
    "{IMAGE_DIR=}\n",
    "{IMG_SIZE=}\n",
    "{CHANNELS=}\n",
    "{IMG_SHAPE=}\n",
    "{MAX_LEN=}\n",
    "{BATCH_SIZE=}\n",
    "{EPOCHS=}\n",
    "{LEARNING_RATE=}\n",
    "{UNITS=}\n",
    "{TEST_SIZE=}\n",
    "{VALIDATION_SIZE=}\n",
    "{EMBEDDING_DIMENSION=}\n",
    "{GLOVE_PATH=}\n",
    "{D_MODEL=}\n",
    "{NUM_HEADS=}\n",
    "{NUM_LAYERS=}\n",
    "{PATCH_SIZE=}\n",
    "{TRANSFORMER_LAYERS=}\n",
    "      ''')"
   ]
  },
  {
   "cell_type": "code",
   "execution_count": 6,
   "metadata": {},
   "outputs": [
    {
     "data": {
      "text/plain": [
       "16"
      ]
     },
     "execution_count": 6,
     "metadata": {},
     "output_type": "execute_result"
    }
   ],
   "source": [
    "IMG_SIZE = 128\n",
    "BATCH_SIZE = 8\n",
    "IMG_SHAPE = (128,128,3)\n",
    "D_MODEL = 32\n",
    "MAX_LEN = 30\n",
    "PATCH_SIZE = 32\n",
    "NUM_PATCHES = (IMG_SIZE // PATCH_SIZE) ** 2\n",
    "NUM_PATCHES"
   ]
  },
  {
   "cell_type": "code",
   "execution_count": 7,
   "metadata": {},
   "outputs": [],
   "source": [
    "START_TOKEN = 'startseq'\n",
    "END_TOKEN = 'endseq'"
   ]
  },
  {
   "attachments": {},
   "cell_type": "markdown",
   "metadata": {},
   "source": [
    "# Curating Dataframe"
   ]
  },
  {
   "attachments": {},
   "cell_type": "markdown",
   "metadata": {},
   "source": [
    "1. Null/Bad Entries removed\n",
    "2. Columns names stripped and lowered\n",
    "3. Low frequency word (<5) has been removed \n",
    "4. Added start and end tokens"
   ]
  },
  {
   "attachments": {},
   "cell_type": "markdown",
   "metadata": {},
   "source": [
    "we are keeping words in comments which atleast has occured  5 times( there are unnecessary word which we don't want) \n",
    "there are ~12000 words that doesn't even gets repeated 5 times in 150000 lines"
   ]
  },
  {
   "cell_type": "code",
   "execution_count": 8,
   "metadata": {},
   "outputs": [],
   "source": [
    "clean_the_df(RAW_CAPTION_FILE, '.')"
   ]
  },
  {
   "cell_type": "code",
   "execution_count": 9,
   "metadata": {},
   "outputs": [
    {
     "data": {
      "text/html": [
       "<div><style>\n",
       ".dataframe > thead > tr > th,\n",
       ".dataframe > tbody > tr > td {\n",
       "  text-align: right;\n",
       "}\n",
       "</style>\n",
       "<small>shape: (5, 5)</small><table border=\"1\" class=\"dataframe\"><thead><tr><th>image_name</th><th>comment_number</th><th>comment</th><th>no_rare_words</th><th>sent_len</th></tr><tr><td>str</td><td>i64</td><td>str</td><td>bool</td><td>i64</td></tr></thead><tbody><tr><td>&quot;1000092795.jpg…</td><td>0</td><td>&quot;startseq  Two …</td><td>true</td><td>18</td></tr><tr><td>&quot;1000092795.jpg…</td><td>1</td><td>&quot;startseq  Two …</td><td>true</td><td>11</td></tr><tr><td>&quot;1000092795.jpg…</td><td>2</td><td>&quot;startseq  Two …</td><td>true</td><td>12</td></tr><tr><td>&quot;1000092795.jpg…</td><td>3</td><td>&quot;startseq  A ma…</td><td>true</td><td>12</td></tr><tr><td>&quot;1000092795.jpg…</td><td>4</td><td>&quot;startseq  Two …</td><td>true</td><td>7</td></tr></tbody></table></div>"
      ],
      "text/plain": [
       "shape: (5, 5)\n",
       "┌────────────────┬────────────────┬───────────────────────────────────┬───────────────┬──────────┐\n",
       "│ image_name     ┆ comment_number ┆ comment                           ┆ no_rare_words ┆ sent_len │\n",
       "│ ---            ┆ ---            ┆ ---                               ┆ ---           ┆ ---      │\n",
       "│ str            ┆ i64            ┆ str                               ┆ bool          ┆ i64      │\n",
       "╞════════════════╪════════════════╪═══════════════════════════════════╪═══════════════╪══════════╡\n",
       "│ 1000092795.jpg ┆ 0              ┆ startseq  Two young guys with sh… ┆ true          ┆ 18       │\n",
       "│ 1000092795.jpg ┆ 1              ┆ startseq  Two young White males … ┆ true          ┆ 11       │\n",
       "│ 1000092795.jpg ┆ 2              ┆ startseq  Two men in green shirt… ┆ true          ┆ 12       │\n",
       "│ 1000092795.jpg ┆ 3              ┆ startseq  A man in a blue shirt … ┆ true          ┆ 12       │\n",
       "│ 1000092795.jpg ┆ 4              ┆ startseq  Two friends enjoy time… ┆ true          ┆ 7        │\n",
       "└────────────────┴────────────────┴───────────────────────────────────┴───────────────┴──────────┘"
      ]
     },
     "execution_count": 9,
     "metadata": {},
     "output_type": "execute_result"
    }
   ],
   "source": [
    "df = pl.read_csv('cleaned.csv')\n",
    "df.head()"
   ]
  },
  {
   "attachments": {},
   "cell_type": "markdown",
   "metadata": {},
   "source": [
    "delete before this code \n"
   ]
  },
  {
   "cell_type": "code",
   "execution_count": 10,
   "metadata": {},
   "outputs": [],
   "source": [
    "import polars as pd"
   ]
  },
  {
   "cell_type": "code",
   "execution_count": 11,
   "metadata": {},
   "outputs": [],
   "source": [
    "df = pd.read_csv('cleaned.csv')\n",
    "\n",
    "try:\n",
    "    df.drop('Unnamed: 0',axis=1, inplace=True)\n",
    "except:\n",
    "    pass"
   ]
  },
  {
   "cell_type": "code",
   "execution_count": 12,
   "metadata": {},
   "outputs": [
    {
     "name": "stdout",
     "output_type": "stream",
     "text": [
      "(158914, 5)\n",
      "<class 'pandas.core.frame.DataFrame'>\n",
      "RangeIndex: 158914 entries, 0 to 158913\n",
      "Data columns (total 5 columns):\n",
      " #   Column          Non-Null Count   Dtype \n",
      "---  ------          --------------   ----- \n",
      " 0   image_name      158914 non-null  object\n",
      " 1   comment_number  158914 non-null  int64 \n",
      " 2   comment         158914 non-null  object\n",
      " 3   no_rare_words   158914 non-null  bool  \n",
      " 4   sent_len        158914 non-null  int64 \n",
      "dtypes: bool(1), int64(2), object(2)\n",
      "memory usage: 5.0+ MB\n",
      "None\n",
      "['image_name', 'comment_number', 'comment', 'no_rare_words', 'sent_len']\n"
     ]
    }
   ],
   "source": [
    "print(df.shape)\n",
    "print(df.to_pandas().info())\n",
    "print(df.columns)"
   ]
  },
  {
   "attachments": {},
   "cell_type": "markdown",
   "metadata": {},
   "source": [
    "### **For the Sake of COmputation power and time we will train with one caption per image rather than 5 caption per image**"
   ]
  },
  {
   "attachments": {},
   "cell_type": "markdown",
   "metadata": {},
   "source": [
    "Finding median sentence length for all class of comment numbers, to ensure that our MAX_LEN covers all of them"
   ]
  },
  {
   "cell_type": "code",
   "execution_count": 13,
   "metadata": {},
   "outputs": [
    {
     "data": {
      "text/html": [
       "<div><style>\n",
       ".dataframe > thead > tr > th,\n",
       ".dataframe > tbody > tr > td {\n",
       "  text-align: right;\n",
       "}\n",
       "</style>\n",
       "<small>shape: (5, 7)</small><table border=\"1\" class=\"dataframe\"><thead><tr><th>image_name</th><th>comment_number</th><th>comment</th><th>no_rare_words</th><th>sent_len</th><th>image_path</th><th>img_exists</th></tr><tr><td>str</td><td>i64</td><td>str</td><td>bool</td><td>i64</td><td>str</td><td>bool</td></tr></thead><tbody><tr><td>&quot;1000092795.jpg…</td><td>0</td><td>&quot;startseq  Two …</td><td>true</td><td>18</td><td>&quot;input/flickr30…</td><td>true</td></tr><tr><td>&quot;1000092795.jpg…</td><td>1</td><td>&quot;startseq  Two …</td><td>true</td><td>11</td><td>&quot;input/flickr30…</td><td>true</td></tr><tr><td>&quot;1000092795.jpg…</td><td>2</td><td>&quot;startseq  Two …</td><td>true</td><td>12</td><td>&quot;input/flickr30…</td><td>true</td></tr><tr><td>&quot;1000092795.jpg…</td><td>3</td><td>&quot;startseq  A ma…</td><td>true</td><td>12</td><td>&quot;input/flickr30…</td><td>true</td></tr><tr><td>&quot;1000092795.jpg…</td><td>4</td><td>&quot;startseq  Two …</td><td>true</td><td>7</td><td>&quot;input/flickr30…</td><td>true</td></tr></tbody></table></div>"
      ],
      "text/plain": [
       "shape: (5, 7)\n",
       "┌──────────────┬──────────────┬──────────────┬──────────────┬──────────┬──────────────┬────────────┐\n",
       "│ image_name   ┆ comment_numb ┆ comment      ┆ no_rare_word ┆ sent_len ┆ image_path   ┆ img_exists │\n",
       "│ ---          ┆ er           ┆ ---          ┆ s            ┆ ---      ┆ ---          ┆ ---        │\n",
       "│ str          ┆ ---          ┆ str          ┆ ---          ┆ i64      ┆ str          ┆ bool       │\n",
       "│              ┆ i64          ┆              ┆ bool         ┆          ┆              ┆            │\n",
       "╞══════════════╪══════════════╪══════════════╪══════════════╪══════════╪══════════════╪════════════╡\n",
       "│ 1000092795.j ┆ 0            ┆ startseq     ┆ true         ┆ 18       ┆ input/flickr ┆ true       │\n",
       "│ pg           ┆              ┆ Two young    ┆              ┆          ┆ 30k/images/1 ┆            │\n",
       "│              ┆              ┆ guys with    ┆              ┆          ┆ 00009279…    ┆            │\n",
       "│              ┆              ┆ sh…          ┆              ┆          ┆              ┆            │\n",
       "│ 1000092795.j ┆ 1            ┆ startseq     ┆ true         ┆ 11       ┆ input/flickr ┆ true       │\n",
       "│ pg           ┆              ┆ Two young    ┆              ┆          ┆ 30k/images/1 ┆            │\n",
       "│              ┆              ┆ White males  ┆              ┆          ┆ 00009279…    ┆            │\n",
       "│              ┆              ┆ …            ┆              ┆          ┆              ┆            │\n",
       "│ 1000092795.j ┆ 2            ┆ startseq     ┆ true         ┆ 12       ┆ input/flickr ┆ true       │\n",
       "│ pg           ┆              ┆ Two men in   ┆              ┆          ┆ 30k/images/1 ┆            │\n",
       "│              ┆              ┆ green shirt… ┆              ┆          ┆ 00009279…    ┆            │\n",
       "│ 1000092795.j ┆ 3            ┆ startseq  A  ┆ true         ┆ 12       ┆ input/flickr ┆ true       │\n",
       "│ pg           ┆              ┆ man in a     ┆              ┆          ┆ 30k/images/1 ┆            │\n",
       "│              ┆              ┆ blue shirt … ┆              ┆          ┆ 00009279…    ┆            │\n",
       "│ 1000092795.j ┆ 4            ┆ startseq     ┆ true         ┆ 7        ┆ input/flickr ┆ true       │\n",
       "│ pg           ┆              ┆ Two friends  ┆              ┆          ┆ 30k/images/1 ┆            │\n",
       "│              ┆              ┆ enjoy time…  ┆              ┆          ┆ 00009279…    ┆            │\n",
       "└──────────────┴──────────────┴──────────────┴──────────────┴──────────┴──────────────┴────────────┘"
      ]
     },
     "execution_count": 13,
     "metadata": {},
     "output_type": "execute_result"
    }
   ],
   "source": [
    "df = df.with_columns([\n",
    "    pl.col(\"image_name\").apply(lambda x: str(IMAGE_DIR / x) ).alias('image_path') \n",
    "])\n",
    "\n",
    "df = df.with_columns([\n",
    "    pl.col(\"image_path\").apply(lambda x: os.path.isfile(x)).alias('img_exists') \n",
    "])\n",
    "\n",
    "df.head()"
   ]
  },
  {
   "cell_type": "code",
   "execution_count": 14,
   "metadata": {},
   "outputs": [
    {
     "data": {
      "text/html": [
       "<div><style>\n",
       ".dataframe > thead > tr > th,\n",
       ".dataframe > tbody > tr > td {\n",
       "  text-align: right;\n",
       "}\n",
       "</style>\n",
       "<small>shape: (5, 6)</small><table border=\"1\" class=\"dataframe\"><thead><tr><th>comment_number</th><th>mean</th><th>median</th><th>min</th><th>max</th><th>count</th></tr><tr><td>i64</td><td>f64</td><td>f64</td><td>i64</td><td>i64</td><td>u32</td></tr></thead><tbody><tr><td>0</td><td>19.871315</td><td>19.0</td><td>6</td><td>79</td><td>31783</td></tr><tr><td>1</td><td>15.859327</td><td>15.0</td><td>6</td><td>41</td><td>31783</td></tr><tr><td>2</td><td>13.602869</td><td>13.0</td><td>4</td><td>34</td><td>31783</td></tr><tr><td>3</td><td>11.771639</td><td>11.0</td><td>4</td><td>36</td><td>31783</td></tr><tr><td>4</td><td>9.871437</td><td>10.0</td><td>3</td><td>38</td><td>31782</td></tr></tbody></table></div>"
      ],
      "text/plain": [
       "shape: (5, 6)\n",
       "┌────────────────┬───────────┬────────┬─────┬─────┬───────┐\n",
       "│ comment_number ┆ mean      ┆ median ┆ min ┆ max ┆ count │\n",
       "│ ---            ┆ ---       ┆ ---    ┆ --- ┆ --- ┆ ---   │\n",
       "│ i64            ┆ f64       ┆ f64    ┆ i64 ┆ i64 ┆ u32   │\n",
       "╞════════════════╪═══════════╪════════╪═════╪═════╪═══════╡\n",
       "│ 0              ┆ 19.871315 ┆ 19.0   ┆ 6   ┆ 79  ┆ 31783 │\n",
       "│ 1              ┆ 15.859327 ┆ 15.0   ┆ 6   ┆ 41  ┆ 31783 │\n",
       "│ 2              ┆ 13.602869 ┆ 13.0   ┆ 4   ┆ 34  ┆ 31783 │\n",
       "│ 3              ┆ 11.771639 ┆ 11.0   ┆ 4   ┆ 36  ┆ 31783 │\n",
       "│ 4              ┆ 9.871437  ┆ 10.0   ┆ 3   ┆ 38  ┆ 31782 │\n",
       "└────────────────┴───────────┴────────┴─────┴─────┴───────┘"
      ]
     },
     "execution_count": 14,
     "metadata": {},
     "output_type": "execute_result"
    }
   ],
   "source": [
    "# Group by a categorical column\n",
    "grouped = df.groupby('comment_number')\n",
    "\n",
    "# Apply aggregation functions on numerical columns\n",
    "aggregated = grouped.agg(\n",
    "    pl.col('sent_len').mean().alias('mean'), \n",
    "    pl.col('sent_len').median().alias('median'), \n",
    "    pl.col('sent_len').min().alias('min'), \n",
    "    pl.col('sent_len').max().alias('max'), \n",
    "    pl.col('sent_len').count().alias('count')\n",
    ")\n",
    "aggregated"
   ]
  },
  {
   "cell_type": "code",
   "execution_count": 15,
   "metadata": {},
   "outputs": [
    {
     "data": {
      "text/plain": [
       "(31783, 7)"
      ]
     },
     "execution_count": 15,
     "metadata": {},
     "output_type": "execute_result"
    }
   ],
   "source": [
    "# i randomly chose 2nd comment of all picture you can chose anything bw 0 to 4\n",
    "df = df.filter(\n",
    "    (pl.col(\"comment_number\") == 1) & (pl.col(\"img_exists\") == True) & (pl.col(\"sent_len\") < 51)\n",
    ")\n",
    "df.shape"
   ]
  },
  {
   "attachments": {},
   "cell_type": "markdown",
   "metadata": {},
   "source": [
    "now we are just using 1/5 dataset"
   ]
  },
  {
   "attachments": {},
   "cell_type": "markdown",
   "metadata": {},
   "source": [
    "# Tokenize"
   ]
  },
  {
   "cell_type": "code",
   "execution_count": 16,
   "metadata": {},
   "outputs": [],
   "source": [
    "def preprocess_text(text):\n",
    "\n",
    "    text = tf.strings.lower(text)\n",
    "\n",
    "    text = tf.strings.regex_replace(text, r'\\d', '')\n",
    "\n",
    "    # Remove any punctuations\n",
    "    text = tf.strings.regex_replace(text, '[%s]' % re.escape(\n",
    "        '!\"#$%&\\'()*+,-./:;<=>?@[\\\\]^_`{|}~'), '')\n",
    "\n",
    "    # Remove single characters\n",
    "    text = tf.strings.regex_replace(text, r'\\b\\w\\b', '')\n",
    "    # Keep space, a to z, and select punctuation.\n",
    "    text = tf.strings.regex_replace(text, '[^ a-z.?!,¿]', '')\n",
    "    # Add spaces around punctuation.\n",
    "    text = tf.strings.regex_replace(text, '[.?!,¿|]', r' \\0 ')\n",
    "    # Strip whitespace.\n",
    "    text = tf.strings.strip(text)\n",
    "\n",
    "    return text\n"
   ]
  },
  {
   "cell_type": "code",
   "execution_count": 17,
   "metadata": {},
   "outputs": [],
   "source": [
    "\n",
    "#tokenizer\n",
    "tokenizer = TextVectorization(standardize=preprocess_text)\n",
    "tokenizer.adapt(df['comment'].to_list())\n",
    "\n",
    "\n",
    "word_to_id = tf.keras.layers.StringLookup(vocabulary=tokenizer.get_vocabulary(), mask_token='', oov_token='[UNK]')\n",
    "id_to_word = tf.keras.layers.StringLookup(vocabulary=tokenizer.get_vocabulary(), mask_token='', oov_token='[UNK]', invert=True)\n"
   ]
  },
  {
   "attachments": {},
   "cell_type": "markdown",
   "metadata": {},
   "source": [
    "# making Dataset"
   ]
  },
  {
   "cell_type": "code",
   "execution_count": 18,
   "metadata": {},
   "outputs": [],
   "source": [
    "\n",
    "def mapper(x, y, tokenizer):\n",
    "    x = load_images_now(x)\n",
    "    y = tokenizer(y)\n",
    "\n",
    "    y_in = y[:-1]\n",
    "    y_in =  tf.pad(y_in, [[0, MAX_LEN - tf.shape(y_in)[0]]] , constant_values=0)\n",
    "\n",
    "    y_out = y[1:]\n",
    "    y_out =  tf.pad(y_out, [[0, MAX_LEN - tf.shape(y_out)[0]]], constant_values=0)\n",
    "\n",
    "    return (x, y_in), y_out\n",
    "\n",
    "\n",
    "@tf.function\n",
    "def load_images_now(x):\n",
    "    image_data = tf.io.read_file(x)\n",
    "    image_features = tf.image.decode_jpeg(image_data, channels=CHANNELS)\n",
    "    image_features = tf.image.resize_with_pad(\n",
    "        image_features, target_height=IMG_SIZE, target_width=IMG_SIZE)\n",
    "    return image_features\n"
   ]
  },
  {
   "cell_type": "code",
   "execution_count": 19,
   "metadata": {},
   "outputs": [
    {
     "data": {
      "image/png": "[encoded data removed]",
      "text/plain": [
       "<PIL.Image.Image image mode=RGB size=128x128>"
      ]
     },
     "execution_count": 19,
     "metadata": {},
     "output_type": "execute_result"
    }
   ],
   "source": [
    "random_image_filepath = random.choices(df['image_path'].to_list(), k=1)[0]\n",
    "p_image = load_images_now(str(random_image_filepath))\n",
    "array_to_img(p_image)"
   ]
  },
  {
   "cell_type": "code",
   "execution_count": 20,
   "metadata": {},
   "outputs": [
    {
     "name": "stderr",
     "output_type": "stream",
     "text": [
      "2023-05-21 17:19:26.047190: I tensorflow/core/common_runtime/executor.cc:1197] [/device:CPU:0] (DEBUG INFO) Executor start aborting (this does not indicate an error and you can ignore this message): INVALID_ARGUMENT: You must feed a value for placeholder tensor 'args_0' with dtype string\n",
      "\t [[{{node args_0}}]]\n",
      "2023-05-21 17:19:26.119187: I tensorflow/core/common_runtime/executor.cc:1197] [/device:CPU:0] (DEBUG INFO) Executor start aborting (this does not indicate an error and you can ignore this message): INVALID_ARGUMENT: You must feed a value for placeholder tensor 'args_0' with dtype string\n",
      "\t [[{{node args_0}}]]\n",
      "2023-05-21 17:19:26.201410: I tensorflow/core/common_runtime/executor.cc:1197] [/device:CPU:0] (DEBUG INFO) Executor start aborting (this does not indicate an error and you can ignore this message): INVALID_ARGUMENT: You must feed a value for placeholder tensor 'args_0' with dtype string\n",
      "\t [[{{node args_0}}]]\n"
     ]
    },
    {
     "name": "stdout",
     "output_type": "stream",
     "text": [
      "Number of training samples: 3586\n",
      "Number of validation samples: 199\n",
      "Number of test samples: 189\n",
      "Vocabulary size: 7102\n"
     ]
    }
   ],
   "source": [
    "# Creating dataset\n",
    "TEST_SIZE = config['test_size']\n",
    "VAL_SIZE =  config['val_size']\n",
    "\n",
    "train, val = train_test_split(\n",
    "    df[['image_path', 'comment']],  test_size=VAL_SIZE, random_state=11)\n",
    "train, test = train_test_split(\n",
    "    train[['image_path', 'comment']],  test_size=TEST_SIZE, random_state=11)\n",
    "\n",
    "train_data = tf.data.Dataset.from_tensor_slices((train['image_path'].to_list(), train['comment'].to_list()))\n",
    "test_data = tf.data.Dataset.from_tensor_slices((test['image_path'].to_list(), test['comment'].to_list()))\n",
    "val_data = tf.data.Dataset.from_tensor_slices((val['image_path'].to_list(), val['comment'].to_list()))\n",
    "\n",
    "\n",
    "train_data = train_data.map(lambda x,y:mapper(x, y, tokenizer)).batch(BATCH_SIZE).prefetch(tf.data.AUTOTUNE)\n",
    "test_data =   test_data.map(lambda x,y:mapper(x, y, tokenizer)).batch(BATCH_SIZE).prefetch(tf.data.AUTOTUNE)\n",
    "val_data =     val_data.map(lambda x,y:mapper(x, y, tokenizer)).batch(BATCH_SIZE).prefetch(tf.data.AUTOTUNE)\n",
    "\n",
    "# resnet_output_flattened_shape = 8*8*2048\n",
    "\n",
    "print(\"Number of training samples: %d\" %\n",
    "      tf.data.experimental.cardinality(train_data))\n",
    "print(\"Number of validation samples: %d\" %\n",
    "      tf.data.experimental.cardinality(val_data))\n",
    "print(\"Number of test samples: %d\" %\n",
    "      tf.data.experimental.cardinality(test_data))\n",
    "\n",
    "VOCAB_SIZE = tokenizer.vocabulary_size()\n",
    "print(\"Vocabulary size: %d\" % VOCAB_SIZE)\n"
   ]
  },
  {
   "cell_type": "code",
   "execution_count": 21,
   "metadata": {},
   "outputs": [
    {
     "data": {
      "text/plain": [
       "((28683, 2), 28688)"
      ]
     },
     "execution_count": 21,
     "metadata": {},
     "output_type": "execute_result"
    }
   ],
   "source": [
    "train.shape, len(train_data)*BATCH_SIZE"
   ]
  },
  {
   "cell_type": "code",
   "execution_count": 22,
   "metadata": {},
   "outputs": [
    {
     "name": "stdout",
     "output_type": "stream",
     "text": [
      "x     :  (8, 128, 128, 3)\n",
      "y_in.shape(one batch)  :  (8, 30)\n",
      "y_in  :  tf.Tensor(\n",
      "[   2 1710   31    8  580    6    4  192   11   56    9  326  251    0\n",
      "    0    0    0    0    0    0    0    0    0    0    0    0    0    0\n",
      "    0    0], shape=(30,), dtype=int64)\n",
      "y_out.shape(one batch)  :  (8, 30)\n",
      "y_out :  tf.Tensor(\n",
      "[1710   31    8  580    6    4  192   11   56    9  326  251    3    0\n",
      "    0    0    0    0    0    0    0    0    0    0    0    0    0    0\n",
      "    0    0], shape=(30,), dtype=int64)\n",
      "\n",
      "\n"
     ]
    },
    {
     "name": "stderr",
     "output_type": "stream",
     "text": [
      "2023-05-21 17:19:26.324336: I tensorflow/core/common_runtime/executor.cc:1197] [/device:CPU:0] (DEBUG INFO) Executor start aborting (this does not indicate an error and you can ignore this message): INVALID_ARGUMENT: You must feed a value for placeholder tensor 'Placeholder/_5' with dtype string\n",
      "\t [[{{node Placeholder/_5}}]]\n"
     ]
    }
   ],
   "source": [
    "for (img_in, txt_in), txt_out in train_data.take(1):\n",
    "    # print(f'{i.numpy().decode():<40} {j.numpy()}')\n",
    "    print('x     : ', img_in.shape)\n",
    "    print('y_in.shape(one batch)  : ', txt_in.shape)\n",
    "    \n",
    "    print('y_in  : ', txt_in[0])\n",
    "    \n",
    "    print('y_out.shape(one batch)  : ', txt_out.shape)\n",
    "    print('y_out : ', txt_out[0])\n",
    "    print('\\n')\n"
   ]
  },
  {
   "attachments": {},
   "cell_type": "markdown",
   "metadata": {},
   "source": [
    "# Model"
   ]
  },
  {
   "cell_type": "code",
   "execution_count": 23,
   "metadata": {},
   "outputs": [],
   "source": [
    "DFF = 512"
   ]
  },
  {
   "cell_type": "code",
   "execution_count": 24,
   "metadata": {},
   "outputs": [],
   "source": [
    "from transformer import CaptionGenerator, Encoder, Decoder"
   ]
  },
  {
   "cell_type": "code",
   "execution_count": 25,
   "metadata": {},
   "outputs": [],
   "source": [
    "enc = Encoder( NUM_LAYERS, D_MODEL, NUM_HEADS, DFF, PATCH_SIZE, NUM_PATCHES, dropout_rate=0.1)\n",
    "dec = Decoder( NUM_LAYERS, D_MODEL, NUM_HEADS, DFF, VOCAB_SIZE, dropout_rate=0.1)"
   ]
  },
  {
   "cell_type": "code",
   "execution_count": 26,
   "metadata": {},
   "outputs": [],
   "source": [
    "model = CaptionGenerator(NUM_LAYERS, D_MODEL, NUM_HEADS, DFF, VOCAB_SIZE, PATCH_SIZE, NUM_PATCHES, dropout_rate=0.1)"
   ]
  },
  {
   "cell_type": "code",
   "execution_count": 27,
   "metadata": {},
   "outputs": [
    {
     "data": {
      "text/plain": [
       "(TensorShape([8, 128, 128, 3]), TensorShape([8, 30]))"
      ]
     },
     "execution_count": 27,
     "metadata": {},
     "output_type": "execute_result"
    }
   ],
   "source": [
    "img_in.shape, txt_in.shape"
   ]
  },
  {
   "cell_type": "code",
   "execution_count": 29,
   "metadata": {},
   "outputs": [],
   "source": [
    "# ee = enc(img_in)\n",
    "# ee.shape  #([batch_size, num_patches, d_model])"
   ]
  },
  {
   "cell_type": "code",
   "execution_count": 31,
   "metadata": {},
   "outputs": [
    {
     "ename": "",
     "evalue": "",
     "output_type": "error",
     "traceback": [
      "\u001b[1;31mCanceled future for execute_request message before replies were done"
     ]
    },
    {
     "ename": "",
     "evalue": "",
     "output_type": "error",
     "traceback": [
      "\u001b[1;31mThe Kernel crashed while executing code in the the current cell or a previous cell. Please review the code in the cell(s) to identify a possible cause of the failure. Click <a href='https://aka.ms/vscodeJupyterKernelCrash'>here</a> for more info. View Jupyter <a href='command:jupyter.viewOutput'>log</a> for further details."
     ]
    }
   ],
   "source": [
    "dd = dec(x = txt_in, context = ee)\n",
    "dd.shape   #([batch_size, max_len, d_model])"
   ]
  },
  {
   "cell_type": "code",
   "execution_count": null,
   "metadata": {},
   "outputs": [
    {
     "name": "stdout",
     "output_type": "stream",
     "text": [
      "TensorShape([16])\n",
      "attn_output:  TensorShape([8, 16, 32])\n",
      "concat:  TensorShape([8, 16, 32])\n"
     ]
    },
    {
     "name": "stderr",
     "output_type": "stream",
     "text": [
      "2023-05-21 16:36:03.522897: E tensorflow/compiler/xla/stream_executor/cuda/cuda_dnn.cc:417] Loaded runtime CuDNN library: 8.1.0 but source was compiled with: 8.6.0.  CuDNN library needs to have matching major version and equal or higher minor version. If using a binary install, upgrade your CuDNN library.  If building from sources, make sure the library loaded at runtime is compatible with the version specified during compile configuration.\n",
      "2023-05-21 16:36:03.523940: W ./tensorflow/compiler/xla/stream_executor/stream.h:1583] attempting to perform DNN operation using StreamExecutor without DNN support\n"
     ]
    },
    {
     "ename": "InternalError",
     "evalue": "Exception encountered when calling layer 'layer_normalization_32' (type LayerNormalization).\n\n{{function_node __wrapped__FusedBatchNormV3_device_/job:localhost/replica:0/task:0/device:GPU:0}} cuDNN launch failure : input shape ([1,128,32,1]) [Op:FusedBatchNormV3]\n\nCall arguments received by layer 'layer_normalization_32' (type LayerNormalization):\n  • inputs=tf.Tensor(shape=(8, 16, 32), dtype=float32)",
     "output_type": "error",
     "traceback": [
      "\u001b[0;31m---------------------------------------------------------------------------\u001b[0m",
      "\u001b[0;31mInternalError\u001b[0m                             Traceback (most recent call last)",
      "Cell \u001b[0;32mIn[51], line 1\u001b[0m\n\u001b[0;32m----> 1\u001b[0m output \u001b[39m=\u001b[39m model((img_in, txt_in))\n",
      "File \u001b[0;32m~/miniconda3/envs/tf_new/lib/python3.9/site-packages/keras/utils/traceback_utils.py:70\u001b[0m, in \u001b[0;36mfilter_traceback.<locals>.error_handler\u001b[0;34m(*args, **kwargs)\u001b[0m\n\u001b[1;32m     67\u001b[0m     filtered_tb \u001b[39m=\u001b[39m _process_traceback_frames(e\u001b[39m.\u001b[39m__traceback__)\n\u001b[1;32m     68\u001b[0m     \u001b[39m# To get the full stack trace, call:\u001b[39;00m\n\u001b[1;32m     69\u001b[0m     \u001b[39m# `tf.debugging.disable_traceback_filtering()`\u001b[39;00m\n\u001b[0;32m---> 70\u001b[0m     \u001b[39mraise\u001b[39;00m e\u001b[39m.\u001b[39mwith_traceback(filtered_tb) \u001b[39mfrom\u001b[39;00m \u001b[39mNone\u001b[39m\n\u001b[1;32m     71\u001b[0m \u001b[39mfinally\u001b[39;00m:\n\u001b[1;32m     72\u001b[0m     \u001b[39mdel\u001b[39;00m filtered_tb\n",
      "File \u001b[0;32m~/cproject/caption-generator/transformer.py:369\u001b[0m, in \u001b[0;36mCaptionGenerator.call\u001b[0;34m(self, inputs)\u001b[0m\n\u001b[1;32m    366\u001b[0m \u001b[39mdef\u001b[39;00m \u001b[39mcall\u001b[39m(\u001b[39mself\u001b[39m, inputs):  \u001b[39m# sourcery skip: inline-immediately-returned-variable, use-contextlib-suppress\u001b[39;00m\n\u001b[1;32m    367\u001b[0m     img, txt  \u001b[39m=\u001b[39m inputs\n\u001b[0;32m--> 369\u001b[0m     img \u001b[39m=\u001b[39m \u001b[39mself\u001b[39;49m\u001b[39m.\u001b[39;49mencoder(img)  \u001b[39m# (batch_size, context_len, d_model)\u001b[39;00m\n\u001b[1;32m    371\u001b[0m     x \u001b[39m=\u001b[39m \u001b[39mself\u001b[39m\u001b[39m.\u001b[39mdecoder(x\u001b[39m=\u001b[39mtxt, context\u001b[39m=\u001b[39mimg)  \u001b[39m# (batch_size, target_len, d_model)\u001b[39;00m\n\u001b[1;32m    373\u001b[0m     \u001b[39m# Final linear layer output.\u001b[39;00m\n",
      "File \u001b[0;32m~/cproject/caption-generator/transformer.py:264\u001b[0m, in \u001b[0;36mEncoder.call\u001b[0;34m(self, x)\u001b[0m\n\u001b[1;32m    261\u001b[0m x \u001b[39m=\u001b[39m \u001b[39mself\u001b[39m\u001b[39m.\u001b[39mdropout(x)\n\u001b[1;32m    263\u001b[0m \u001b[39mfor\u001b[39;00m i \u001b[39min\u001b[39;00m \u001b[39mrange\u001b[39m(\u001b[39mself\u001b[39m\u001b[39m.\u001b[39mnum_layers):\n\u001b[0;32m--> 264\u001b[0m     x \u001b[39m=\u001b[39m \u001b[39mself\u001b[39;49m\u001b[39m.\u001b[39;49menc_layers[i](x)\n\u001b[1;32m    266\u001b[0m \u001b[39mreturn\u001b[39;00m x\n",
      "File \u001b[0;32m~/cproject/caption-generator/transformer.py:224\u001b[0m, in \u001b[0;36mEncoderLayer.call\u001b[0;34m(self, x)\u001b[0m\n\u001b[1;32m    223\u001b[0m \u001b[39mdef\u001b[39;00m \u001b[39mcall\u001b[39m(\u001b[39mself\u001b[39m, x):\n\u001b[0;32m--> 224\u001b[0m     x \u001b[39m=\u001b[39m \u001b[39mself\u001b[39;49m\u001b[39m.\u001b[39;49mself_attention(x)\n\u001b[1;32m    225\u001b[0m     x \u001b[39m=\u001b[39m \u001b[39mself\u001b[39m\u001b[39m.\u001b[39mffn(x)\n\u001b[1;32m    226\u001b[0m     \u001b[39mreturn\u001b[39;00m x\n",
      "File \u001b[0;32m~/cproject/caption-generator/transformer.py:175\u001b[0m, in \u001b[0;36mGlobalSelfAttention.call\u001b[0;34m(self, x)\u001b[0m\n\u001b[1;32m    172\u001b[0m x \u001b[39m=\u001b[39m \u001b[39mself\u001b[39m\u001b[39m.\u001b[39madd([x, attn_output])\n\u001b[1;32m    173\u001b[0m tf\u001b[39m.\u001b[39mprint(\u001b[39m'\u001b[39m\u001b[39mconcat: \u001b[39m\u001b[39m'\u001b[39m,x\u001b[39m.\u001b[39mshape)\n\u001b[0;32m--> 175\u001b[0m x \u001b[39m=\u001b[39m \u001b[39mself\u001b[39;49m\u001b[39m.\u001b[39;49mlayernorm(x)\n\u001b[1;32m    176\u001b[0m tf\u001b[39m.\u001b[39mprint(\u001b[39m'\u001b[39m\u001b[39mlayernorm: \u001b[39m\u001b[39m'\u001b[39m,x\u001b[39m.\u001b[39mshape)\n\u001b[1;32m    178\u001b[0m \u001b[39mreturn\u001b[39;00m x\n",
      "\u001b[0;31mInternalError\u001b[0m: Exception encountered when calling layer 'layer_normalization_32' (type LayerNormalization).\n\n{{function_node __wrapped__FusedBatchNormV3_device_/job:localhost/replica:0/task:0/device:GPU:0}} cuDNN launch failure : input shape ([1,128,32,1]) [Op:FusedBatchNormV3]\n\nCall arguments received by layer 'layer_normalization_32' (type LayerNormalization):\n  • inputs=tf.Tensor(shape=(8, 16, 32), dtype=float32)"
     ]
    }
   ],
   "source": [
    "output = model((img_in, txt_in))\n",
    "output.shape  #([batch_size, max_len, vocab_size])"
   ]
  },
  {
   "cell_type": "code",
   "execution_count": null,
   "metadata": {},
   "outputs": [],
   "source": [
    "\n",
    "def masked_loss(y_true, y_pred):\n",
    "    loss_fn = tf.keras.losses.SparseCategoricalCrossentropy(\n",
    "        reduction='none')\n",
    "    loss = loss_fn(y_true, y_pred)\n",
    "\n",
    "    mask = tf.cast(y_true != 0, loss.dtype)\n",
    "    loss *= mask\n",
    "\n",
    "    return tf.reduce_sum(loss)/tf.reduce_sum(mask)\n",
    "\n",
    "def masked_acc(y_true, y_pred):\n",
    "    y_pred = tf.argmax(y_pred, axis=-1)\n",
    "    y_pred = tf.cast(y_pred, y_true.dtype)\n",
    "\n",
    "    matchh = tf.cast(y_true == y_pred, tf.float32)\n",
    "    mask = tf.cast(y_true != 0, tf.float32)\n",
    "\n",
    "    return tf.reduce_sum(matchh)/tf.reduce_sum(mask)\n"
   ]
  },
  {
   "cell_type": "code",
   "execution_count": null,
   "metadata": {},
   "outputs": [
    {
     "name": "stdout",
     "output_type": "stream",
     "text": [
      "0.01\n"
     ]
    }
   ],
   "source": [
    "print(LEARNING_RATE)"
   ]
  },
  {
   "cell_type": "code",
   "execution_count": null,
   "metadata": {},
   "outputs": [],
   "source": [
    "model.compile(optimizer=tf.keras.optimizers.Adam(learning_rate=LEARNING_RATE),\n",
    "              loss=masked_loss,\n",
    "              metrics=[masked_acc])\n"
   ]
  },
  {
   "cell_type": "code",
   "execution_count": null,
   "metadata": {},
   "outputs": [
    {
     "data": {
      "text/plain": [
       "<tensorflow.python.checkpoint.checkpoint.CheckpointLoadStatus at 0x79b6ee33bb20>"
      ]
     },
     "metadata": {},
     "output_type": "display_data"
    }
   ],
   "source": [
    "model.load_weights(f'model_weights/best_so_far/')"
   ]
  },
  {
   "cell_type": "code",
   "execution_count": null,
   "metadata": {},
   "outputs": [],
   "source": [
    "os.makedirs('log', exist_ok=True)\n",
    "csv_logger = CSVLogger('./log/training.log',append=True )\n",
    "tb_callback = tf.keras.callbacks.TensorBoard('./logs', update_freq=1)\n",
    "\n",
    "log_dir = \"logs/fit/\" + datetime.datetime.now().strftime(\"%Y%m%d-%H%M%S\")\n",
    "tensorboard_callback = tf.keras.callbacks.TensorBoard(log_dir=log_dir, histogram_freq=1)"
   ]
  },
  {
   "cell_type": "code",
   "execution_count": null,
   "metadata": {},
   "outputs": [
    {
     "name": "stdout",
     "output_type": "stream",
     "text": [
      "9 0\n",
      "20 1\n"
     ]
    }
   ],
   "source": [
    "EPOCHS = 360\n",
    "print(len(train_data) // EPOCHS, len(val_data) // EPOCHS)\n",
    "\n",
    "# steps_per_epoch = int(1*(len(train_data) / EPOCHS))\n",
    "# validation_steps =  int(1*(len(val_data) / EPOCHS))\n",
    "# print(steps_per_epoch, validation_steps)\n",
    "\n",
    "steps_per_epoch = 20\n",
    "validation_steps = 1\n",
    "print(steps_per_epoch, validation_steps)\n"
   ]
  },
  {
   "cell_type": "code",
   "execution_count": null,
   "metadata": {},
   "outputs": [
    {
     "data": {
      "text/plain": [
       "(3586, 199, 189)"
      ]
     },
     "metadata": {},
     "output_type": "display_data"
    }
   ],
   "source": [
    "len(train_data), len(val_data), len(test_data)"
   ]
  },
  {
   "cell_type": "code",
   "execution_count": null,
   "metadata": {},
   "outputs": [
    {
     "data": {
      "text/plain": [
       "{'expected_loss': 8.829079952564836, 'expected_acc': 0.00014641288433382137}"
      ]
     },
     "metadata": {},
     "output_type": "display_data"
    }
   ],
   "source": [
    "{\"expected_loss\": np.log(VOCAB_SIZE),\n",
    " \"expected_acc\": 1/VOCAB_SIZE}"
   ]
  },
  {
   "attachments": {},
   "cell_type": "markdown",
   "metadata": {},
   "source": [
    "## model.fit"
   ]
  },
  {
   "cell_type": "code",
   "execution_count": null,
   "metadata": {},
   "outputs": [
    {
     "name": "stdout",
     "output_type": "stream",
     "text": [
      "Epoch 1/360\n",
      "20/20 [==============================] - 120s 5s/step - loss: 8.8291 - masked_acc: 0.0012 - val_loss: 8.8291 - val_masked_acc: 0.0000e+00\n",
      "Epoch 2/360\n",
      "20/20 [==============================] - 63s 3s/step - loss: 8.8291 - masked_acc: 0.0000e+00 - val_loss: 8.8291 - val_masked_acc: 0.0000e+00\n",
      "Epoch 3/360\n",
      "20/20 [==============================] - 68s 4s/step - loss: 8.8291 - masked_acc: 0.0011 - val_loss: 8.8291 - val_masked_acc: 0.0000e+00\n",
      "Epoch 4/360\n",
      "20/20 [==============================] - 64s 3s/step - loss: 8.8291 - masked_acc: 0.0000e+00 - val_loss: 8.8291 - val_masked_acc: 0.0000e+00\n",
      "Epoch 5/360\n",
      "20/20 [==============================] - 71s 4s/step - loss: 8.8291 - masked_acc: 0.0011 - val_loss: 8.8291 - val_masked_acc: 0.0000e+00\n",
      "Epoch 6/360\n",
      "20/20 [==============================] - 68s 4s/step - loss: 8.8291 - masked_acc: 0.0000e+00 - val_loss: 8.8291 - val_masked_acc: 0.0000e+00\n",
      "Epoch 7/360\n",
      "20/20 [==============================] - 68s 4s/step - loss: 8.8315 - masked_acc: 5.6306e-04 - val_loss: 8.8291 - val_masked_acc: 0.0000e+00\n",
      "Epoch 8/360\n",
      "20/20 [==============================] - 108s 6s/step - loss: 8.8291 - masked_acc: 0.0023 - val_loss: 8.8291 - val_masked_acc: 0.0000e+00\n",
      "Epoch 9/360\n",
      "20/20 [==============================] - 51s 3s/step - loss: 8.8291 - masked_acc: 5.6948e-04 - val_loss: 8.8291 - val_masked_acc: 0.0000e+00\n",
      "Epoch 10/360\n",
      "20/20 [==============================] - 66s 3s/step - loss: 8.8320 - masked_acc: 5.9312e-04 - val_loss: 8.8291 - val_masked_acc: 0.0000e+00\n",
      "Epoch 11/360\n",
      "20/20 [==============================] - 69s 4s/step - loss: 8.8291 - masked_acc: 0.0012 - val_loss: 8.8291 - val_masked_acc: 0.0000e+00\n",
      "Epoch 12/360\n",
      "20/20 [==============================] - 69s 4s/step - loss: 8.8291 - masked_acc: 0.0000e+00 - val_loss: 8.8291 - val_masked_acc: 0.0000e+00\n",
      "Epoch 13/360\n",
      "20/20 [==============================] - 73s 4s/step - loss: 8.8291 - masked_acc: 0.0000e+00 - val_loss: 8.8291 - val_masked_acc: 0.0000e+00\n",
      "Epoch 14/360\n",
      "20/20 [==============================] - 70s 4s/step - loss: 8.8291 - masked_acc: 0.0000e+00 - val_loss: 8.8291 - val_masked_acc: 0.0000e+00\n",
      "Epoch 15/360\n",
      "20/20 [==============================] - 65s 3s/step - loss: 8.8291 - masked_acc: 0.0000e+00 - val_loss: 8.8291 - val_masked_acc: 0.0000e+00\n",
      "Epoch 16/360\n",
      "20/20 [==============================] - 71s 4s/step - loss: 8.8291 - masked_acc: 0.0000e+00 - val_loss: 8.8291 - val_masked_acc: 0.0000e+00\n",
      "Epoch 17/360\n",
      "20/20 [==============================] - 66s 3s/step - loss: 8.8291 - masked_acc: 5.6948e-04 - val_loss: 8.8291 - val_masked_acc: 0.0000e+00\n",
      "Epoch 18/360\n",
      "20/20 [==============================] - 72s 4s/step - loss: 8.8291 - masked_acc: 0.0000e+00 - val_loss: 8.8291 - val_masked_acc: 0.0000e+00\n",
      "Epoch 19/360\n",
      "20/20 [==============================] - 65s 3s/step - loss: 8.8291 - masked_acc: 5.6948e-04 - val_loss: 8.8291 - val_masked_acc: 0.0000e+00\n",
      "Epoch 20/360\n",
      "20/20 [==============================] - 73s 4s/step - loss: 8.8291 - masked_acc: 0.0000e+00 - val_loss: 8.8291 - val_masked_acc: 0.0000e+00\n",
      "Epoch 21/360\n",
      "20/20 [==============================] - 69s 4s/step - loss: 8.8291 - masked_acc: 5.7537e-04 - val_loss: 8.8291 - val_masked_acc: 0.0000e+00\n",
      "Epoch 22/360\n",
      "20/20 [==============================] - 64s 3s/step - loss: 8.8291 - masked_acc: 0.0012 - val_loss: 8.8291 - val_masked_acc: 0.0000e+00\n",
      "Epoch 23/360\n",
      "20/20 [==============================] - 71s 4s/step - loss: 8.8291 - masked_acc: 0.0000e+00 - val_loss: 8.8291 - val_masked_acc: 0.0000e+00\n",
      "Epoch 24/360\n",
      "20/20 [==============================] - 69s 4s/step - loss: 8.8291 - masked_acc: 0.0000e+00 - val_loss: 8.8291 - val_masked_acc: 0.0000e+00\n",
      "Epoch 25/360\n",
      "20/20 [==============================] - 69s 4s/step - loss: 8.8291 - masked_acc: 0.0000e+00 - val_loss: 8.8291 - val_masked_acc: 0.0000e+00\n",
      "Epoch 26/360\n",
      "20/20 [==============================] - 64s 3s/step - loss: 8.8291 - masked_acc: 0.0000e+00 - val_loss: 8.8291 - val_masked_acc: 0.0000e+00\n",
      "Epoch 27/360\n",
      "20/20 [==============================] - 71s 4s/step - loss: 8.8291 - masked_acc: 0.0000e+00 - val_loss: 8.8291 - val_masked_acc: 0.0000e+00\n",
      "Epoch 28/360\n",
      "20/20 [==============================] - 68s 4s/step - loss: 8.8291 - masked_acc: 5.8038e-04 - val_loss: 8.8291 - val_masked_acc: 0.0000e+00\n",
      "Epoch 29/360\n",
      "20/20 [==============================] - 63s 3s/step - loss: 8.8291 - masked_acc: 0.0000e+00 - val_loss: 8.8291 - val_masked_acc: 0.0000e+00\n",
      "Epoch 30/360\n",
      "20/20 [==============================] - 67s 4s/step - loss: 8.8291 - masked_acc: 5.8038e-04 - val_loss: 8.8291 - val_masked_acc: 0.0000e+00\n",
      "Epoch 31/360\n",
      "20/20 [==============================] - 72s 4s/step - loss: 8.8320 - masked_acc: 0.0012 - val_loss: 8.8291 - val_masked_acc: 0.0000e+00\n",
      "Epoch 32/360\n",
      "20/20 [==============================] - 67s 4s/step - loss: 8.8291 - masked_acc: 0.0000e+00 - val_loss: 8.8291 - val_masked_acc: 0.0000e+00\n",
      "Epoch 33/360\n",
      "20/20 [==============================] - 67s 4s/step - loss: 8.8291 - masked_acc: 0.0000e+00 - val_loss: 8.8291 - val_masked_acc: 0.0000e+00\n",
      "Epoch 34/360\n",
      "20/20 [==============================] - 67s 4s/step - loss: 8.8291 - masked_acc: 5.6243e-04 - val_loss: 8.8291 - val_masked_acc: 0.0000e+00\n",
      "Epoch 35/360\n",
      "20/20 [==============================] - 65s 3s/step - loss: 8.8291 - masked_acc: 5.6433e-04 - val_loss: 8.8291 - val_masked_acc: 0.0000e+00\n",
      "Epoch 36/360\n",
      "20/20 [==============================] - 67s 4s/step - loss: 8.8291 - masked_acc: 0.0012 - val_loss: 8.8291 - val_masked_acc: 0.0000e+00\n",
      "Epoch 37/360\n",
      "20/20 [==============================] - 70s 4s/step - loss: 8.8291 - masked_acc: 5.7339e-04 - val_loss: 8.8291 - val_masked_acc: 0.0000e+00\n",
      "Epoch 38/360\n",
      "20/20 [==============================] - 66s 3s/step - loss: 8.8291 - masked_acc: 0.0000e+00 - val_loss: 8.8291 - val_masked_acc: 0.0000e+00\n",
      "Epoch 39/360\n",
      "20/20 [==============================] - 66s 3s/step - loss: 8.8291 - masked_acc: 0.0000e+00 - val_loss: 8.8291 - val_masked_acc: 0.0000e+00\n",
      "Epoch 40/360\n",
      "20/20 [==============================] - 65s 3s/step - loss: 8.8291 - masked_acc: 5.8548e-04 - val_loss: 8.8291 - val_masked_acc: 0.0000e+00\n",
      "Epoch 41/360\n",
      "20/20 [==============================] - 66s 3s/step - loss: 8.8291 - masked_acc: 0.0000e+00 - val_loss: 8.8291 - val_masked_acc: 0.0000e+00\n",
      "Epoch 42/360\n",
      "20/20 [==============================] - 65s 3s/step - loss: 8.8291 - masked_acc: 0.0011 - val_loss: 8.8291 - val_masked_acc: 0.0000e+00\n",
      "Epoch 43/360\n",
      "20/20 [==============================] - 68s 4s/step - loss: 8.8291 - masked_acc: 5.5218e-04 - val_loss: 8.8291 - val_masked_acc: 0.0000e+00\n",
      "Epoch 44/360\n",
      "20/20 [==============================] - 67s 4s/step - loss: 8.8291 - masked_acc: 5.6915e-04 - val_loss: 8.8291 - val_masked_acc: 0.0000e+00\n",
      "Epoch 45/360\n",
      "20/20 [==============================] - 67s 4s/step - loss: 8.8291 - masked_acc: 5.7176e-04 - val_loss: 8.8291 - val_masked_acc: 0.0000e+00\n",
      "Epoch 46/360\n",
      "20/20 [==============================] - 67s 4s/step - loss: 8.8291 - masked_acc: 0.0000e+00 - val_loss: 8.8291 - val_masked_acc: 0.0000e+00\n",
      "Epoch 47/360\n",
      "20/20 [==============================] - 66s 3s/step - loss: 8.8291 - masked_acc: 5.7013e-04 - val_loss: 8.8291 - val_masked_acc: 0.0000e+00\n",
      "Epoch 48/360\n",
      "20/20 [==============================] - 64s 3s/step - loss: 8.8291 - masked_acc: 0.0012 - val_loss: 8.8291 - val_masked_acc: 0.0000e+00\n",
      "Epoch 49/360\n",
      "20/20 [==============================] - 71s 4s/step - loss: 8.8291 - masked_acc: 0.0000e+00 - val_loss: 8.8291 - val_masked_acc: 0.0000e+00\n",
      "Epoch 50/360\n",
      "20/20 [==============================] - 62s 3s/step - loss: 8.8291 - masked_acc: 0.0000e+00 - val_loss: 8.8291 - val_masked_acc: 0.0000e+00\n",
      "Epoch 51/360\n",
      "20/20 [==============================] - 70s 4s/step - loss: 8.8291 - masked_acc: 5.6754e-04 - val_loss: 8.8291 - val_masked_acc: 0.0000e+00\n",
      "Epoch 52/360\n",
      "20/20 [==============================] - 62s 3s/step - loss: 8.8291 - masked_acc: 5.6497e-04 - val_loss: 8.8291 - val_masked_acc: 0.0000e+00\n",
      "Epoch 53/360\n",
      "20/20 [==============================] - 70s 4s/step - loss: 8.8291 - masked_acc: 0.0000e+00 - val_loss: 8.8291 - val_masked_acc: 0.0000e+00\n",
      "Epoch 54/360\n",
      "20/20 [==============================] - 66s 3s/step - loss: 8.8291 - masked_acc: 0.0000e+00 - val_loss: 8.8291 - val_masked_acc: 0.0000e+00\n",
      "Epoch 55/360\n",
      "20/20 [==============================] - 66s 3s/step - loss: 8.8291 - masked_acc: 0.0000e+00 - val_loss: 8.8291 - val_masked_acc: 0.0000e+00\n",
      "Epoch 56/360\n",
      "20/20 [==============================] - 61s 3s/step - loss: 8.8291 - masked_acc: 0.0012 - val_loss: 8.8291 - val_masked_acc: 0.0000e+00\n",
      "Epoch 57/360\n",
      "20/20 [==============================] - 72s 4s/step - loss: 8.8291 - masked_acc: 5.6561e-04 - val_loss: 8.8291 - val_masked_acc: 0.0000e+00\n",
      "Epoch 58/360\n",
      "20/20 [==============================] - 64s 3s/step - loss: 8.8291 - masked_acc: 5.7471e-04 - val_loss: 8.8291 - val_masked_acc: 0.0000e+00\n",
      "Epoch 59/360\n",
      "20/20 [==============================] - 61s 3s/step - loss: 8.8291 - masked_acc: 0.0000e+00 - val_loss: 8.8291 - val_masked_acc: 0.0000e+00\n",
      "Epoch 60/360\n",
      "20/20 [==============================] - 68s 4s/step - loss: 8.8291 - masked_acc: 5.7045e-04 - val_loss: 8.8291 - val_masked_acc: 0.0000e+00\n",
      "Epoch 61/360\n",
      "20/20 [==============================] - 61s 3s/step - loss: 8.8291 - masked_acc: 0.0012 - val_loss: 8.8291 - val_masked_acc: 0.0000e+00\n",
      "Epoch 62/360\n",
      "20/20 [==============================] - 64s 3s/step - loss: 8.8291 - masked_acc: 0.0017 - val_loss: 8.8291 - val_masked_acc: 0.0000e+00\n",
      "Epoch 63/360\n",
      "20/20 [==============================] - 64s 3s/step - loss: 8.8291 - masked_acc: 0.0011 - val_loss: 8.8291 - val_masked_acc: 0.0000e+00\n",
      "Epoch 64/360\n",
      "20/20 [==============================] - 68s 4s/step - loss: 8.8291 - masked_acc: 0.0000e+00 - val_loss: 8.8291 - val_masked_acc: 0.0000e+00\n",
      "Epoch 65/360\n",
      "20/20 [==============================] - 64s 3s/step - loss: 8.8291 - masked_acc: 0.0000e+00 - val_loss: 8.8291 - val_masked_acc: 0.0000e+00\n",
      "Epoch 66/360\n",
      "20/20 [==============================] - 64s 3s/step - loss: 8.8291 - masked_acc: 0.0000e+00 - val_loss: 8.8291 - val_masked_acc: 0.0000e+00\n",
      "Epoch 67/360\n",
      "20/20 [==============================] - 64s 3s/step - loss: 8.8291 - masked_acc: 0.0000e+00 - val_loss: 8.8291 - val_masked_acc: 0.0000e+00\n",
      "Epoch 68/360\n",
      "20/20 [==============================] - 61s 3s/step - loss: 8.8291 - masked_acc: 0.0012 - val_loss: 8.8291 - val_masked_acc: 0.0000e+00\n",
      "Epoch 69/360\n",
      "20/20 [==============================] - 69s 4s/step - loss: 8.8291 - masked_acc: 0.0000e+00 - val_loss: 8.8291 - val_masked_acc: 0.0000e+00\n",
      "Epoch 70/360\n",
      "20/20 [==============================] - 65s 3s/step - loss: 8.8291 - masked_acc: 5.7438e-04 - val_loss: 8.8291 - val_masked_acc: 0.0000e+00\n",
      "Epoch 71/360\n",
      "20/20 [==============================] - 65s 3s/step - loss: 8.8291 - masked_acc: 5.7143e-04 - val_loss: 8.8291 - val_masked_acc: 0.0000e+00\n",
      "Epoch 72/360\n",
      "20/20 [==============================] - 66s 3s/step - loss: 8.8291 - masked_acc: 0.0000e+00 - val_loss: 8.8291 - val_masked_acc: 0.0000e+00\n",
      "Epoch 73/360\n",
      "20/20 [==============================] - 61s 3s/step - loss: 8.8291 - masked_acc: 5.6721e-04 - val_loss: 8.8291 - val_masked_acc: 0.0000e+00\n",
      "Epoch 74/360\n",
      "20/20 [==============================] - 65s 3s/step - loss: 8.8320 - masked_acc: 0.0000e+00 - val_loss: 8.8291 - val_masked_acc: 0.0000e+00\n",
      "Epoch 75/360\n",
      "20/20 [==============================] - 68s 4s/step - loss: 8.8291 - masked_acc: 0.0011 - val_loss: 8.8291 - val_masked_acc: 0.0000e+00\n",
      "Epoch 76/360\n",
      "20/20 [==============================] - 64s 3s/step - loss: 8.8291 - masked_acc: 5.7604e-04 - val_loss: 8.8291 - val_masked_acc: 0.0000e+00\n",
      "Epoch 77/360\n",
      "20/20 [==============================] - 61s 3s/step - loss: 8.8291 - masked_acc: 5.5127e-04 - val_loss: 8.8291 - val_masked_acc: 0.0000e+00\n",
      "Epoch 78/360\n",
      "20/20 [==============================] - 65s 3s/step - loss: 8.8291 - masked_acc: 0.0017 - val_loss: 8.8291 - val_masked_acc: 0.0000e+00\n",
      "Epoch 79/360\n",
      "20/20 [==============================] - 69s 4s/step - loss: 8.8291 - masked_acc: 5.8275e-04 - val_loss: 8.8291 - val_masked_acc: 0.0000e+00\n",
      "Epoch 80/360\n",
      "20/20 [==============================] - 59s 3s/step - loss: 8.8291 - masked_acc: 0.0012 - val_loss: 8.8291 - val_masked_acc: 0.0000e+00\n",
      "Epoch 81/360\n",
      "20/20 [==============================] - 69s 4s/step - loss: 8.8291 - masked_acc: 5.5310e-04 - val_loss: 8.8291 - val_masked_acc: 0.0000e+00\n",
      "Epoch 82/360\n",
      "20/20 [==============================] - 60s 3s/step - loss: 8.8291 - masked_acc: 5.7471e-04 - val_loss: 8.8291 - val_masked_acc: 0.0000e+00\n",
      "Epoch 83/360\n",
      "20/20 [==============================] - 64s 3s/step - loss: 8.8291 - masked_acc: 0.0000e+00 - val_loss: 8.8291 - val_masked_acc: 0.0000e+00\n",
      "Epoch 84/360\n",
      "20/20 [==============================] - 68s 4s/step - loss: 8.8291 - masked_acc: 0.0000e+00 - val_loss: 8.8291 - val_masked_acc: 0.0000e+00\n",
      "Epoch 85/360\n",
      "20/20 [==============================] - 60s 3s/step - loss: 8.8291 - masked_acc: 0.0011 - val_loss: 8.8291 - val_masked_acc: 0.0000e+00\n",
      "Epoch 86/360\n",
      "20/20 [==============================] - 68s 4s/step - loss: 8.8291 - masked_acc: 0.0011 - val_loss: 8.8291 - val_masked_acc: 0.0000e+00\n",
      "Epoch 87/360\n",
      "20/20 [==============================] - 64s 3s/step - loss: 8.8291 - masked_acc: 0.0000e+00 - val_loss: 8.8291 - val_masked_acc: 0.0000e+00\n",
      "Epoch 88/360\n",
      "20/20 [==============================] - 60s 3s/step - loss: 8.8291 - masked_acc: 0.0012 - val_loss: 8.8291 - val_masked_acc: 0.0000e+00\n",
      "Epoch 89/360\n",
      "20/20 [==============================] - 65s 3s/step - loss: 8.8291 - masked_acc: 0.0000e+00 - val_loss: 8.8291 - val_masked_acc: 0.0000e+00\n",
      "Epoch 90/360\n",
      "20/20 [==============================] - 64s 3s/step - loss: 8.8291 - masked_acc: 5.7837e-04 - val_loss: 8.8291 - val_masked_acc: 0.0000e+00\n",
      "Epoch 91/360\n",
      "20/20 [==============================] - 65s 3s/step - loss: 8.8291 - masked_acc: 0.0000e+00 - val_loss: 8.8291 - val_masked_acc: 0.0000e+00\n",
      "Epoch 92/360\n",
      "20/20 [==============================] - 70s 4s/step - loss: 8.8291 - masked_acc: 0.0017 - val_loss: 8.8291 - val_masked_acc: 0.0000e+00\n",
      "Epoch 93/360\n",
      "20/20 [==============================] - 61s 3s/step - loss: 8.8291 - masked_acc: 0.0000e+00 - val_loss: 8.8291 - val_masked_acc: 0.0000e+00\n",
      "Epoch 94/360\n",
      "20/20 [==============================] - 72s 4s/step - loss: 8.8291 - masked_acc: 0.0011 - val_loss: 8.8291 - val_masked_acc: 0.0000e+00\n",
      "Epoch 95/360\n",
      "20/20 [==============================] - 70s 4s/step - loss: 8.8291 - masked_acc: 0.0000e+00 - val_loss: 8.8291 - val_masked_acc: 0.0000e+00\n",
      "Epoch 96/360\n",
      "20/20 [==============================] - 65s 3s/step - loss: 8.8291 - masked_acc: 0.0012 - val_loss: 8.8291 - val_masked_acc: 0.0000e+00\n",
      "Epoch 97/360\n",
      "20/20 [==============================] - 71s 4s/step - loss: 8.8291 - masked_acc: 5.7803e-04 - val_loss: 8.8291 - val_masked_acc: 0.0000e+00\n",
      "Epoch 98/360\n",
      "20/20 [==============================] - 67s 4s/step - loss: 8.8291 - masked_acc: 0.0011 - val_loss: 8.8291 - val_masked_acc: 0.0000e+00\n",
      "Epoch 99/360\n",
      "20/20 [==============================] - 64s 3s/step - loss: 8.8291 - masked_acc: 0.0000e+00 - val_loss: 8.8291 - val_masked_acc: 0.0000e+00\n",
      "Epoch 100/360\n",
      "20/20 [==============================] - 72s 4s/step - loss: 8.8291 - masked_acc: 0.0000e+00 - val_loss: 8.8291 - val_masked_acc: 0.0000e+00\n",
      "Epoch 101/360\n",
      "20/20 [==============================] - 68s 4s/step - loss: 8.8291 - masked_acc: 0.0011 - val_loss: 8.8291 - val_masked_acc: 0.0000e+00\n",
      "Epoch 102/360\n",
      "20/20 [==============================] - 68s 4s/step - loss: 8.8331 - masked_acc: 0.0000e+00 - val_loss: 8.8291 - val_masked_acc: 0.0000e+00\n",
      "Epoch 103/360\n",
      "20/20 [==============================] - 68s 4s/step - loss: 8.8291 - masked_acc: 0.0000e+00 - val_loss: 8.8291 - val_masked_acc: 0.0000e+00\n",
      "Epoch 104/360\n",
      "20/20 [==============================] - 67s 4s/step - loss: 8.8291 - masked_acc: 0.0000e+00 - val_loss: 8.8291 - val_masked_acc: 0.0000e+00\n",
      "Epoch 105/360\n",
      "20/20 [==============================] - 61s 3s/step - loss: 8.8325 - masked_acc: 0.0017 - val_loss: 8.8291 - val_masked_acc: 0.0000e+00\n",
      "Epoch 106/360\n",
      "20/20 [==============================] - 71s 4s/step - loss: 8.8291 - masked_acc: 0.0011 - val_loss: 8.8291 - val_masked_acc: 0.0000e+00\n",
      "Epoch 107/360\n",
      "20/20 [==============================] - 66s 3s/step - loss: 8.8291 - masked_acc: 5.8720e-04 - val_loss: 8.8291 - val_masked_acc: 0.0000e+00\n",
      "Epoch 108/360\n",
      "20/20 [==============================] - 61s 3s/step - loss: 8.8291 - masked_acc: 5.7670e-04 - val_loss: 8.8291 - val_masked_acc: 0.0000e+00\n",
      "Epoch 109/360\n",
      "20/20 [==============================] - 70s 4s/step - loss: 8.8291 - masked_acc: 5.6306e-04 - val_loss: 8.8291 - val_masked_acc: 0.0000e+00\n",
      "Epoch 110/360\n",
      "20/20 [==============================] - 63s 3s/step - loss: 8.8291 - masked_acc: 0.0017 - val_loss: 8.8291 - val_masked_acc: 0.0000e+00\n",
      "Epoch 111/360\n",
      "20/20 [==============================] - 109s 6s/step - loss: 8.8291 - masked_acc: 0.0023 - val_loss: 8.8291 - val_masked_acc: 0.0000e+00\n",
      "Epoch 112/360\n",
      "20/20 [==============================] - 45s 2s/step - loss: 8.8291 - masked_acc: 0.0000e+00 - val_loss: 8.8291 - val_masked_acc: 0.0000e+00\n",
      "Epoch 113/360\n",
      "20/20 [==============================] - 64s 3s/step - loss: 8.8291 - masked_acc: 0.0011 - val_loss: 8.8291 - val_masked_acc: 0.0000e+00\n",
      "Epoch 114/360\n",
      "20/20 [==============================] - 66s 3s/step - loss: 8.8291 - masked_acc: 0.0000e+00 - val_loss: 8.8291 - val_masked_acc: 0.0000e+00\n",
      "Epoch 115/360\n",
      "20/20 [==============================] - 66s 3s/step - loss: 8.8291 - masked_acc: 0.0017 - val_loss: 8.8291 - val_masked_acc: 0.0000e+00\n",
      "Epoch 116/360\n",
      "20/20 [==============================] - 66s 3s/step - loss: 8.8291 - masked_acc: 0.0012 - val_loss: 8.8291 - val_masked_acc: 0.0000e+00\n",
      "Epoch 117/360\n",
      "20/20 [==============================] - 66s 3s/step - loss: 8.8291 - masked_acc: 0.0012 - val_loss: 8.8291 - val_masked_acc: 0.0000e+00\n",
      "Epoch 118/360\n",
      "20/20 [==============================] - 67s 4s/step - loss: 8.8291 - masked_acc: 0.0012 - val_loss: 8.8291 - val_masked_acc: 0.0000e+00\n",
      "Epoch 119/360\n",
      "20/20 [==============================] - 62s 3s/step - loss: 8.8291 - masked_acc: 5.7307e-04 - val_loss: 8.8291 - val_masked_acc: 0.0000e+00\n",
      "Epoch 120/360\n",
      "20/20 [==============================] - 68s 4s/step - loss: 8.8291 - masked_acc: 0.0012 - val_loss: 8.8291 - val_masked_acc: 0.0000e+00\n",
      "Epoch 121/360\n",
      "20/20 [==============================] - 65s 3s/step - loss: 8.8319 - masked_acc: 0.0017 - val_loss: 8.8291 - val_masked_acc: 0.0000e+00\n",
      "Epoch 122/360\n",
      "20/20 [==============================] - ETA: 0s - loss: 8.8291 - masked_acc: 5.9067e-04"
     ]
    },
    {
     "ename": "KeyboardInterrupt",
     "evalue": "",
     "output_type": "error",
     "traceback": [
      "\u001b[0;31m---------------------------------------------------------------------------\u001b[0m\n",
      "\u001b[0;31mKeyboardInterrupt\u001b[0m                         Traceback (most recent call last)\n",
      "Cell \u001b[0;32mIn[56], line 1\u001b[0m\n",
      "\u001b[0;32m----> 1\u001b[0m history \u001b[38;5;241m=\u001b[39m \u001b[43mmodel\u001b[49m\u001b[38;5;241;43m.\u001b[39;49m\u001b[43mfit\u001b[49m\u001b[43m(\u001b[49m\u001b[43mtrain_data\u001b[49m\u001b[38;5;241;43m.\u001b[39;49m\u001b[43mrepeat\u001b[49m\u001b[43m(\u001b[49m\u001b[43m)\u001b[49m\u001b[43m,\u001b[49m\n",
      "\u001b[1;32m      2\u001b[0m \u001b[43m                    \u001b[49m\u001b[43mepochs\u001b[49m\u001b[38;5;241;43m=\u001b[39;49m\u001b[43mEPOCHS\u001b[49m\u001b[43m,\u001b[49m\n",
      "\u001b[1;32m      3\u001b[0m \u001b[43m                    \u001b[49m\u001b[43mvalidation_data\u001b[49m\u001b[38;5;241;43m=\u001b[39;49m\u001b[43mval_data\u001b[49m\u001b[43m,\u001b[49m\n",
      "\u001b[1;32m      4\u001b[0m \u001b[43m                    \u001b[49m\u001b[43msteps_per_epoch\u001b[49m\u001b[38;5;241;43m=\u001b[39;49m\u001b[43msteps_per_epoch\u001b[49m\u001b[43m,\u001b[49m\n",
      "\u001b[1;32m      5\u001b[0m \u001b[43m                    \u001b[49m\u001b[43mvalidation_steps\u001b[49m\u001b[38;5;241;43m=\u001b[39;49m\u001b[43mvalidation_steps\u001b[49m\u001b[43m,\u001b[49m\n",
      "\u001b[1;32m      6\u001b[0m \u001b[43m                    \u001b[49m\u001b[43mcallbacks\u001b[49m\u001b[38;5;241;43m=\u001b[39;49m\u001b[43m[\u001b[49m\n",
      "\u001b[1;32m      7\u001b[0m \u001b[43m                        \u001b[49m\u001b[38;5;66;43;03m# decay_callback,\u001b[39;49;00m\n",
      "\u001b[1;32m      8\u001b[0m \u001b[43m                        \u001b[49m\u001b[43mcsv_logger\u001b[49m\u001b[43m,\u001b[49m\n",
      "\u001b[1;32m      9\u001b[0m \u001b[43m                        \u001b[49m\u001b[43mcreate_model_checkpoint\u001b[49m\u001b[43m(\u001b[49m\u001b[43mmodel_name\u001b[49m\u001b[43m \u001b[49m\u001b[38;5;241;43m=\u001b[39;49m\u001b[43m \u001b[49m\u001b[38;5;124;43m'\u001b[39;49m\u001b[38;5;124;43mcapgen\u001b[39;49m\u001b[38;5;124;43m'\u001b[39;49m\u001b[43m,\u001b[49m\u001b[43m \u001b[49m\u001b[43msave_dir\u001b[49m\u001b[43m \u001b[49m\u001b[38;5;241;43m=\u001b[39;49m\u001b[43m \u001b[49m\u001b[38;5;124;43m'\u001b[39;49m\u001b[38;5;124;43mcheckpoints\u001b[39;49m\u001b[38;5;124;43m'\u001b[39;49m\u001b[43m,\u001b[49m\u001b[43m \u001b[49m\u001b[43mmonitor\u001b[49m\u001b[43m \u001b[49m\u001b[38;5;241;43m=\u001b[39;49m\u001b[43m \u001b[49m\u001b[38;5;124;43m'\u001b[39;49m\u001b[38;5;124;43mmasked_acc\u001b[39;49m\u001b[38;5;124;43m'\u001b[39;49m\u001b[43m)\u001b[49m\u001b[43m,\u001b[49m\n",
      "\u001b[1;32m     10\u001b[0m \u001b[43m                        \u001b[49m\u001b[43mtensorboard_callback\u001b[49m\n",
      "\u001b[1;32m     11\u001b[0m \u001b[43m                                \u001b[49m\u001b[43m]\u001b[49m\n",
      "\u001b[1;32m     12\u001b[0m \u001b[43m                    \u001b[49m\u001b[43m)\u001b[49m\n",
      "\n",
      "File \u001b[0;32m/opt/conda/lib/python3.10/site-packages/keras/utils/traceback_utils.py:65\u001b[0m, in \u001b[0;36mfilter_traceback.<locals>.error_handler\u001b[0;34m(*args, **kwargs)\u001b[0m\n",
      "\u001b[1;32m     63\u001b[0m filtered_tb \u001b[38;5;241m=\u001b[39m \u001b[38;5;28;01mNone\u001b[39;00m\n",
      "\u001b[1;32m     64\u001b[0m \u001b[38;5;28;01mtry\u001b[39;00m:\n",
      "\u001b[0;32m---> 65\u001b[0m     \u001b[38;5;28;01mreturn\u001b[39;00m \u001b[43mfn\u001b[49m\u001b[43m(\u001b[49m\u001b[38;5;241;43m*\u001b[39;49m\u001b[43margs\u001b[49m\u001b[43m,\u001b[49m\u001b[43m \u001b[49m\u001b[38;5;241;43m*\u001b[39;49m\u001b[38;5;241;43m*\u001b[39;49m\u001b[43mkwargs\u001b[49m\u001b[43m)\u001b[49m\n",
      "\u001b[1;32m     66\u001b[0m \u001b[38;5;28;01mexcept\u001b[39;00m \u001b[38;5;167;01mException\u001b[39;00m \u001b[38;5;28;01mas\u001b[39;00m e:\n",
      "\u001b[1;32m     67\u001b[0m     filtered_tb \u001b[38;5;241m=\u001b[39m _process_traceback_frames(e\u001b[38;5;241m.\u001b[39m__traceback__)\n",
      "\n",
      "File \u001b[0;32m/opt/conda/lib/python3.10/site-packages/keras/engine/training.py:1694\u001b[0m, in \u001b[0;36mModel.fit\u001b[0;34m(self, x, y, batch_size, epochs, verbose, callbacks, validation_split, validation_data, shuffle, class_weight, sample_weight, initial_epoch, steps_per_epoch, validation_steps, validation_batch_size, validation_freq, max_queue_size, workers, use_multiprocessing)\u001b[0m\n",
      "\u001b[1;32m   1679\u001b[0m \u001b[38;5;28;01mif\u001b[39;00m \u001b[38;5;28mgetattr\u001b[39m(\u001b[38;5;28mself\u001b[39m, \u001b[38;5;124m\"\u001b[39m\u001b[38;5;124m_eval_data_handler\u001b[39m\u001b[38;5;124m\"\u001b[39m, \u001b[38;5;28;01mNone\u001b[39;00m) \u001b[38;5;129;01mis\u001b[39;00m \u001b[38;5;28;01mNone\u001b[39;00m:\n",
      "\u001b[1;32m   1680\u001b[0m     \u001b[38;5;28mself\u001b[39m\u001b[38;5;241m.\u001b[39m_eval_data_handler \u001b[38;5;241m=\u001b[39m data_adapter\u001b[38;5;241m.\u001b[39mget_data_handler(\n",
      "\u001b[1;32m   1681\u001b[0m         x\u001b[38;5;241m=\u001b[39mval_x,\n",
      "\u001b[1;32m   1682\u001b[0m         y\u001b[38;5;241m=\u001b[39mval_y,\n",
      "\u001b[0;32m   (...)\u001b[0m\n",
      "\u001b[1;32m   1692\u001b[0m         steps_per_execution\u001b[38;5;241m=\u001b[39m\u001b[38;5;28mself\u001b[39m\u001b[38;5;241m.\u001b[39m_steps_per_execution,\n",
      "\u001b[1;32m   1693\u001b[0m     )\n",
      "\u001b[0;32m-> 1694\u001b[0m val_logs \u001b[38;5;241m=\u001b[39m \u001b[38;5;28;43mself\u001b[39;49m\u001b[38;5;241;43m.\u001b[39;49m\u001b[43mevaluate\u001b[49m\u001b[43m(\u001b[49m\n",
      "\u001b[1;32m   1695\u001b[0m \u001b[43m    \u001b[49m\u001b[43mx\u001b[49m\u001b[38;5;241;43m=\u001b[39;49m\u001b[43mval_x\u001b[49m\u001b[43m,\u001b[49m\n",
      "\u001b[1;32m   1696\u001b[0m \u001b[43m    \u001b[49m\u001b[43my\u001b[49m\u001b[38;5;241;43m=\u001b[39;49m\u001b[43mval_y\u001b[49m\u001b[43m,\u001b[49m\n",
      "\u001b[1;32m   1697\u001b[0m \u001b[43m    \u001b[49m\u001b[43msample_weight\u001b[49m\u001b[38;5;241;43m=\u001b[39;49m\u001b[43mval_sample_weight\u001b[49m\u001b[43m,\u001b[49m\n",
      "\u001b[1;32m   1698\u001b[0m \u001b[43m    \u001b[49m\u001b[43mbatch_size\u001b[49m\u001b[38;5;241;43m=\u001b[39;49m\u001b[43mvalidation_batch_size\u001b[49m\u001b[43m \u001b[49m\u001b[38;5;129;43;01mor\u001b[39;49;00m\u001b[43m \u001b[49m\u001b[43mbatch_size\u001b[49m\u001b[43m,\u001b[49m\n",
      "\u001b[1;32m   1699\u001b[0m \u001b[43m    \u001b[49m\u001b[43msteps\u001b[49m\u001b[38;5;241;43m=\u001b[39;49m\u001b[43mvalidation_steps\u001b[49m\u001b[43m,\u001b[49m\n",
      "\u001b[1;32m   1700\u001b[0m \u001b[43m    \u001b[49m\u001b[43mcallbacks\u001b[49m\u001b[38;5;241;43m=\u001b[39;49m\u001b[43mcallbacks\u001b[49m\u001b[43m,\u001b[49m\n",
      "\u001b[1;32m   1701\u001b[0m \u001b[43m    \u001b[49m\u001b[43mmax_queue_size\u001b[49m\u001b[38;5;241;43m=\u001b[39;49m\u001b[43mmax_queue_size\u001b[49m\u001b[43m,\u001b[49m\n",
      "\u001b[1;32m   1702\u001b[0m \u001b[43m    \u001b[49m\u001b[43mworkers\u001b[49m\u001b[38;5;241;43m=\u001b[39;49m\u001b[43mworkers\u001b[49m\u001b[43m,\u001b[49m\n",
      "\u001b[1;32m   1703\u001b[0m \u001b[43m    \u001b[49m\u001b[43muse_multiprocessing\u001b[49m\u001b[38;5;241;43m=\u001b[39;49m\u001b[43muse_multiprocessing\u001b[49m\u001b[43m,\u001b[49m\n",
      "\u001b[1;32m   1704\u001b[0m \u001b[43m    \u001b[49m\u001b[43mreturn_dict\u001b[49m\u001b[38;5;241;43m=\u001b[39;49m\u001b[38;5;28;43;01mTrue\u001b[39;49;00m\u001b[43m,\u001b[49m\n",
      "\u001b[1;32m   1705\u001b[0m \u001b[43m    \u001b[49m\u001b[43m_use_cached_eval_dataset\u001b[49m\u001b[38;5;241;43m=\u001b[39;49m\u001b[38;5;28;43;01mTrue\u001b[39;49;00m\u001b[43m,\u001b[49m\n",
      "\u001b[1;32m   1706\u001b[0m \u001b[43m\u001b[49m\u001b[43m)\u001b[49m\n",
      "\u001b[1;32m   1707\u001b[0m val_logs \u001b[38;5;241m=\u001b[39m {\n",
      "\u001b[1;32m   1708\u001b[0m     \u001b[38;5;124m\"\u001b[39m\u001b[38;5;124mval_\u001b[39m\u001b[38;5;124m\"\u001b[39m \u001b[38;5;241m+\u001b[39m name: val \u001b[38;5;28;01mfor\u001b[39;00m name, val \u001b[38;5;129;01min\u001b[39;00m val_logs\u001b[38;5;241m.\u001b[39mitems()\n",
      "\u001b[1;32m   1709\u001b[0m }\n",
      "\u001b[1;32m   1710\u001b[0m epoch_logs\u001b[38;5;241m.\u001b[39mupdate(val_logs)\n",
      "\n",
      "File \u001b[0;32m/opt/conda/lib/python3.10/site-packages/keras/utils/traceback_utils.py:65\u001b[0m, in \u001b[0;36mfilter_traceback.<locals>.error_handler\u001b[0;34m(*args, **kwargs)\u001b[0m\n",
      "\u001b[1;32m     63\u001b[0m filtered_tb \u001b[38;5;241m=\u001b[39m \u001b[38;5;28;01mNone\u001b[39;00m\n",
      "\u001b[1;32m     64\u001b[0m \u001b[38;5;28;01mtry\u001b[39;00m:\n",
      "\u001b[0;32m---> 65\u001b[0m     \u001b[38;5;28;01mreturn\u001b[39;00m \u001b[43mfn\u001b[49m\u001b[43m(\u001b[49m\u001b[38;5;241;43m*\u001b[39;49m\u001b[43margs\u001b[49m\u001b[43m,\u001b[49m\u001b[43m \u001b[49m\u001b[38;5;241;43m*\u001b[39;49m\u001b[38;5;241;43m*\u001b[39;49m\u001b[43mkwargs\u001b[49m\u001b[43m)\u001b[49m\n",
      "\u001b[1;32m     66\u001b[0m \u001b[38;5;28;01mexcept\u001b[39;00m \u001b[38;5;167;01mException\u001b[39;00m \u001b[38;5;28;01mas\u001b[39;00m e:\n",
      "\u001b[1;32m     67\u001b[0m     filtered_tb \u001b[38;5;241m=\u001b[39m _process_traceback_frames(e\u001b[38;5;241m.\u001b[39m__traceback__)\n",
      "\n",
      "File \u001b[0;32m/opt/conda/lib/python3.10/site-packages/keras/engine/training.py:2040\u001b[0m, in \u001b[0;36mModel.evaluate\u001b[0;34m(self, x, y, batch_size, verbose, sample_weight, steps, callbacks, max_queue_size, workers, use_multiprocessing, return_dict, **kwargs)\u001b[0m\n",
      "\u001b[1;32m   2036\u001b[0m \u001b[38;5;28;01mwith\u001b[39;00m tf\u001b[38;5;241m.\u001b[39mprofiler\u001b[38;5;241m.\u001b[39mexperimental\u001b[38;5;241m.\u001b[39mTrace(\n",
      "\u001b[1;32m   2037\u001b[0m     \u001b[38;5;124m\"\u001b[39m\u001b[38;5;124mtest\u001b[39m\u001b[38;5;124m\"\u001b[39m, step_num\u001b[38;5;241m=\u001b[39mstep, _r\u001b[38;5;241m=\u001b[39m\u001b[38;5;241m1\u001b[39m\n",
      "\u001b[1;32m   2038\u001b[0m ):\n",
      "\u001b[1;32m   2039\u001b[0m     callbacks\u001b[38;5;241m.\u001b[39mon_test_batch_begin(step)\n",
      "\u001b[0;32m-> 2040\u001b[0m     tmp_logs \u001b[38;5;241m=\u001b[39m \u001b[38;5;28;43mself\u001b[39;49m\u001b[38;5;241;43m.\u001b[39;49m\u001b[43mtest_function\u001b[49m\u001b[43m(\u001b[49m\u001b[43miterator\u001b[49m\u001b[43m)\u001b[49m\n",
      "\u001b[1;32m   2041\u001b[0m     \u001b[38;5;28;01mif\u001b[39;00m data_handler\u001b[38;5;241m.\u001b[39mshould_sync:\n",
      "\u001b[1;32m   2042\u001b[0m         context\u001b[38;5;241m.\u001b[39masync_wait()\n",
      "\n",
      "File \u001b[0;32m/opt/conda/lib/python3.10/site-packages/tensorflow/python/util/traceback_utils.py:150\u001b[0m, in \u001b[0;36mfilter_traceback.<locals>.error_handler\u001b[0;34m(*args, **kwargs)\u001b[0m\n",
      "\u001b[1;32m    148\u001b[0m filtered_tb \u001b[38;5;241m=\u001b[39m \u001b[38;5;28;01mNone\u001b[39;00m\n",
      "\u001b[1;32m    149\u001b[0m \u001b[38;5;28;01mtry\u001b[39;00m:\n",
      "\u001b[0;32m--> 150\u001b[0m   \u001b[38;5;28;01mreturn\u001b[39;00m \u001b[43mfn\u001b[49m\u001b[43m(\u001b[49m\u001b[38;5;241;43m*\u001b[39;49m\u001b[43margs\u001b[49m\u001b[43m,\u001b[49m\u001b[43m \u001b[49m\u001b[38;5;241;43m*\u001b[39;49m\u001b[38;5;241;43m*\u001b[39;49m\u001b[43mkwargs\u001b[49m\u001b[43m)\u001b[49m\n",
      "\u001b[1;32m    151\u001b[0m \u001b[38;5;28;01mexcept\u001b[39;00m \u001b[38;5;167;01mException\u001b[39;00m \u001b[38;5;28;01mas\u001b[39;00m e:\n",
      "\u001b[1;32m    152\u001b[0m   filtered_tb \u001b[38;5;241m=\u001b[39m _process_traceback_frames(e\u001b[38;5;241m.\u001b[39m__traceback__)\n",
      "\n",
      "File \u001b[0;32m/opt/conda/lib/python3.10/site-packages/tensorflow/python/eager/polymorphic_function/polymorphic_function.py:880\u001b[0m, in \u001b[0;36mFunction.__call__\u001b[0;34m(self, *args, **kwds)\u001b[0m\n",
      "\u001b[1;32m    877\u001b[0m compiler \u001b[38;5;241m=\u001b[39m \u001b[38;5;124m\"\u001b[39m\u001b[38;5;124mxla\u001b[39m\u001b[38;5;124m\"\u001b[39m \u001b[38;5;28;01mif\u001b[39;00m \u001b[38;5;28mself\u001b[39m\u001b[38;5;241m.\u001b[39m_jit_compile \u001b[38;5;28;01melse\u001b[39;00m \u001b[38;5;124m\"\u001b[39m\u001b[38;5;124mnonXla\u001b[39m\u001b[38;5;124m\"\u001b[39m\n",
      "\u001b[1;32m    879\u001b[0m \u001b[38;5;28;01mwith\u001b[39;00m OptionalXlaContext(\u001b[38;5;28mself\u001b[39m\u001b[38;5;241m.\u001b[39m_jit_compile):\n",
      "\u001b[0;32m--> 880\u001b[0m   result \u001b[38;5;241m=\u001b[39m \u001b[38;5;28;43mself\u001b[39;49m\u001b[38;5;241;43m.\u001b[39;49m\u001b[43m_call\u001b[49m\u001b[43m(\u001b[49m\u001b[38;5;241;43m*\u001b[39;49m\u001b[43margs\u001b[49m\u001b[43m,\u001b[49m\u001b[43m \u001b[49m\u001b[38;5;241;43m*\u001b[39;49m\u001b[38;5;241;43m*\u001b[39;49m\u001b[43mkwds\u001b[49m\u001b[43m)\u001b[49m\n",
      "\u001b[1;32m    882\u001b[0m new_tracing_count \u001b[38;5;241m=\u001b[39m \u001b[38;5;28mself\u001b[39m\u001b[38;5;241m.\u001b[39mexperimental_get_tracing_count()\n",
      "\u001b[1;32m    883\u001b[0m without_tracing \u001b[38;5;241m=\u001b[39m (tracing_count \u001b[38;5;241m==\u001b[39m new_tracing_count)\n",
      "\n",
      "File \u001b[0;32m/opt/conda/lib/python3.10/site-packages/tensorflow/python/eager/polymorphic_function/polymorphic_function.py:919\u001b[0m, in \u001b[0;36mFunction._call\u001b[0;34m(self, *args, **kwds)\u001b[0m\n",
      "\u001b[1;32m    916\u001b[0m \u001b[38;5;28mself\u001b[39m\u001b[38;5;241m.\u001b[39m_lock\u001b[38;5;241m.\u001b[39mrelease()\n",
      "\u001b[1;32m    917\u001b[0m \u001b[38;5;66;03m# In this case we have not created variables on the first call. So we can\u001b[39;00m\n",
      "\u001b[1;32m    918\u001b[0m \u001b[38;5;66;03m# run the first trace but we should fail if variables are created.\u001b[39;00m\n",
      "\u001b[0;32m--> 919\u001b[0m results \u001b[38;5;241m=\u001b[39m \u001b[38;5;28;43mself\u001b[39;49m\u001b[38;5;241;43m.\u001b[39;49m\u001b[43m_variable_creation_fn\u001b[49m\u001b[43m(\u001b[49m\u001b[38;5;241;43m*\u001b[39;49m\u001b[43margs\u001b[49m\u001b[43m,\u001b[49m\u001b[43m \u001b[49m\u001b[38;5;241;43m*\u001b[39;49m\u001b[38;5;241;43m*\u001b[39;49m\u001b[43mkwds\u001b[49m\u001b[43m)\u001b[49m\n",
      "\u001b[1;32m    920\u001b[0m \u001b[38;5;28;01mif\u001b[39;00m \u001b[38;5;28mself\u001b[39m\u001b[38;5;241m.\u001b[39m_created_variables \u001b[38;5;129;01mand\u001b[39;00m \u001b[38;5;129;01mnot\u001b[39;00m ALLOW_DYNAMIC_VARIABLE_CREATION:\n",
      "\u001b[1;32m    921\u001b[0m   \u001b[38;5;28;01mraise\u001b[39;00m \u001b[38;5;167;01mValueError\u001b[39;00m(\u001b[38;5;124m\"\u001b[39m\u001b[38;5;124mCreating variables on a non-first call to a function\u001b[39m\u001b[38;5;124m\"\u001b[39m\n",
      "\u001b[1;32m    922\u001b[0m                    \u001b[38;5;124m\"\u001b[39m\u001b[38;5;124m decorated with tf.function.\u001b[39m\u001b[38;5;124m\"\u001b[39m)\n",
      "\n",
      "File \u001b[0;32m/opt/conda/lib/python3.10/site-packages/tensorflow/python/eager/polymorphic_function/tracing_compiler.py:134\u001b[0m, in \u001b[0;36mTracingCompiler.__call__\u001b[0;34m(self, *args, **kwargs)\u001b[0m\n",
      "\u001b[1;32m    131\u001b[0m \u001b[38;5;28;01mwith\u001b[39;00m \u001b[38;5;28mself\u001b[39m\u001b[38;5;241m.\u001b[39m_lock:\n",
      "\u001b[1;32m    132\u001b[0m   (concrete_function,\n",
      "\u001b[1;32m    133\u001b[0m    filtered_flat_args) \u001b[38;5;241m=\u001b[39m \u001b[38;5;28mself\u001b[39m\u001b[38;5;241m.\u001b[39m_maybe_define_function(args, kwargs)\n",
      "\u001b[0;32m--> 134\u001b[0m \u001b[38;5;28;01mreturn\u001b[39;00m \u001b[43mconcrete_function\u001b[49m\u001b[38;5;241;43m.\u001b[39;49m\u001b[43m_call_flat\u001b[49m\u001b[43m(\u001b[49m\n",
      "\u001b[1;32m    135\u001b[0m \u001b[43m    \u001b[49m\u001b[43mfiltered_flat_args\u001b[49m\u001b[43m,\u001b[49m\u001b[43m \u001b[49m\u001b[43mcaptured_inputs\u001b[49m\u001b[38;5;241;43m=\u001b[39;49m\u001b[43mconcrete_function\u001b[49m\u001b[38;5;241;43m.\u001b[39;49m\u001b[43mcaptured_inputs\u001b[49m\u001b[43m)\u001b[49m\n",
      "\n",
      "File \u001b[0;32m/opt/conda/lib/python3.10/site-packages/tensorflow/python/eager/polymorphic_function/monomorphic_function.py:1745\u001b[0m, in \u001b[0;36mConcreteFunction._call_flat\u001b[0;34m(self, args, captured_inputs, cancellation_manager)\u001b[0m\n",
      "\u001b[1;32m   1741\u001b[0m possible_gradient_type \u001b[38;5;241m=\u001b[39m gradients_util\u001b[38;5;241m.\u001b[39mPossibleTapeGradientTypes(args)\n",
      "\u001b[1;32m   1742\u001b[0m \u001b[38;5;28;01mif\u001b[39;00m (possible_gradient_type \u001b[38;5;241m==\u001b[39m gradients_util\u001b[38;5;241m.\u001b[39mPOSSIBLE_GRADIENT_TYPES_NONE\n",
      "\u001b[1;32m   1743\u001b[0m     \u001b[38;5;129;01mand\u001b[39;00m executing_eagerly):\n",
      "\u001b[1;32m   1744\u001b[0m   \u001b[38;5;66;03m# No tape is watching; skip to running the function.\u001b[39;00m\n",
      "\u001b[0;32m-> 1745\u001b[0m   \u001b[38;5;28;01mreturn\u001b[39;00m \u001b[38;5;28mself\u001b[39m\u001b[38;5;241m.\u001b[39m_build_call_outputs(\u001b[38;5;28;43mself\u001b[39;49m\u001b[38;5;241;43m.\u001b[39;49m\u001b[43m_inference_function\u001b[49m\u001b[38;5;241;43m.\u001b[39;49m\u001b[43mcall\u001b[49m\u001b[43m(\u001b[49m\n",
      "\u001b[1;32m   1746\u001b[0m \u001b[43m      \u001b[49m\u001b[43mctx\u001b[49m\u001b[43m,\u001b[49m\u001b[43m \u001b[49m\u001b[43margs\u001b[49m\u001b[43m,\u001b[49m\u001b[43m \u001b[49m\u001b[43mcancellation_manager\u001b[49m\u001b[38;5;241;43m=\u001b[39;49m\u001b[43mcancellation_manager\u001b[49m\u001b[43m)\u001b[49m)\n",
      "\u001b[1;32m   1747\u001b[0m forward_backward \u001b[38;5;241m=\u001b[39m \u001b[38;5;28mself\u001b[39m\u001b[38;5;241m.\u001b[39m_select_forward_and_backward_functions(\n",
      "\u001b[1;32m   1748\u001b[0m     args,\n",
      "\u001b[1;32m   1749\u001b[0m     possible_gradient_type,\n",
      "\u001b[1;32m   1750\u001b[0m     executing_eagerly)\n",
      "\u001b[1;32m   1751\u001b[0m forward_function, args_with_tangents \u001b[38;5;241m=\u001b[39m forward_backward\u001b[38;5;241m.\u001b[39mforward()\n",
      "\n",
      "File \u001b[0;32m/opt/conda/lib/python3.10/site-packages/tensorflow/python/eager/polymorphic_function/monomorphic_function.py:378\u001b[0m, in \u001b[0;36m_EagerDefinedFunction.call\u001b[0;34m(self, ctx, args, cancellation_manager)\u001b[0m\n",
      "\u001b[1;32m    376\u001b[0m \u001b[38;5;28;01mwith\u001b[39;00m _InterpolateFunctionError(\u001b[38;5;28mself\u001b[39m):\n",
      "\u001b[1;32m    377\u001b[0m   \u001b[38;5;28;01mif\u001b[39;00m cancellation_manager \u001b[38;5;129;01mis\u001b[39;00m \u001b[38;5;28;01mNone\u001b[39;00m:\n",
      "\u001b[0;32m--> 378\u001b[0m     outputs \u001b[38;5;241m=\u001b[39m \u001b[43mexecute\u001b[49m\u001b[38;5;241;43m.\u001b[39;49m\u001b[43mexecute\u001b[49m\u001b[43m(\u001b[49m\n",
      "\u001b[1;32m    379\u001b[0m \u001b[43m        \u001b[49m\u001b[38;5;28;43mstr\u001b[39;49m\u001b[43m(\u001b[49m\u001b[38;5;28;43mself\u001b[39;49m\u001b[38;5;241;43m.\u001b[39;49m\u001b[43msignature\u001b[49m\u001b[38;5;241;43m.\u001b[39;49m\u001b[43mname\u001b[49m\u001b[43m)\u001b[49m\u001b[43m,\u001b[49m\n",
      "\u001b[1;32m    380\u001b[0m \u001b[43m        \u001b[49m\u001b[43mnum_outputs\u001b[49m\u001b[38;5;241;43m=\u001b[39;49m\u001b[38;5;28;43mself\u001b[39;49m\u001b[38;5;241;43m.\u001b[39;49m\u001b[43m_num_outputs\u001b[49m\u001b[43m,\u001b[49m\n",
      "\u001b[1;32m    381\u001b[0m \u001b[43m        \u001b[49m\u001b[43minputs\u001b[49m\u001b[38;5;241;43m=\u001b[39;49m\u001b[43margs\u001b[49m\u001b[43m,\u001b[49m\n",
      "\u001b[1;32m    382\u001b[0m \u001b[43m        \u001b[49m\u001b[43mattrs\u001b[49m\u001b[38;5;241;43m=\u001b[39;49m\u001b[43mattrs\u001b[49m\u001b[43m,\u001b[49m\n",
      "\u001b[1;32m    383\u001b[0m \u001b[43m        \u001b[49m\u001b[43mctx\u001b[49m\u001b[38;5;241;43m=\u001b[39;49m\u001b[43mctx\u001b[49m\u001b[43m)\u001b[49m\n",
      "\u001b[1;32m    384\u001b[0m   \u001b[38;5;28;01melse\u001b[39;00m:\n",
      "\u001b[1;32m    385\u001b[0m     outputs \u001b[38;5;241m=\u001b[39m execute\u001b[38;5;241m.\u001b[39mexecute_with_cancellation(\n",
      "\u001b[1;32m    386\u001b[0m         \u001b[38;5;28mstr\u001b[39m(\u001b[38;5;28mself\u001b[39m\u001b[38;5;241m.\u001b[39msignature\u001b[38;5;241m.\u001b[39mname),\n",
      "\u001b[1;32m    387\u001b[0m         num_outputs\u001b[38;5;241m=\u001b[39m\u001b[38;5;28mself\u001b[39m\u001b[38;5;241m.\u001b[39m_num_outputs,\n",
      "\u001b[0;32m   (...)\u001b[0m\n",
      "\u001b[1;32m    390\u001b[0m         ctx\u001b[38;5;241m=\u001b[39mctx,\n",
      "\u001b[1;32m    391\u001b[0m         cancellation_manager\u001b[38;5;241m=\u001b[39mcancellation_manager)\n",
      "\n",
      "File \u001b[0;32m/opt/conda/lib/python3.10/site-packages/tensorflow/python/eager/execute.py:52\u001b[0m, in \u001b[0;36mquick_execute\u001b[0;34m(op_name, num_outputs, inputs, attrs, ctx, name)\u001b[0m\n",
      "\u001b[1;32m     50\u001b[0m \u001b[38;5;28;01mtry\u001b[39;00m:\n",
      "\u001b[1;32m     51\u001b[0m   ctx\u001b[38;5;241m.\u001b[39mensure_initialized()\n",
      "\u001b[0;32m---> 52\u001b[0m   tensors \u001b[38;5;241m=\u001b[39m \u001b[43mpywrap_tfe\u001b[49m\u001b[38;5;241;43m.\u001b[39;49m\u001b[43mTFE_Py_Execute\u001b[49m\u001b[43m(\u001b[49m\u001b[43mctx\u001b[49m\u001b[38;5;241;43m.\u001b[39;49m\u001b[43m_handle\u001b[49m\u001b[43m,\u001b[49m\u001b[43m \u001b[49m\u001b[43mdevice_name\u001b[49m\u001b[43m,\u001b[49m\u001b[43m \u001b[49m\u001b[43mop_name\u001b[49m\u001b[43m,\u001b[49m\n",
      "\u001b[1;32m     53\u001b[0m \u001b[43m                                      \u001b[49m\u001b[43minputs\u001b[49m\u001b[43m,\u001b[49m\u001b[43m \u001b[49m\u001b[43mattrs\u001b[49m\u001b[43m,\u001b[49m\u001b[43m \u001b[49m\u001b[43mnum_outputs\u001b[49m\u001b[43m)\u001b[49m\n",
      "\u001b[1;32m     54\u001b[0m \u001b[38;5;28;01mexcept\u001b[39;00m core\u001b[38;5;241m.\u001b[39m_NotOkStatusException \u001b[38;5;28;01mas\u001b[39;00m e:\n",
      "\u001b[1;32m     55\u001b[0m   \u001b[38;5;28;01mif\u001b[39;00m name \u001b[38;5;129;01mis\u001b[39;00m \u001b[38;5;129;01mnot\u001b[39;00m \u001b[38;5;28;01mNone\u001b[39;00m:\n",
      "\n",
      "\u001b[0;31mKeyboardInterrupt\u001b[0m: "
     ]
    }
   ],
   "source": [
    "history = model.fit(train_data.repeat(),\n",
    "                    epochs=EPOCHS,\n",
    "                    validation_data=val_data,\n",
    "                    steps_per_epoch=steps_per_epoch,\n",
    "                    validation_steps=validation_steps,\n",
    "                    callbacks=[\n",
    "                        # decay_callback,\n",
    "                        csv_logger,\n",
    "                        create_model_checkpoint(model_name = 'capgen', save_dir = 'checkpoints', monitor = 'masked_acc'),\n",
    "                        tensorboard_callback\n",
    "                                ]\n",
    "                    )"
   ]
  },
  {
   "cell_type": "code",
   "execution_count": null,
   "metadata": {},
   "outputs": [],
   "source": [
    "from funcyou.plot import plot_history"
   ]
  },
  {
   "cell_type": "code",
   "execution_count": null,
   "metadata": {},
   "outputs": [
    {
     "ename": "NameError",
     "evalue": "name 'history' is not defined",
     "output_type": "error",
     "traceback": [
      "\u001b[0;31m---------------------------------------------------------------------------\u001b[0m\n",
      "\u001b[0;31mNameError\u001b[0m                                 Traceback (most recent call last)\n",
      "Cell \u001b[0;32mIn[58], line 1\u001b[0m\n",
      "\u001b[0;32m----> 1\u001b[0m plot_history(\u001b[43mhistory\u001b[49m,plot \u001b[38;5;241m=\u001b[39m [\u001b[38;5;124m'\u001b[39m\u001b[38;5;124mloss\u001b[39m\u001b[38;5;124m'\u001b[39m,\u001b[38;5;124m'\u001b[39m\u001b[38;5;124mmasked_acc\u001b[39m\u001b[38;5;124m'\u001b[39m], split \u001b[38;5;241m=\u001b[39m [\u001b[38;5;124m'\u001b[39m\u001b[38;5;124mtrain\u001b[39m\u001b[38;5;124m'\u001b[39m,\u001b[38;5;124m'\u001b[39m\u001b[38;5;124mval\u001b[39m\u001b[38;5;124m'\u001b[39m], )\n",
      "\n",
      "\u001b[0;31mNameError\u001b[0m: name 'history' is not defined"
     ]
    }
   ],
   "source": [
    "plot_history(history,plot = ['loss','masked_acc'], split = ['train','val'], )"
   ]
  },
  {
   "cell_type": "code",
   "execution_count": null,
   "metadata": {},
   "outputs": [],
   "source": [
    "# %tensorboard --logdir logs/gradient_tape\n"
   ]
  },
  {
   "attachments": {},
   "cell_type": "markdown",
   "metadata": {},
   "source": [
    "## Saving the Model"
   ]
  },
  {
   "cell_type": "code",
   "execution_count": null,
   "metadata": {},
   "outputs": [],
   "source": [
    "from datetime import datetime"
   ]
  },
  {
   "cell_type": "code",
   "execution_count": null,
   "metadata": {},
   "outputs": [],
   "source": [
    "# model.save(f'saved_model/best-{datetime.now()}-{EPOCHS}.h5')\n",
    "# model.save_weights(f'model_weights/best_so_far_final/')"
   ]
  },
  {
   "cell_type": "code",
   "execution_count": null,
   "metadata": {},
   "outputs": [],
   "source": [
    "!ls saved_model"
   ]
  },
  {
   "cell_type": "code",
   "execution_count": null,
   "metadata": {},
   "outputs": [],
   "source": [
    "!ls -la -h 'saved_model/'"
   ]
  },
  {
   "attachments": {},
   "cell_type": "markdown",
   "metadata": {},
   "source": [
    "# Prediction"
   ]
  },
  {
   "cell_type": "code",
   "execution_count": null,
   "metadata": {},
   "outputs": [],
   "source": [
    "pred = model.predict(test_data.take(1))\n",
    "print(pred.shape)"
   ]
  },
  {
   "cell_type": "code",
   "execution_count": null,
   "metadata": {},
   "outputs": [],
   "source": [
    "ppred = tf.argmax(pred, axis = -1)\n",
    "print(ppred.shape)"
   ]
  },
  {
   "cell_type": "code",
   "execution_count": null,
   "metadata": {},
   "outputs": [],
   "source": [
    "for i in ppred:\n",
    "    print(tf.strings.join(id_to_word(i), ' ').numpy())\n",
    "    print('')"
   ]
  },
  {
   "cell_type": "code",
   "execution_count": null,
   "metadata": {},
   "outputs": [],
   "source": []
  },
  {
   "cell_type": "code",
   "execution_count": null,
   "metadata": {},
   "outputs": [],
   "source": []
  }
 ],
 "metadata": {
  "kernelspec": {
   "display_name": "tf_new",
   "language": "python",
   "name": "tf_new"
  },
  "language_info": {
   "codemirror_mode": {
    "name": "ipython",
    "version": 3
   },
   "file_extension": ".py",
   "mimetype": "text/x-python",
   "name": "python",
   "nbconvert_exporter": "python",
   "pygments_lexer": "ipython3",
   "version": "3.9.16"
  },
  "orig_nbformat": 4
 },
 "nbformat": 4,
 "nbformat_minor": 2
}
